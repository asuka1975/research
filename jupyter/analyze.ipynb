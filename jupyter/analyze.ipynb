{
 "cells": [
  {
   "cell_type": "code",
   "execution_count": 1,
   "id": "79bde380",
   "metadata": {},
   "outputs": [
    {
     "data": {
      "text/html": [
       "<div class=\"bk-root\">\n",
       "        <a href=\"https://bokeh.org\" target=\"_blank\" class=\"bk-logo bk-logo-small bk-logo-notebook\"></a>\n",
       "        <span id=\"1002\">Loading BokehJS ...</span>\n",
       "    </div>\n"
      ]
     },
     "metadata": {},
     "output_type": "display_data"
    },
    {
     "data": {
      "application/javascript": [
       "(function(root) {\n",
       "  function now() {\n",
       "    return new Date();\n",
       "  }\n",
       "\n",
       "  const force = true;\n",
       "\n",
       "  if (typeof root._bokeh_onload_callbacks === \"undefined\" || force === true) {\n",
       "    root._bokeh_onload_callbacks = [];\n",
       "    root._bokeh_is_loading = undefined;\n",
       "  }\n",
       "\n",
       "const JS_MIME_TYPE = 'application/javascript';\n",
       "  const HTML_MIME_TYPE = 'text/html';\n",
       "  const EXEC_MIME_TYPE = 'application/vnd.bokehjs_exec.v0+json';\n",
       "  const CLASS_NAME = 'output_bokeh rendered_html';\n",
       "\n",
       "  /**\n",
       "   * Render data to the DOM node\n",
       "   */\n",
       "  function render(props, node) {\n",
       "    const script = document.createElement(\"script\");\n",
       "    node.appendChild(script);\n",
       "  }\n",
       "\n",
       "  /**\n",
       "   * Handle when an output is cleared or removed\n",
       "   */\n",
       "  function handleClearOutput(event, handle) {\n",
       "    const cell = handle.cell;\n",
       "\n",
       "    const id = cell.output_area._bokeh_element_id;\n",
       "    const server_id = cell.output_area._bokeh_server_id;\n",
       "    // Clean up Bokeh references\n",
       "    if (id != null && id in Bokeh.index) {\n",
       "      Bokeh.index[id].model.document.clear();\n",
       "      delete Bokeh.index[id];\n",
       "    }\n",
       "\n",
       "    if (server_id !== undefined) {\n",
       "      // Clean up Bokeh references\n",
       "      const cmd_clean = \"from bokeh.io.state import curstate; print(curstate().uuid_to_server['\" + server_id + \"'].get_sessions()[0].document.roots[0]._id)\";\n",
       "      cell.notebook.kernel.execute(cmd_clean, {\n",
       "        iopub: {\n",
       "          output: function(msg) {\n",
       "            const id = msg.content.text.trim();\n",
       "            if (id in Bokeh.index) {\n",
       "              Bokeh.index[id].model.document.clear();\n",
       "              delete Bokeh.index[id];\n",
       "            }\n",
       "          }\n",
       "        }\n",
       "      });\n",
       "      // Destroy server and session\n",
       "      const cmd_destroy = \"import bokeh.io.notebook as ion; ion.destroy_server('\" + server_id + \"')\";\n",
       "      cell.notebook.kernel.execute(cmd_destroy);\n",
       "    }\n",
       "  }\n",
       "\n",
       "  /**\n",
       "   * Handle when a new output is added\n",
       "   */\n",
       "  function handleAddOutput(event, handle) {\n",
       "    const output_area = handle.output_area;\n",
       "    const output = handle.output;\n",
       "\n",
       "    // limit handleAddOutput to display_data with EXEC_MIME_TYPE content only\n",
       "    if ((output.output_type != \"display_data\") || (!Object.prototype.hasOwnProperty.call(output.data, EXEC_MIME_TYPE))) {\n",
       "      return\n",
       "    }\n",
       "\n",
       "    const toinsert = output_area.element.find(\".\" + CLASS_NAME.split(' ')[0]);\n",
       "\n",
       "    if (output.metadata[EXEC_MIME_TYPE][\"id\"] !== undefined) {\n",
       "      toinsert[toinsert.length - 1].firstChild.textContent = output.data[JS_MIME_TYPE];\n",
       "      // store reference to embed id on output_area\n",
       "      output_area._bokeh_element_id = output.metadata[EXEC_MIME_TYPE][\"id\"];\n",
       "    }\n",
       "    if (output.metadata[EXEC_MIME_TYPE][\"server_id\"] !== undefined) {\n",
       "      const bk_div = document.createElement(\"div\");\n",
       "      bk_div.innerHTML = output.data[HTML_MIME_TYPE];\n",
       "      const script_attrs = bk_div.children[0].attributes;\n",
       "      for (let i = 0; i < script_attrs.length; i++) {\n",
       "        toinsert[toinsert.length - 1].firstChild.setAttribute(script_attrs[i].name, script_attrs[i].value);\n",
       "        toinsert[toinsert.length - 1].firstChild.textContent = bk_div.children[0].textContent\n",
       "      }\n",
       "      // store reference to server id on output_area\n",
       "      output_area._bokeh_server_id = output.metadata[EXEC_MIME_TYPE][\"server_id\"];\n",
       "    }\n",
       "  }\n",
       "\n",
       "  function register_renderer(events, OutputArea) {\n",
       "\n",
       "    function append_mime(data, metadata, element) {\n",
       "      // create a DOM node to render to\n",
       "      const toinsert = this.create_output_subarea(\n",
       "        metadata,\n",
       "        CLASS_NAME,\n",
       "        EXEC_MIME_TYPE\n",
       "      );\n",
       "      this.keyboard_manager.register_events(toinsert);\n",
       "      // Render to node\n",
       "      const props = {data: data, metadata: metadata[EXEC_MIME_TYPE]};\n",
       "      render(props, toinsert[toinsert.length - 1]);\n",
       "      element.append(toinsert);\n",
       "      return toinsert\n",
       "    }\n",
       "\n",
       "    /* Handle when an output is cleared or removed */\n",
       "    events.on('clear_output.CodeCell', handleClearOutput);\n",
       "    events.on('delete.Cell', handleClearOutput);\n",
       "\n",
       "    /* Handle when a new output is added */\n",
       "    events.on('output_added.OutputArea', handleAddOutput);\n",
       "\n",
       "    /**\n",
       "     * Register the mime type and append_mime function with output_area\n",
       "     */\n",
       "    OutputArea.prototype.register_mime_type(EXEC_MIME_TYPE, append_mime, {\n",
       "      /* Is output safe? */\n",
       "      safe: true,\n",
       "      /* Index of renderer in `output_area.display_order` */\n",
       "      index: 0\n",
       "    });\n",
       "  }\n",
       "\n",
       "  // register the mime type if in Jupyter Notebook environment and previously unregistered\n",
       "  if (root.Jupyter !== undefined) {\n",
       "    const events = require('base/js/events');\n",
       "    const OutputArea = require('notebook/js/outputarea').OutputArea;\n",
       "\n",
       "    if (OutputArea.prototype.mime_types().indexOf(EXEC_MIME_TYPE) == -1) {\n",
       "      register_renderer(events, OutputArea);\n",
       "    }\n",
       "  }\n",
       "  if (typeof (root._bokeh_timeout) === \"undefined\" || force === true) {\n",
       "    root._bokeh_timeout = Date.now() + 5000;\n",
       "    root._bokeh_failed_load = false;\n",
       "  }\n",
       "\n",
       "  const NB_LOAD_WARNING = {'data': {'text/html':\n",
       "     \"<div style='background-color: #fdd'>\\n\"+\n",
       "     \"<p>\\n\"+\n",
       "     \"BokehJS does not appear to have successfully loaded. If loading BokehJS from CDN, this \\n\"+\n",
       "     \"may be due to a slow or bad network connection. Possible fixes:\\n\"+\n",
       "     \"</p>\\n\"+\n",
       "     \"<ul>\\n\"+\n",
       "     \"<li>re-rerun `output_notebook()` to attempt to load from CDN again, or</li>\\n\"+\n",
       "     \"<li>use INLINE resources instead, as so:</li>\\n\"+\n",
       "     \"</ul>\\n\"+\n",
       "     \"<code>\\n\"+\n",
       "     \"from bokeh.resources import INLINE\\n\"+\n",
       "     \"output_notebook(resources=INLINE)\\n\"+\n",
       "     \"</code>\\n\"+\n",
       "     \"</div>\"}};\n",
       "\n",
       "  function display_loaded() {\n",
       "    const el = document.getElementById(\"1002\");\n",
       "    if (el != null) {\n",
       "      el.textContent = \"BokehJS is loading...\";\n",
       "    }\n",
       "    if (root.Bokeh !== undefined) {\n",
       "      if (el != null) {\n",
       "        el.textContent = \"BokehJS \" + root.Bokeh.version + \" successfully loaded.\";\n",
       "      }\n",
       "    } else if (Date.now() < root._bokeh_timeout) {\n",
       "      setTimeout(display_loaded, 100)\n",
       "    }\n",
       "  }\n",
       "\n",
       "  function run_callbacks() {\n",
       "    try {\n",
       "      root._bokeh_onload_callbacks.forEach(function(callback) {\n",
       "        if (callback != null)\n",
       "          callback();\n",
       "      });\n",
       "    } finally {\n",
       "      delete root._bokeh_onload_callbacks\n",
       "    }\n",
       "    console.debug(\"Bokeh: all callbacks have finished\");\n",
       "  }\n",
       "\n",
       "  function load_libs(css_urls, js_urls, callback) {\n",
       "    if (css_urls == null) css_urls = [];\n",
       "    if (js_urls == null) js_urls = [];\n",
       "\n",
       "    root._bokeh_onload_callbacks.push(callback);\n",
       "    if (root._bokeh_is_loading > 0) {\n",
       "      console.debug(\"Bokeh: BokehJS is being loaded, scheduling callback at\", now());\n",
       "      return null;\n",
       "    }\n",
       "    if (js_urls == null || js_urls.length === 0) {\n",
       "      run_callbacks();\n",
       "      return null;\n",
       "    }\n",
       "    console.debug(\"Bokeh: BokehJS not loaded, scheduling load and callback at\", now());\n",
       "    root._bokeh_is_loading = css_urls.length + js_urls.length;\n",
       "\n",
       "    function on_load() {\n",
       "      root._bokeh_is_loading--;\n",
       "      if (root._bokeh_is_loading === 0) {\n",
       "        console.debug(\"Bokeh: all BokehJS libraries/stylesheets loaded\");\n",
       "        run_callbacks()\n",
       "      }\n",
       "    }\n",
       "\n",
       "    function on_error(url) {\n",
       "      console.error(\"failed to load \" + url);\n",
       "    }\n",
       "\n",
       "    for (let i = 0; i < css_urls.length; i++) {\n",
       "      const url = css_urls[i];\n",
       "      const element = document.createElement(\"link\");\n",
       "      element.onload = on_load;\n",
       "      element.onerror = on_error.bind(null, url);\n",
       "      element.rel = \"stylesheet\";\n",
       "      element.type = \"text/css\";\n",
       "      element.href = url;\n",
       "      console.debug(\"Bokeh: injecting link tag for BokehJS stylesheet: \", url);\n",
       "      document.body.appendChild(element);\n",
       "    }\n",
       "\n",
       "    for (let i = 0; i < js_urls.length; i++) {\n",
       "      const url = js_urls[i];\n",
       "      const element = document.createElement('script');\n",
       "      element.onload = on_load;\n",
       "      element.onerror = on_error.bind(null, url);\n",
       "      element.async = false;\n",
       "      element.src = url;\n",
       "      console.debug(\"Bokeh: injecting script tag for BokehJS library: \", url);\n",
       "      document.head.appendChild(element);\n",
       "    }\n",
       "  };\n",
       "\n",
       "  function inject_raw_css(css) {\n",
       "    const element = document.createElement(\"style\");\n",
       "    element.appendChild(document.createTextNode(css));\n",
       "    document.body.appendChild(element);\n",
       "  }\n",
       "\n",
       "  const js_urls = [\"https://cdn.bokeh.org/bokeh/release/bokeh-2.4.3.min.js\", \"https://cdn.bokeh.org/bokeh/release/bokeh-gl-2.4.3.min.js\", \"https://cdn.bokeh.org/bokeh/release/bokeh-widgets-2.4.3.min.js\", \"https://cdn.bokeh.org/bokeh/release/bokeh-tables-2.4.3.min.js\", \"https://cdn.bokeh.org/bokeh/release/bokeh-mathjax-2.4.3.min.js\"];\n",
       "  const css_urls = [];\n",
       "\n",
       "  const inline_js = [    function(Bokeh) {\n",
       "      Bokeh.set_log_level(\"info\");\n",
       "    },\n",
       "function(Bokeh) {\n",
       "    }\n",
       "  ];\n",
       "\n",
       "  function run_inline_js() {\n",
       "    if (root.Bokeh !== undefined || force === true) {\n",
       "          for (let i = 0; i < inline_js.length; i++) {\n",
       "      inline_js[i].call(root, root.Bokeh);\n",
       "    }\n",
       "if (force === true) {\n",
       "        display_loaded();\n",
       "      }} else if (Date.now() < root._bokeh_timeout) {\n",
       "      setTimeout(run_inline_js, 100);\n",
       "    } else if (!root._bokeh_failed_load) {\n",
       "      console.log(\"Bokeh: BokehJS failed to load within specified timeout.\");\n",
       "      root._bokeh_failed_load = true;\n",
       "    } else if (force !== true) {\n",
       "      const cell = $(document.getElementById(\"1002\")).parents('.cell').data().cell;\n",
       "      cell.output_area.append_execute_result(NB_LOAD_WARNING)\n",
       "    }\n",
       "  }\n",
       "\n",
       "  if (root._bokeh_is_loading === 0) {\n",
       "    console.debug(\"Bokeh: BokehJS loaded, going straight to plotting\");\n",
       "    run_inline_js();\n",
       "  } else {\n",
       "    load_libs(css_urls, js_urls, function() {\n",
       "      console.debug(\"Bokeh: BokehJS plotting callback run at\", now());\n",
       "      run_inline_js();\n",
       "    });\n",
       "  }\n",
       "}(window));"
      ],
      "application/vnd.bokehjs_load.v0+json": "(function(root) {\n  function now() {\n    return new Date();\n  }\n\n  const force = true;\n\n  if (typeof root._bokeh_onload_callbacks === \"undefined\" || force === true) {\n    root._bokeh_onload_callbacks = [];\n    root._bokeh_is_loading = undefined;\n  }\n\n\n  if (typeof (root._bokeh_timeout) === \"undefined\" || force === true) {\n    root._bokeh_timeout = Date.now() + 5000;\n    root._bokeh_failed_load = false;\n  }\n\n  const NB_LOAD_WARNING = {'data': {'text/html':\n     \"<div style='background-color: #fdd'>\\n\"+\n     \"<p>\\n\"+\n     \"BokehJS does not appear to have successfully loaded. If loading BokehJS from CDN, this \\n\"+\n     \"may be due to a slow or bad network connection. Possible fixes:\\n\"+\n     \"</p>\\n\"+\n     \"<ul>\\n\"+\n     \"<li>re-rerun `output_notebook()` to attempt to load from CDN again, or</li>\\n\"+\n     \"<li>use INLINE resources instead, as so:</li>\\n\"+\n     \"</ul>\\n\"+\n     \"<code>\\n\"+\n     \"from bokeh.resources import INLINE\\n\"+\n     \"output_notebook(resources=INLINE)\\n\"+\n     \"</code>\\n\"+\n     \"</div>\"}};\n\n  function display_loaded() {\n    const el = document.getElementById(\"1002\");\n    if (el != null) {\n      el.textContent = \"BokehJS is loading...\";\n    }\n    if (root.Bokeh !== undefined) {\n      if (el != null) {\n        el.textContent = \"BokehJS \" + root.Bokeh.version + \" successfully loaded.\";\n      }\n    } else if (Date.now() < root._bokeh_timeout) {\n      setTimeout(display_loaded, 100)\n    }\n  }\n\n  function run_callbacks() {\n    try {\n      root._bokeh_onload_callbacks.forEach(function(callback) {\n        if (callback != null)\n          callback();\n      });\n    } finally {\n      delete root._bokeh_onload_callbacks\n    }\n    console.debug(\"Bokeh: all callbacks have finished\");\n  }\n\n  function load_libs(css_urls, js_urls, callback) {\n    if (css_urls == null) css_urls = [];\n    if (js_urls == null) js_urls = [];\n\n    root._bokeh_onload_callbacks.push(callback);\n    if (root._bokeh_is_loading > 0) {\n      console.debug(\"Bokeh: BokehJS is being loaded, scheduling callback at\", now());\n      return null;\n    }\n    if (js_urls == null || js_urls.length === 0) {\n      run_callbacks();\n      return null;\n    }\n    console.debug(\"Bokeh: BokehJS not loaded, scheduling load and callback at\", now());\n    root._bokeh_is_loading = css_urls.length + js_urls.length;\n\n    function on_load() {\n      root._bokeh_is_loading--;\n      if (root._bokeh_is_loading === 0) {\n        console.debug(\"Bokeh: all BokehJS libraries/stylesheets loaded\");\n        run_callbacks()\n      }\n    }\n\n    function on_error(url) {\n      console.error(\"failed to load \" + url);\n    }\n\n    for (let i = 0; i < css_urls.length; i++) {\n      const url = css_urls[i];\n      const element = document.createElement(\"link\");\n      element.onload = on_load;\n      element.onerror = on_error.bind(null, url);\n      element.rel = \"stylesheet\";\n      element.type = \"text/css\";\n      element.href = url;\n      console.debug(\"Bokeh: injecting link tag for BokehJS stylesheet: \", url);\n      document.body.appendChild(element);\n    }\n\n    for (let i = 0; i < js_urls.length; i++) {\n      const url = js_urls[i];\n      const element = document.createElement('script');\n      element.onload = on_load;\n      element.onerror = on_error.bind(null, url);\n      element.async = false;\n      element.src = url;\n      console.debug(\"Bokeh: injecting script tag for BokehJS library: \", url);\n      document.head.appendChild(element);\n    }\n  };\n\n  function inject_raw_css(css) {\n    const element = document.createElement(\"style\");\n    element.appendChild(document.createTextNode(css));\n    document.body.appendChild(element);\n  }\n\n  const js_urls = [\"https://cdn.bokeh.org/bokeh/release/bokeh-2.4.3.min.js\", \"https://cdn.bokeh.org/bokeh/release/bokeh-gl-2.4.3.min.js\", \"https://cdn.bokeh.org/bokeh/release/bokeh-widgets-2.4.3.min.js\", \"https://cdn.bokeh.org/bokeh/release/bokeh-tables-2.4.3.min.js\", \"https://cdn.bokeh.org/bokeh/release/bokeh-mathjax-2.4.3.min.js\"];\n  const css_urls = [];\n\n  const inline_js = [    function(Bokeh) {\n      Bokeh.set_log_level(\"info\");\n    },\nfunction(Bokeh) {\n    }\n  ];\n\n  function run_inline_js() {\n    if (root.Bokeh !== undefined || force === true) {\n          for (let i = 0; i < inline_js.length; i++) {\n      inline_js[i].call(root, root.Bokeh);\n    }\nif (force === true) {\n        display_loaded();\n      }} else if (Date.now() < root._bokeh_timeout) {\n      setTimeout(run_inline_js, 100);\n    } else if (!root._bokeh_failed_load) {\n      console.log(\"Bokeh: BokehJS failed to load within specified timeout.\");\n      root._bokeh_failed_load = true;\n    } else if (force !== true) {\n      const cell = $(document.getElementById(\"1002\")).parents('.cell').data().cell;\n      cell.output_area.append_execute_result(NB_LOAD_WARNING)\n    }\n  }\n\n  if (root._bokeh_is_loading === 0) {\n    console.debug(\"Bokeh: BokehJS loaded, going straight to plotting\");\n    run_inline_js();\n  } else {\n    load_libs(css_urls, js_urls, function() {\n      console.debug(\"Bokeh: BokehJS plotting callback run at\", now());\n      run_inline_js();\n    });\n  }\n}(window));"
     },
     "metadata": {},
     "output_type": "display_data"
    }
   ],
   "source": [
    "from research import archive\n",
    "from research import visualize\n",
    "\n",
    "from bokeh.layouts import gridplot\n",
    "from bokeh.plotting import show, output_notebook\n",
    "output_notebook()"
   ]
  },
  {
   "cell_type": "code",
   "execution_count": 2,
   "id": "40627855",
   "metadata": {
    "scrolled": true
   },
   "outputs": [
    {
     "data": {
      "text/html": [
       "<div>\n",
       "<style scoped>\n",
       "    .dataframe tbody tr th:only-of-type {\n",
       "        vertical-align: middle;\n",
       "    }\n",
       "\n",
       "    .dataframe tbody tr th {\n",
       "        vertical-align: top;\n",
       "    }\n",
       "\n",
       "    .dataframe thead th {\n",
       "        text-align: right;\n",
       "    }\n",
       "</style>\n",
       "<table border=\"1\" class=\"dataframe\">\n",
       "  <thead>\n",
       "    <tr style=\"text-align: right;\">\n",
       "      <th></th>\n",
       "      <th></th>\n",
       "      <th>trials</th>\n",
       "      <th>fitness_max</th>\n",
       "      <th>real_fitness_max</th>\n",
       "      <th>real_trials</th>\n",
       "    </tr>\n",
       "  </thead>\n",
       "  <tbody>\n",
       "    <tr>\n",
       "      <th>config_devnetwork_vae_0060ee3e7860c03e8baffa3ed1b0b53e072cc03c9d754b3eda9a943eb1eb143e36b1f93edf5a9d3e70a5f93e8bb0053ec35b533df9c1ed3d7775cc3de1a1273e0f2c573e8843c83ed287a63ef278ad3d-double_cartpole_real_fitness</th>\n",
       "      <th>2022-11-28 10_34_42.838716</th>\n",
       "      <td>[24, 20, 5, 6, 12, 9, 19, 17, 10, 16, 22, 13, ...</td>\n",
       "      <td>0.520784</td>\n",
       "      <td>0.520784</td>\n",
       "      <td>[20, 24, 9, 12, 19, 6, 8, 22, 10, 16, 13, 18, ...</td>\n",
       "    </tr>\n",
       "    <tr>\n",
       "      <th>config_devnetwork_vae_012eb63ed149bb3ee6ab7b3e8f4d193eb0f5cc3e51911f3eef8e863e69215e3e321ba83e3f2e323e471f293eb3e9fc3e2696e23de196d93e1979d03e5913b33ebc42483e6d8ce53ef2ad053eae0bbe3e-broken_cartpole</th>\n",
       "      <th>2022-11-19 18_16_37.006952</th>\n",
       "      <td>[5, 19, 22, 14, 9, 17, 12, 15, 0, 11, 21, 2, 2...</td>\n",
       "      <td>0.103636</td>\n",
       "      <td>0.103636</td>\n",
       "      <td>[5, 19, 14, 9, 17, 12, 15, 21, 2, 0, 11, 20, 8...</td>\n",
       "    </tr>\n",
       "    <tr>\n",
       "      <th>config_devnetwork_vae_0140d13d78d3c83d8714ef3be914843e42388e3d21241f3e08a4fe3e322f743ed427323e9ab4ad3e1eaee43da77dd23e1c806e3e112d6c3e953b713d2838173d6439e63d762cce3e2e37ba3e24c1a63e-broken_cartpole</th>\n",
       "      <th>2022-11-14 10_53_13.055189</th>\n",
       "      <td>[12, 0, 16, 6, 19, 20, 24, 1, 2, 18, 11, 5, 8,...</td>\n",
       "      <td>0.112727</td>\n",
       "      <td>0.112727</td>\n",
       "      <td>[12, 0, 16, 6, 19, 20, 24, 1, 2, 18, 11, 5, 8,...</td>\n",
       "    </tr>\n",
       "    <tr>\n",
       "      <th>config_devnetwork_vae_022a193e6917d43dc367db3dab5ceb3eac4d6a3e338b433c580ccd3ee5baf33e969c363e836cca3d6a15bc3efd17963eb4b3fe3ec668c73e03d5c83ee0b7563edd86393e27cfcc3e1b70b03e789b113e-broken_cartpole</th>\n",
       "      <th>2022-11-14 12_40_40.635263</th>\n",
       "      <td>[24, 16, 9, 11, 17, 18, 0, 20, 13, 22, 6, 7, 1...</td>\n",
       "      <td>0.109091</td>\n",
       "      <td>0.109091</td>\n",
       "      <td>[24, 16, 9, 11, 17, 18, 0, 20, 13, 22, 6, 7, 1...</td>\n",
       "    </tr>\n",
       "    <tr>\n",
       "      <th>config_devnetwork_vae_0638843e16457c3e87f6d13e370dec3e0d6bed3b2634b23e3fd5623e79f1a53ee297f23e37ff393e035f983e714eb53d3316533dab521b3c2fa3c33ec5ebe13cf34f2b3ea05cae3e5045f43e5399c63e-double_cartpole_real_fitness</th>\n",
       "      <th>2022-12-02 10_45_17.069482</th>\n",
       "      <td>[10, 8, 5, 21, 1, 12, 17, 23, 15, 11, 14, 2, 1...</td>\n",
       "      <td>0.524166</td>\n",
       "      <td>0.524166</td>\n",
       "      <td>[10, 5, 17, 1, 21, 23, 12, 14, 8, 15, 2, 19, 3...</td>\n",
       "    </tr>\n",
       "    <tr>\n",
       "      <th>...</th>\n",
       "      <th>...</th>\n",
       "      <td>...</td>\n",
       "      <td>...</td>\n",
       "      <td>...</td>\n",
       "      <td>...</td>\n",
       "    </tr>\n",
       "    <tr>\n",
       "      <th>config_devnetwork_vae_fb73d43e8200373e60cc9f3ecd66be3d1eec863e4b0c663e49a99b3e6e5a6a3eeb87043e1c3d8e3ec8270c3d1ebf393e1f03833ef167743ee5f7b23e2432df3e0054e73d75b4c83eadb7233e925a113d-broken_cartpole</th>\n",
       "      <th>2022-11-18 03_07_44.493057</th>\n",
       "      <td>[4, 0, 21, 2, 19, 22, 5, 8, 13, 24, 1, 10, 12,...</td>\n",
       "      <td>0.277632</td>\n",
       "      <td>0.277632</td>\n",
       "      <td>[4, 21, 2, 0, 19, 22, 5, 13, 24, 1, 10, 12, 18...</td>\n",
       "    </tr>\n",
       "    <tr>\n",
       "      <th>config_devnetwork_vae_fe268e3eaaa1283e1630573e6c8d473e38a9fb3e68c7683b0ea6913e67e6003ef440df3ec861be3ec5e7e03e2dc0ff3e85f4b73ec299c03d574fbf3e96b0173d59589a3ece92fd3e9145ad3e1ff8483e-double_cartpole_real_fitness</th>\n",
       "      <th>2022-11-25 15_30_00.713544</th>\n",
       "      <td>[5, 23, 20, 17, 21, 8, 14, 2, 16, 6, 1, 9, 7, ...</td>\n",
       "      <td>0.510916</td>\n",
       "      <td>0.510916</td>\n",
       "      <td>[5, 23, 21, 8, 14, 20, 17, 6, 1, 4, 0, 9, 7, 2...</td>\n",
       "    </tr>\n",
       "    <tr>\n",
       "      <th>config_devnetwork_vae_fe4a603deeac2a3ea497cf3ee087953dd536d63e1d0cc73ea733133ed44afd3ea76e5c3e5a3eb33eeb7f6d3eaa9fcb3e90f05d3d7a420e3eb23f6f3ef64cf13c5e56df3ec95d9d3d566da03ecf88ac3e-broken_cartpole</th>\n",
       "      <th>2022-11-17 15_02_19.693206</th>\n",
       "      <td>[13, 9, 22, 21, 14, 18, 20, 11, 24, 12, 0, 6, ...</td>\n",
       "      <td>0.269073</td>\n",
       "      <td>0.269073</td>\n",
       "      <td>[13, 9, 22, 21, 14, 18, 20, 11, 24, 12, 0, 6, ...</td>\n",
       "    </tr>\n",
       "    <tr>\n",
       "      <th>config_devnetwork_vae_fea7833d7a61813e45debc3e1e13b83b1a14f13e6e329a3e0dd1843e3c3aaf3d3cfe0d3ecf65ba3cbb47913ea493353e10b0ee3e0a15bb3e631d393eef09623e1885ab3e50b1d03ed7c99b3d74bc983e-broken_cartpole</th>\n",
       "      <th>2022-11-18 04_46_45.605223</th>\n",
       "      <td>[0, 17, 9, 6, 7, 8, 11, 4, 3, 10, 19, 5, 13, 1...</td>\n",
       "      <td>0.255433</td>\n",
       "      <td>0.255433</td>\n",
       "      <td>[0, 17, 9, 6, 7, 8, 4, 3, 10, 19, 11, 5, 13, 1...</td>\n",
       "    </tr>\n",
       "    <tr>\n",
       "      <th>config_devnetwork_vae_fef8863d43402b3efcc4fd3e6704a73d3c91fe3e844a203eb37b5f3e360d913e877bd63eb7a4283cc1f7313e5d1a663e63d40d3eeb57ab3eac13fe3e1cd7793ce109cf3e946be13d03abc13de91ef13e-double_cartpole_real_fitness</th>\n",
       "      <th>2022-11-27 13_57_21.964400</th>\n",
       "      <td>[1, 0, 16, 2, 18, 10, 4, 8, 22, 24, 9, 11, 13,...</td>\n",
       "      <td>0.567008</td>\n",
       "      <td>0.567008</td>\n",
       "      <td>[0, 16, 1, 2, 4, 9, 13, 8, 19, 6, 3, 12, 10, 1...</td>\n",
       "    </tr>\n",
       "  </tbody>\n",
       "</table>\n",
       "<p>210 rows × 4 columns</p>\n",
       "</div>"
      ],
      "text/plain": [
       "                                                                                                                          trials  \\\n",
       "config_devnetwork_vae_0060ee3e7860c03e8baffa3ed... 2022-11-28 10_34_42.838716  [24, 20, 5, 6, 12, 9, 19, 17, 10, 16, 22, 13, ...   \n",
       "config_devnetwork_vae_012eb63ed149bb3ee6ab7b3e8... 2022-11-19 18_16_37.006952  [5, 19, 22, 14, 9, 17, 12, 15, 0, 11, 21, 2, 2...   \n",
       "config_devnetwork_vae_0140d13d78d3c83d8714ef3be... 2022-11-14 10_53_13.055189  [12, 0, 16, 6, 19, 20, 24, 1, 2, 18, 11, 5, 8,...   \n",
       "config_devnetwork_vae_022a193e6917d43dc367db3da... 2022-11-14 12_40_40.635263  [24, 16, 9, 11, 17, 18, 0, 20, 13, 22, 6, 7, 1...   \n",
       "config_devnetwork_vae_0638843e16457c3e87f6d13e3... 2022-12-02 10_45_17.069482  [10, 8, 5, 21, 1, 12, 17, 23, 15, 11, 14, 2, 1...   \n",
       "...                                                                                                                          ...   \n",
       "config_devnetwork_vae_fb73d43e8200373e60cc9f3ec... 2022-11-18 03_07_44.493057  [4, 0, 21, 2, 19, 22, 5, 8, 13, 24, 1, 10, 12,...   \n",
       "config_devnetwork_vae_fe268e3eaaa1283e1630573e6... 2022-11-25 15_30_00.713544  [5, 23, 20, 17, 21, 8, 14, 2, 16, 6, 1, 9, 7, ...   \n",
       "config_devnetwork_vae_fe4a603deeac2a3ea497cf3ee... 2022-11-17 15_02_19.693206  [13, 9, 22, 21, 14, 18, 20, 11, 24, 12, 0, 6, ...   \n",
       "config_devnetwork_vae_fea7833d7a61813e45debc3e1... 2022-11-18 04_46_45.605223  [0, 17, 9, 6, 7, 8, 11, 4, 3, 10, 19, 5, 13, 1...   \n",
       "config_devnetwork_vae_fef8863d43402b3efcc4fd3e6... 2022-11-27 13_57_21.964400  [1, 0, 16, 2, 18, 10, 4, 8, 22, 24, 9, 11, 13,...   \n",
       "\n",
       "                                                                              fitness_max  \\\n",
       "config_devnetwork_vae_0060ee3e7860c03e8baffa3ed... 2022-11-28 10_34_42.838716    0.520784   \n",
       "config_devnetwork_vae_012eb63ed149bb3ee6ab7b3e8... 2022-11-19 18_16_37.006952    0.103636   \n",
       "config_devnetwork_vae_0140d13d78d3c83d8714ef3be... 2022-11-14 10_53_13.055189    0.112727   \n",
       "config_devnetwork_vae_022a193e6917d43dc367db3da... 2022-11-14 12_40_40.635263    0.109091   \n",
       "config_devnetwork_vae_0638843e16457c3e87f6d13e3... 2022-12-02 10_45_17.069482    0.524166   \n",
       "...                                                                                   ...   \n",
       "config_devnetwork_vae_fb73d43e8200373e60cc9f3ec... 2022-11-18 03_07_44.493057    0.277632   \n",
       "config_devnetwork_vae_fe268e3eaaa1283e1630573e6... 2022-11-25 15_30_00.713544    0.510916   \n",
       "config_devnetwork_vae_fe4a603deeac2a3ea497cf3ee... 2022-11-17 15_02_19.693206    0.269073   \n",
       "config_devnetwork_vae_fea7833d7a61813e45debc3e1... 2022-11-18 04_46_45.605223    0.255433   \n",
       "config_devnetwork_vae_fef8863d43402b3efcc4fd3e6... 2022-11-27 13_57_21.964400    0.567008   \n",
       "\n",
       "                                                                              real_fitness_max  \\\n",
       "config_devnetwork_vae_0060ee3e7860c03e8baffa3ed... 2022-11-28 10_34_42.838716         0.520784   \n",
       "config_devnetwork_vae_012eb63ed149bb3ee6ab7b3e8... 2022-11-19 18_16_37.006952         0.103636   \n",
       "config_devnetwork_vae_0140d13d78d3c83d8714ef3be... 2022-11-14 10_53_13.055189         0.112727   \n",
       "config_devnetwork_vae_022a193e6917d43dc367db3da... 2022-11-14 12_40_40.635263         0.109091   \n",
       "config_devnetwork_vae_0638843e16457c3e87f6d13e3... 2022-12-02 10_45_17.069482         0.524166   \n",
       "...                                                                                        ...   \n",
       "config_devnetwork_vae_fb73d43e8200373e60cc9f3ec... 2022-11-18 03_07_44.493057         0.277632   \n",
       "config_devnetwork_vae_fe268e3eaaa1283e1630573e6... 2022-11-25 15_30_00.713544         0.510916   \n",
       "config_devnetwork_vae_fe4a603deeac2a3ea497cf3ee... 2022-11-17 15_02_19.693206         0.269073   \n",
       "config_devnetwork_vae_fea7833d7a61813e45debc3e1... 2022-11-18 04_46_45.605223         0.255433   \n",
       "config_devnetwork_vae_fef8863d43402b3efcc4fd3e6... 2022-11-27 13_57_21.964400         0.567008   \n",
       "\n",
       "                                                                                                                     real_trials  \n",
       "config_devnetwork_vae_0060ee3e7860c03e8baffa3ed... 2022-11-28 10_34_42.838716  [20, 24, 9, 12, 19, 6, 8, 22, 10, 16, 13, 18, ...  \n",
       "config_devnetwork_vae_012eb63ed149bb3ee6ab7b3e8... 2022-11-19 18_16_37.006952  [5, 19, 14, 9, 17, 12, 15, 21, 2, 0, 11, 20, 8...  \n",
       "config_devnetwork_vae_0140d13d78d3c83d8714ef3be... 2022-11-14 10_53_13.055189  [12, 0, 16, 6, 19, 20, 24, 1, 2, 18, 11, 5, 8,...  \n",
       "config_devnetwork_vae_022a193e6917d43dc367db3da... 2022-11-14 12_40_40.635263  [24, 16, 9, 11, 17, 18, 0, 20, 13, 22, 6, 7, 1...  \n",
       "config_devnetwork_vae_0638843e16457c3e87f6d13e3... 2022-12-02 10_45_17.069482  [10, 5, 17, 1, 21, 23, 12, 14, 8, 15, 2, 19, 3...  \n",
       "...                                                                                                                          ...  \n",
       "config_devnetwork_vae_fb73d43e8200373e60cc9f3ec... 2022-11-18 03_07_44.493057  [4, 21, 2, 0, 19, 22, 5, 13, 24, 1, 10, 12, 18...  \n",
       "config_devnetwork_vae_fe268e3eaaa1283e1630573e6... 2022-11-25 15_30_00.713544  [5, 23, 21, 8, 14, 20, 17, 6, 1, 4, 0, 9, 7, 2...  \n",
       "config_devnetwork_vae_fe4a603deeac2a3ea497cf3ee... 2022-11-17 15_02_19.693206  [13, 9, 22, 21, 14, 18, 20, 11, 24, 12, 0, 6, ...  \n",
       "config_devnetwork_vae_fea7833d7a61813e45debc3e1... 2022-11-18 04_46_45.605223  [0, 17, 9, 6, 7, 8, 4, 3, 10, 19, 11, 5, 13, 1...  \n",
       "config_devnetwork_vae_fef8863d43402b3efcc4fd3e6... 2022-11-27 13_57_21.964400  [0, 16, 1, 2, 4, 9, 13, 8, 19, 6, 3, 12, 10, 1...  \n",
       "\n",
       "[210 rows x 4 columns]"
      ]
     },
     "execution_count": 2,
     "metadata": {},
     "output_type": "execute_result"
    }
   ],
   "source": [
    "summary = archive.Summary()\n",
    "summary.table().filter(like=\"cartpole\", axis=0).filter(like=\"vae\", axis=0)"
   ]
  },
  {
   "cell_type": "code",
   "execution_count": 3,
   "id": "170d6c84",
   "metadata": {},
   "outputs": [],
   "source": [
    "results = [\n",
    "    (\"config_devnetwork_per_neurocomponents_complexity_evaluation-double_cartpole\", \"2022-11-11 10_47_31.308291\", 0),\n",
    "    (\"config_devnetwork_per_neurocomponents_complexity_evaluation-broken_cartpole\", \"2022-11-11 14_34_50.095323\", 6)\n",
    "]"
   ]
  },
  {
   "cell_type": "code",
   "execution_count": 8,
   "id": "f5899fc9",
   "metadata": {},
   "outputs": [
    {
     "data": {
      "application/vnd.jupyter.widget-view+json": {
       "model_id": "0acb3b1d9f19401db966645a78ef90aa",
       "version_major": 2,
       "version_minor": 0
      },
      "text/plain": [
       "IntSlider(value=0, max=1000)"
      ]
     },
     "metadata": {},
     "output_type": "display_data"
    },
    {
     "data": {
      "application/vnd.jupyter.widget-view+json": {
       "model_id": "9893ae872ff14705844750895c346114",
       "version_major": 2,
       "version_minor": 0
      },
      "text/plain": [
       "Button(description='▶', style=ButtonStyle())"
      ]
     },
     "metadata": {},
     "output_type": "display_data"
    },
    {
     "data": {
      "application/vnd.jupyter.widget-view+json": {
       "model_id": "5457f6bd86124be881a7b06f8748e4f3",
       "version_major": 2,
       "version_minor": 0
      },
      "text/plain": [
       "Button(description='save', style=ButtonStyle())"
      ]
     },
     "metadata": {},
     "output_type": "display_data"
    },
    {
     "data": {
      "application/vnd.jupyter.widget-view+json": {
       "model_id": "f556e31eb69b4dd3964427f3e1ed2da0",
       "version_major": 2,
       "version_minor": 0
      },
      "text/plain": [
       "Text(value='sample.gif', description='save file name: ')"
      ]
     },
     "metadata": {},
     "output_type": "display_data"
    },
    {
     "data": {
      "text/html": [
       "\n",
       "  <div class=\"bk-root\" id=\"b64d4cb1-a3f9-434d-98f5-3c783199450a\" data-root-id=\"1182\"></div>\n"
      ]
     },
     "metadata": {},
     "output_type": "display_data"
    },
    {
     "data": {
      "application/javascript": [
       "(function(root) {\n",
       "  function embed_document(root) {\n",
       "  const docs_json = {\"4221549e-bffc-4fb8-b2b4-0834074f44fd\":{\"defs\":[],\"roots\":{\"references\":[{\"attributes\":{\"below\":[{\"id\":\"1193\"}],\"center\":[{\"id\":\"1196\"},{\"id\":\"1200\"}],\"height\":500,\"left\":[{\"id\":\"1197\"}],\"renderers\":[{\"id\":\"1221\"},{\"id\":\"1225\"}],\"title\":{\"id\":\"1183\"},\"toolbar\":{\"id\":\"1208\"},\"width\":500,\"x_range\":{\"id\":\"1215\"},\"x_scale\":{\"id\":\"1189\"},\"y_range\":{\"id\":\"1216\"},\"y_scale\":{\"id\":\"1191\"}},\"id\":\"1182\",\"subtype\":\"Figure\",\"type\":\"Plot\"},{\"attributes\":{},\"id\":\"1241\",\"type\":\"BasicTickFormatter\"},{\"attributes\":{},\"id\":\"1242\",\"type\":\"AllLabels\"},{\"attributes\":{\"coordinates\":null,\"group\":null,\"text\":\"field (step=0)\"},\"id\":\"1183\",\"type\":\"Title\"},{\"attributes\":{\"source\":{\"id\":\"1217\"}},\"id\":\"1222\",\"type\":\"CDSView\"},{\"attributes\":{},\"id\":\"1244\",\"type\":\"BasicTickFormatter\"},{\"attributes\":{\"start\":-1},\"id\":\"1216\",\"type\":\"Range1d\"},{\"attributes\":{},\"id\":\"1245\",\"type\":\"AllLabels\"},{\"attributes\":{\"coordinates\":null,\"formatter\":{\"id\":\"1241\"},\"group\":null,\"major_label_policy\":{\"id\":\"1242\"},\"ticker\":{\"id\":\"1198\"}},\"id\":\"1197\",\"type\":\"LinearAxis\"},{\"attributes\":{\"coordinates\":null,\"formatter\":{\"id\":\"1244\"},\"group\":null,\"major_label_policy\":{\"id\":\"1245\"},\"ticker\":{\"id\":\"1194\"}},\"id\":\"1193\",\"type\":\"LinearAxis\"},{\"attributes\":{\"data\":{},\"selected\":{\"id\":\"1249\"},\"selection_policy\":{\"id\":\"1248\"}},\"id\":\"1224\",\"type\":\"ColumnDataSource\"},{\"attributes\":{\"axis\":{\"id\":\"1197\"},\"coordinates\":null,\"dimension\":1,\"group\":null,\"ticker\":null},\"id\":\"1200\",\"type\":\"Grid\"},{\"attributes\":{},\"id\":\"1189\",\"type\":\"LinearScale\"},{\"attributes\":{},\"id\":\"1194\",\"type\":\"BasicTicker\"},{\"attributes\":{\"data\":{\"x\":[0,0.1693927420185106],\"y\":[0,0.24760068447290348]},\"selected\":{\"id\":\"1247\"},\"selection_policy\":{\"id\":\"1246\"}},\"id\":\"1217\",\"type\":\"ColumnDataSource\"},{\"attributes\":{\"axis\":{\"id\":\"1193\"},\"coordinates\":null,\"group\":null,\"ticker\":null},\"id\":\"1196\",\"type\":\"Grid\"},{\"attributes\":{},\"id\":\"1204\",\"type\":\"SaveTool\"},{\"attributes\":{},\"id\":\"1202\",\"type\":\"WheelZoomTool\"},{\"attributes\":{\"coordinates\":null,\"data_source\":{\"id\":\"1217\"},\"glyph\":{\"id\":\"1218\"},\"group\":null,\"hover_glyph\":null,\"muted_glyph\":{\"id\":\"1220\"},\"nonselection_glyph\":{\"id\":\"1219\"},\"view\":{\"id\":\"1222\"}},\"id\":\"1221\",\"type\":\"GlyphRenderer\"},{\"attributes\":{},\"id\":\"1246\",\"type\":\"UnionRenderers\"},{\"attributes\":{},\"id\":\"1191\",\"type\":\"LinearScale\"},{\"attributes\":{},\"id\":\"1198\",\"type\":\"BasicTicker\"},{\"attributes\":{},\"id\":\"1247\",\"type\":\"Selection\"},{\"attributes\":{\"overlay\":{\"id\":\"1207\"}},\"id\":\"1203\",\"type\":\"BoxZoomTool\"},{\"attributes\":{},\"id\":\"1205\",\"type\":\"ResetTool\"},{\"attributes\":{\"line_alpha\":0.2,\"line_color\":\"blue\",\"line_width\":10,\"x\":{\"field\":\"x\"},\"y\":{\"field\":\"y\"}},\"id\":\"1220\",\"type\":\"Line\"},{\"attributes\":{\"tools\":[{\"id\":\"1201\"},{\"id\":\"1202\"},{\"id\":\"1203\"},{\"id\":\"1204\"},{\"id\":\"1205\"},{\"id\":\"1206\"}]},\"id\":\"1208\",\"type\":\"Toolbar\"},{\"attributes\":{\"line_color\":\"blue\",\"line_width\":10,\"x\":{\"field\":\"x\"},\"y\":{\"field\":\"y\"}},\"id\":\"1218\",\"type\":\"Line\"},{\"attributes\":{\"coordinates\":null,\"data_source\":{\"id\":\"1224\"},\"glyph\":{\"id\":\"1223\"},\"group\":null,\"hover_glyph\":null,\"view\":{\"id\":\"1226\"}},\"id\":\"1225\",\"type\":\"GlyphRenderer\"},{\"attributes\":{},\"id\":\"1206\",\"type\":\"HelpTool\"},{\"attributes\":{\"fill_color\":{\"value\":\"#cab2d6\"},\"height\":{\"value\":0.1},\"width\":{\"value\":0.2},\"x\":{\"value\":0},\"y\":{\"value\":0}},\"id\":\"1223\",\"type\":\"Rect\"},{\"attributes\":{\"start\":-1},\"id\":\"1215\",\"type\":\"Range1d\"},{\"attributes\":{},\"id\":\"1201\",\"type\":\"PanTool\"},{\"attributes\":{\"line_alpha\":0.1,\"line_color\":\"blue\",\"line_width\":10,\"x\":{\"field\":\"x\"},\"y\":{\"field\":\"y\"}},\"id\":\"1219\",\"type\":\"Line\"},{\"attributes\":{},\"id\":\"1248\",\"type\":\"UnionRenderers\"},{\"attributes\":{\"bottom_units\":\"screen\",\"coordinates\":null,\"fill_alpha\":0.5,\"fill_color\":\"lightgrey\",\"group\":null,\"left_units\":\"screen\",\"level\":\"overlay\",\"line_alpha\":1.0,\"line_color\":\"black\",\"line_dash\":[4,4],\"line_width\":2,\"right_units\":\"screen\",\"syncable\":false,\"top_units\":\"screen\"},\"id\":\"1207\",\"type\":\"BoxAnnotation\"},{\"attributes\":{},\"id\":\"1249\",\"type\":\"Selection\"},{\"attributes\":{\"source\":{\"id\":\"1224\"}},\"id\":\"1226\",\"type\":\"CDSView\"}],\"root_ids\":[\"1182\"]},\"title\":\"Bokeh Application\",\"version\":\"2.4.3\"}};\n",
       "  const render_items = [{\"docid\":\"4221549e-bffc-4fb8-b2b4-0834074f44fd\",\"notebook_comms_target\":\"1251\",\"root_ids\":[\"1182\"],\"roots\":{\"1182\":\"b64d4cb1-a3f9-434d-98f5-3c783199450a\"}}];\n",
       "  root.Bokeh.embed.embed_items_notebook(docs_json, render_items);\n",
       "  }\n",
       "  if (root.Bokeh !== undefined) {\n",
       "    embed_document(root);\n",
       "  } else {\n",
       "    let attempts = 0;\n",
       "    const timer = setInterval(function(root) {\n",
       "      if (root.Bokeh !== undefined) {\n",
       "        clearInterval(timer);\n",
       "        embed_document(root);\n",
       "      } else {\n",
       "        attempts++;\n",
       "        if (attempts > 100) {\n",
       "          clearInterval(timer);\n",
       "          console.log(\"Bokeh: ERROR: Unable to run BokehJS code because BokehJS library is missing\");\n",
       "        }\n",
       "      }\n",
       "    }, 10, root)\n",
       "  }\n",
       "})(window);"
      ],
      "application/vnd.bokehjs_exec.v0+json": ""
     },
     "metadata": {
      "application/vnd.bokehjs_exec.v0+json": {
       "id": "1182"
      }
     },
     "output_type": "display_data"
    }
   ],
   "source": [
    "with summary.trial(\"config_devnetwork_per_neurocomponents-cartpole\", \"2022-11-04 10_51_45.069616\", 3) as trial:\n",
    "#     print(trial.observe(2, 1).task(0))\n",
    "    show(visualize.CartPole(trial.observe(5, 128), 0), notebook_handle=True)"
   ]
  },
  {
   "cell_type": "code",
   "execution_count": 115,
   "id": "95071467",
   "metadata": {
    "scrolled": false
   },
   "outputs": [
    {
     "data": {
      "text/html": [
       "<div>\n",
       "<style scoped>\n",
       "    .dataframe tbody tr th:only-of-type {\n",
       "        vertical-align: middle;\n",
       "    }\n",
       "\n",
       "    .dataframe tbody tr th {\n",
       "        vertical-align: top;\n",
       "    }\n",
       "\n",
       "    .dataframe thead th {\n",
       "        text-align: right;\n",
       "    }\n",
       "</style>\n",
       "<table border=\"1\" class=\"dataframe\">\n",
       "  <thead>\n",
       "    <tr style=\"text-align: right;\">\n",
       "      <th></th>\n",
       "      <th>observe0</th>\n",
       "      <th>observe1</th>\n",
       "      <th>observe2</th>\n",
       "      <th>observe3</th>\n",
       "      <th>observe4</th>\n",
       "      <th>observe5</th>\n",
       "      <th>key</th>\n",
       "    </tr>\n",
       "  </thead>\n",
       "  <tbody>\n",
       "    <tr>\n",
       "      <th>genome140</th>\n",
       "      <td>-100.0</td>\n",
       "      <td>2.5975</td>\n",
       "      <td>62.775000</td>\n",
       "      <td>3.707375</td>\n",
       "      <td>3.716125</td>\n",
       "      <td>0.00000</td>\n",
       "      <td>62.775000</td>\n",
       "    </tr>\n",
       "    <tr>\n",
       "      <th>genome121</th>\n",
       "      <td>-100.0</td>\n",
       "      <td>0.0000</td>\n",
       "      <td>58.107607</td>\n",
       "      <td>3.681125</td>\n",
       "      <td>0.000000</td>\n",
       "      <td>-100.00000</td>\n",
       "      <td>58.107607</td>\n",
       "    </tr>\n",
       "    <tr>\n",
       "      <th>genome82</th>\n",
       "      <td>-100.0</td>\n",
       "      <td>0.0000</td>\n",
       "      <td>47.008683</td>\n",
       "      <td>0.000000</td>\n",
       "      <td>-100.000000</td>\n",
       "      <td>2.66375</td>\n",
       "      <td>47.008683</td>\n",
       "    </tr>\n",
       "    <tr>\n",
       "      <th>genome122</th>\n",
       "      <td>-100.0</td>\n",
       "      <td>0.0000</td>\n",
       "      <td>46.504500</td>\n",
       "      <td>0.000000</td>\n",
       "      <td>0.000000</td>\n",
       "      <td>0.00000</td>\n",
       "      <td>46.504500</td>\n",
       "    </tr>\n",
       "    <tr>\n",
       "      <th>genome94</th>\n",
       "      <td>0.0</td>\n",
       "      <td>-97.0000</td>\n",
       "      <td>42.245000</td>\n",
       "      <td>3.647875</td>\n",
       "      <td>-100.000000</td>\n",
       "      <td>0.00000</td>\n",
       "      <td>42.245000</td>\n",
       "    </tr>\n",
       "    <tr>\n",
       "      <th>...</th>\n",
       "      <td>...</td>\n",
       "      <td>...</td>\n",
       "      <td>...</td>\n",
       "      <td>...</td>\n",
       "      <td>...</td>\n",
       "      <td>...</td>\n",
       "      <td>...</td>\n",
       "    </tr>\n",
       "    <tr>\n",
       "      <th>genome150</th>\n",
       "      <td>NaN</td>\n",
       "      <td>NaN</td>\n",
       "      <td>1.211875</td>\n",
       "      <td>NaN</td>\n",
       "      <td>-100.000000</td>\n",
       "      <td>-100.00000</td>\n",
       "      <td>NaN</td>\n",
       "    </tr>\n",
       "    <tr>\n",
       "      <th>genome151</th>\n",
       "      <td>NaN</td>\n",
       "      <td>NaN</td>\n",
       "      <td>NaN</td>\n",
       "      <td>NaN</td>\n",
       "      <td>0.000000</td>\n",
       "      <td>NaN</td>\n",
       "      <td>NaN</td>\n",
       "    </tr>\n",
       "    <tr>\n",
       "      <th>genome152</th>\n",
       "      <td>NaN</td>\n",
       "      <td>NaN</td>\n",
       "      <td>NaN</td>\n",
       "      <td>NaN</td>\n",
       "      <td>0.786625</td>\n",
       "      <td>NaN</td>\n",
       "      <td>NaN</td>\n",
       "    </tr>\n",
       "    <tr>\n",
       "      <th>genome153</th>\n",
       "      <td>NaN</td>\n",
       "      <td>NaN</td>\n",
       "      <td>NaN</td>\n",
       "      <td>NaN</td>\n",
       "      <td>-100.000000</td>\n",
       "      <td>NaN</td>\n",
       "      <td>NaN</td>\n",
       "    </tr>\n",
       "    <tr>\n",
       "      <th>genome154</th>\n",
       "      <td>NaN</td>\n",
       "      <td>NaN</td>\n",
       "      <td>NaN</td>\n",
       "      <td>NaN</td>\n",
       "      <td>1.974875</td>\n",
       "      <td>NaN</td>\n",
       "      <td>NaN</td>\n",
       "    </tr>\n",
       "  </tbody>\n",
       "</table>\n",
       "<p>155 rows × 7 columns</p>\n",
       "</div>"
      ],
      "text/plain": [
       "           observe0  observe1   observe2  observe3    observe4   observe5  \\\n",
       "genome140    -100.0    2.5975  62.775000  3.707375    3.716125    0.00000   \n",
       "genome121    -100.0    0.0000  58.107607  3.681125    0.000000 -100.00000   \n",
       "genome82     -100.0    0.0000  47.008683  0.000000 -100.000000    2.66375   \n",
       "genome122    -100.0    0.0000  46.504500  0.000000    0.000000    0.00000   \n",
       "genome94        0.0  -97.0000  42.245000  3.647875 -100.000000    0.00000   \n",
       "...             ...       ...        ...       ...         ...        ...   \n",
       "genome150       NaN       NaN   1.211875       NaN -100.000000 -100.00000   \n",
       "genome151       NaN       NaN        NaN       NaN    0.000000        NaN   \n",
       "genome152       NaN       NaN        NaN       NaN    0.786625        NaN   \n",
       "genome153       NaN       NaN        NaN       NaN -100.000000        NaN   \n",
       "genome154       NaN       NaN        NaN       NaN    1.974875        NaN   \n",
       "\n",
       "                 key  \n",
       "genome140  62.775000  \n",
       "genome121  58.107607  \n",
       "genome82   47.008683  \n",
       "genome122  46.504500  \n",
       "genome94   42.245000  \n",
       "...              ...  \n",
       "genome150        NaN  \n",
       "genome151        NaN  \n",
       "genome152        NaN  \n",
       "genome153        NaN  \n",
       "genome154        NaN  \n",
       "\n",
       "[155 rows x 7 columns]"
      ]
     },
     "execution_count": 115,
     "metadata": {},
     "output_type": "execute_result"
    }
   ],
   "source": [
    "with summary.trial(\"config_static_complexity_evaluation-broken_cartpole\", \"2022-11-08 06_56_12.191025\", 7) as trial:\n",
    "    df = trial.table()\n",
    "    df[\"key\"] = df.apply(lambda x: max(x), axis=1)\n",
    "df.sort_values(\"key\", ascending=False)"
   ]
  },
  {
   "cell_type": "code",
   "execution_count": 4,
   "id": "77292ad3",
   "metadata": {},
   "outputs": [
    {
     "data": {
      "text/html": [
       "\n",
       "  <div class=\"bk-root\" id=\"71b4400f-7236-4b68-80d6-1998a5b41d73\" data-root-id=\"1003\"></div>\n"
      ]
     },
     "metadata": {},
     "output_type": "display_data"
    },
    {
     "data": {
      "application/javascript": [
       "(function(root) {\n",
       "  function embed_document(root) {\n",
       "  const docs_json = {\"1dfc750d-52a9-4a28-a490-2b5d4f01960c\":{\"defs\":[],\"roots\":{\"references\":[{\"attributes\":{\"below\":[{\"id\":\"1014\"}],\"center\":[{\"id\":\"1017\"},{\"id\":\"1021\"},{\"id\":\"1053\"}],\"height\":400,\"left\":[{\"id\":\"1018\"}],\"renderers\":[{\"id\":\"1041\"},{\"id\":\"1059\"}],\"title\":{\"id\":\"1004\"},\"toolbar\":{\"id\":\"1029\"},\"width\":500,\"x_range\":{\"id\":\"1006\"},\"x_scale\":{\"id\":\"1010\"},\"y_range\":{\"id\":\"1036\"},\"y_scale\":{\"id\":\"1012\"}},\"id\":\"1003\",\"subtype\":\"Figure\",\"type\":\"Plot\"},{\"attributes\":{},\"id\":\"1025\",\"type\":\"SaveTool\"},{\"attributes\":{},\"id\":\"1012\",\"type\":\"LinearScale\"},{\"attributes\":{},\"id\":\"1045\",\"type\":\"BasicTickFormatter\"},{\"attributes\":{\"line_alpha\":0.2,\"line_color\":\"#ff7f0e\",\"x\":{\"field\":\"x\"},\"y\":{\"field\":\"y\"}},\"id\":\"1058\",\"type\":\"Line\"},{\"attributes\":{\"line_color\":\"#ff7f0e\",\"x\":{\"field\":\"x\"},\"y\":{\"field\":\"y\"}},\"id\":\"1056\",\"type\":\"Line\"},{\"attributes\":{},\"id\":\"1015\",\"type\":\"BasicTicker\"},{\"attributes\":{},\"id\":\"1046\",\"type\":\"AllLabels\"},{\"attributes\":{\"axis\":{\"id\":\"1014\"},\"coordinates\":null,\"group\":null,\"ticker\":null},\"id\":\"1017\",\"type\":\"Grid\"},{\"attributes\":{},\"id\":\"1022\",\"type\":\"PanTool\"},{\"attributes\":{},\"id\":\"1027\",\"type\":\"HelpTool\"},{\"attributes\":{\"line_alpha\":0.2,\"line_color\":\"#1f77b4\",\"x\":{\"field\":\"x\"},\"y\":{\"field\":\"y\"}},\"id\":\"1040\",\"type\":\"Line\"},{\"attributes\":{},\"id\":\"1048\",\"type\":\"BasicTickFormatter\"},{\"attributes\":{\"coordinates\":null,\"data_source\":{\"id\":\"1055\"},\"glyph\":{\"id\":\"1056\"},\"group\":null,\"hover_glyph\":null,\"muted_glyph\":{\"id\":\"1058\"},\"nonselection_glyph\":{\"id\":\"1057\"},\"view\":{\"id\":\"1060\"}},\"id\":\"1059\",\"type\":\"GlyphRenderer\"},{\"attributes\":{\"data\":{\"x\":[0,1,2,3,4,5,6,7,8,9,10,11,12,13,14,15,16,17,18,19,20,21,22,23,24,25,26,27,28,29,30,31,32,33,34,35,36,37,38,39,40,41,42,43,44,45,46,47,48,49,50,51,52,53,54,55,56,57,58,59,60,61,62,63,64,65,66,67,68,69,70,71,72,73,74,75,76,77,78,79,80,81,82,83,84,85,86,87,88,89,90,91,92,93,94,95,96,97,98,99,100,101,102,103,104,105,106,107,108,109,110,111,112,113,114,115,116,117,118,119,120,121,122,123,124,125,126,127,128,129,130,131,132,133,134,135,136,137,138,139,140,141,142,143,144,145,146,147,148,149,150,151,152,153,154,155,156,157,158,159,160,161,162,163,164,165,166,167,168,169,170,171,172,173,174,175,176,177,178,179,180,181,182,183,184,185,186,187,188,189,190,191,192,193,194,195,196,197,198,199,200,201,202,203,204,205,206,207,208,209,210,211,212,213,214,215,216,217,218,219,220,221,222,223,224,225,226,227,228,229,230,231,232,233,234,235,236,237,238,239,240,241,242,243,244,245,246,247,248,249,250,251,252,253,254,255,256,257,258,259,260,261,262,263,264,265,266,267,268,269,270,271,272,273,274,275,276,277,278,279,280,281,282,283,284,285,286,287,288,289,290,291,292,293,294,295,296,297,298,299,300,301,302,303,304,305,306,307,308,309,310,311,312,313,314,315,316,317,318,319,320,321,322,323,324,325,326,327,328,329,330,331,332,333,334,335,336,337,338,339,340,341,342,343,344,345,346,347,348,349,350,351,352,353,354,355,356,357,358,359,360,361,362,363,364,365,366,367,368,369,370,371,372,373,374,375,376,377,378,379,380,381,382,383,384,385,386,387,388,389,390,391,392,393,394,395,396,397,398,399,400,401,402,403,404,405,406,407,408,409,410,411,412,413,414,415,416,417,418,419,420,421,422,423,424,425,426,427,428,429,430,431,432,433,434,435,436,437,438,439,440,441,442,443,444,445,446,447,448,449,450,451,452,453,454,455,456,457,458,459,460,461,462,463,464,465,466,467,468,469,470,471,472,473,474,475,476,477,478,479,480,481,482,483,484,485,486,487,488,489,490,491,492,493,494,495,496,497,498,499,500,501,502,503,504,505,506,507,508,509,510,511,512,513,514,515,516,517,518,519,520,521,522,523,524,525,526,527,528,529,530,531,532,533,534,535,536,537,538,539,540,541,542,543,544,545,546,547,548,549,550,551,552,553,554,555,556,557,558,559,560,561,562,563,564,565,566,567,568,569,570,571,572,573,574,575,576,577,578,579,580,581,582,583,584,585,586,587,588,589,590,591,592,593,594,595,596,597,598,599,600,601,602,603,604,605,606,607,608,609,610,611,612,613,614,615,616,617,618,619,620,621,622,623,624,625,626,627,628,629,630,631,632,633,634,635,636,637,638,639,640,641,642,643,644,645,646,647,648,649,650,651,652,653,654,655,656,657,658,659,660,661,662,663,664,665,666,667,668,669,670,671,672,673,674,675,676,677,678,679,680,681,682,683,684,685,686,687,688,689,690,691,692,693,694,695,696,697,698,699,700,701,702,703,704,705,706,707,708,709,710,711,712,713,714,715,716,717,718,719,720,721,722,723,724,725,726,727,728,729,730,731,732,733,734,735,736,737,738,739,740,741,742,743,744,745,746,747,748,749,750,751,752,753,754,755,756,757,758,759,760,761,762,763,764,765,766,767,768,769,770,771,772,773,774,775,776,777,778,779,780,781,782,783,784,785,786,787,788,789,790,791,792,793,794,795,796,797,798,799,800,801,802,803,804,805,806,807,808,809,810,811,812,813,814,815,816,817,818,819,820,821,822,823,824,825,826,827,828,829,830,831,832,833,834,835,836,837,838,839,840,841,842,843,844,845,846,847,848,849,850,851,852,853,854,855,856,857,858,859,860,861,862,863,864,865,866,867,868,869,870,871,872,873,874,875,876,877,878,879,880,881,882,883,884,885,886,887,888,889,890,891,892,893,894,895,896,897,898,899,900,901,902,903,904,905,906,907,908,909,910,911,912,913,914,915,916,917,918,919,920,921,922,923,924,925,926,927,928,929,930,931,932,933,934,935,936,937,938,939,940,941,942,943,944,945,946,947,948,949,950,951,952,953,954,955,956,957,958,959,960,961,962,963,964,965,966,967,968,969,970,971,972,973,974,975,976,977,978,979,980,981,982,983,984,985,986,987,988,989,990,991,992,993,994,995,996,997,998,999,1000,1001,1002,1003,1004,1005,1006,1007,1008,1009,1010,1011,1012,1013,1014,1015,1016,1017,1018,1019,1020,1021,1022,1023,1024,1025,1026,1027,1028,1029,1030,1031,1032,1033,1034,1035,1036,1037,1038,1039,1040,1041,1042,1043,1044,1045,1046,1047,1048,1049,1050,1051,1052,1053,1054,1055,1056,1057,1058,1059,1060,1061,1062,1063,1064,1065,1066,1067,1068,1069,1070,1071,1072,1073,1074,1075,1076,1077,1078,1079,1080,1081,1082,1083,1084,1085,1086,1087,1088,1089,1090,1091,1092,1093,1094,1095,1096,1097,1098,1099,1100,1101,1102,1103,1104,1105,1106,1107,1108,1109,1110,1111,1112,1113,1114,1115,1116,1117,1118,1119,1120,1121,1122,1123,1124,1125,1126,1127,1128,1129,1130,1131,1132,1133,1134,1135,1136,1137,1138,1139,1140,1141,1142,1143,1144,1145,1146,1147,1148,1149,1150,1151,1152,1153,1154,1155,1156,1157,1158,1159,1160,1161,1162,1163,1164,1165,1166,1167,1168,1169,1170,1171,1172,1173,1174,1175,1176,1177,1178,1179,1180,1181,1182,1183,1184,1185,1186,1187,1188,1189,1190,1191,1192,1193,1194,1195,1196,1197,1198,1199,1200,1201,1202,1203,1204,1205,1206,1207,1208,1209,1210,1211,1212,1213,1214,1215,1216,1217,1218,1219,1220,1221,1222,1223,1224,1225,1226,1227,1228,1229,1230,1231,1232,1233,1234,1235,1236,1237,1238,1239,1240,1241,1242,1243,1244,1245,1246,1247,1248,1249,1250,1251,1252,1253,1254,1255,1256,1257,1258,1259,1260,1261,1262,1263,1264,1265,1266,1267,1268,1269,1270,1271,1272,1273,1274,1275,1276,1277,1278,1279,1280,1281,1282,1283,1284,1285,1286,1287,1288,1289,1290,1291,1292,1293,1294,1295,1296,1297,1298,1299,1300,1301,1302,1303,1304,1305,1306,1307,1308,1309,1310,1311,1312,1313,1314,1315,1316,1317,1318,1319,1320,1321,1322,1323,1324,1325,1326,1327,1328,1329,1330,1331,1332,1333,1334,1335,1336,1337,1338,1339,1340,1341,1342,1343,1344,1345,1346,1347,1348,1349,1350,1351,1352,1353,1354,1355,1356,1357,1358,1359,1360,1361,1362,1363,1364,1365,1366,1367,1368,1369,1370,1371,1372,1373,1374,1375,1376,1377,1378,1379,1380,1381,1382,1383,1384,1385,1386,1387,1388,1389,1390,1391,1392,1393,1394,1395,1396,1397,1398,1399,1400,1401,1402,1403,1404,1405,1406,1407,1408,1409,1410,1411,1412,1413,1414,1415,1416,1417,1418,1419,1420,1421,1422,1423,1424,1425,1426,1427,1428,1429,1430,1431,1432,1433,1434,1435,1436,1437,1438,1439,1440,1441,1442,1443,1444,1445,1446,1447,1448,1449,1450,1451,1452,1453,1454,1455,1456,1457,1458,1459,1460,1461,1462,1463,1464,1465,1466,1467,1468,1469,1470,1471,1472,1473,1474,1475,1476,1477,1478,1479,1480,1481,1482,1483,1484,1485,1486,1487,1488,1489,1490,1491,1492,1493,1494,1495,1496,1497,1498,1499,1500,1501,1502,1503,1504,1505,1506,1507,1508,1509,1510,1511,1512,1513,1514,1515,1516,1517,1518,1519,1520,1521,1522,1523,1524,1525,1526,1527,1528,1529,1530,1531,1532,1533,1534,1535,1536,1537,1538,1539,1540,1541,1542,1543,1544,1545,1546,1547,1548,1549,1550,1551,1552,1553,1554,1555,1556,1557,1558,1559,1560,1561,1562,1563,1564,1565,1566,1567,1568,1569,1570,1571,1572,1573,1574,1575,1576,1577,1578,1579,1580,1581,1582,1583,1584,1585,1586,1587,1588,1589,1590,1591,1592,1593,1594,1595,1596,1597,1598,1599,1600,1601,1602,1603,1604,1605,1606,1607,1608,1609,1610,1611,1612,1613,1614,1615,1616,1617,1618,1619,1620,1621,1622,1623,1624,1625,1626,1627,1628,1629,1630,1631,1632,1633,1634,1635,1636,1637,1638,1639,1640,1641,1642,1643,1644,1645,1646,1647,1648,1649,1650,1651,1652,1653,1654,1655,1656,1657,1658,1659,1660,1661,1662,1663,1664,1665,1666,1667,1668,1669,1670,1671,1672,1673,1674,1675,1676,1677,1678,1679,1680,1681,1682,1683,1684,1685,1686,1687,1688,1689,1690,1691,1692,1693,1694,1695,1696,1697,1698,1699,1700,1701,1702,1703,1704,1705,1706,1707,1708,1709,1710,1711,1712,1713,1714,1715,1716,1717,1718,1719,1720,1721,1722,1723,1724,1725,1726,1727,1728,1729,1730,1731,1732,1733,1734,1735,1736,1737,1738,1739,1740,1741,1742,1743,1744,1745,1746,1747,1748,1749,1750,1751,1752,1753,1754,1755,1756,1757,1758,1759,1760,1761,1762,1763,1764,1765,1766,1767,1768,1769,1770,1771,1772,1773,1774,1775,1776,1777,1778,1779,1780,1781,1782,1783,1784,1785,1786,1787,1788,1789,1790,1791,1792,1793,1794,1795,1796,1797,1798,1799,1800,1801,1802,1803,1804,1805,1806,1807,1808,1809,1810,1811,1812,1813,1814,1815,1816,1817,1818,1819,1820,1821,1822,1823,1824,1825,1826,1827,1828,1829,1830,1831,1832,1833,1834,1835,1836,1837,1838,1839,1840,1841,1842,1843,1844,1845,1846,1847,1848,1849,1850,1851,1852,1853,1854,1855,1856,1857,1858,1859,1860,1861,1862,1863,1864,1865,1866,1867,1868,1869,1870,1871,1872,1873,1874,1875,1876,1877,1878,1879,1880,1881,1882,1883,1884,1885,1886,1887,1888,1889,1890,1891,1892,1893,1894,1895,1896,1897,1898,1899,1900,1901,1902,1903,1904,1905,1906,1907,1908,1909,1910,1911,1912,1913,1914,1915,1916,1917,1918,1919,1920,1921,1922,1923,1924,1925,1926,1927,1928,1929,1930,1931,1932,1933,1934,1935,1936,1937,1938,1939,1940,1941,1942,1943,1944,1945,1946,1947,1948,1949,1950,1951,1952,1953,1954,1955,1956,1957,1958,1959,1960,1961,1962,1963,1964,1965,1966,1967,1968,1969,1970,1971,1972,1973,1974,1975,1976,1977,1978,1979,1980,1981,1982,1983,1984,1985,1986,1987,1988,1989,1990,1991,1992,1993,1994,1995,1996,1997,1998,1999,2000,2001,2002,2003,2004,2005,2006,2007,2008,2009,2010,2011,2012,2013,2014,2015,2016,2017,2018,2019,2020,2021,2022,2023,2024,2025,2026,2027,2028,2029,2030,2031,2032,2033,2034,2035,2036,2037,2038,2039,2040,2041,2042,2043,2044,2045,2046,2047,2048,2049,2050,2051,2052,2053,2054,2055,2056,2057,2058,2059,2060,2061,2062,2063,2064,2065,2066,2067,2068,2069,2070,2071,2072,2073,2074,2075,2076,2077,2078,2079,2080,2081,2082,2083,2084,2085,2086,2087,2088,2089,2090,2091,2092,2093,2094,2095,2096,2097,2098,2099,2100,2101,2102,2103,2104,2105,2106,2107,2108,2109,2110,2111,2112,2113,2114,2115,2116,2117,2118,2119,2120,2121,2122,2123,2124,2125,2126,2127,2128,2129,2130,2131,2132,2133,2134,2135,2136,2137,2138,2139,2140,2141,2142,2143,2144,2145,2146,2147,2148,2149,2150,2151,2152,2153,2154,2155,2156,2157,2158,2159,2160,2161,2162,2163,2164,2165,2166,2167,2168,2169,2170,2171,2172,2173,2174,2175,2176,2177,2178,2179,2180,2181,2182,2183,2184,2185,2186,2187,2188,2189,2190,2191,2192,2193,2194,2195,2196,2197,2198,2199,2200,2201,2202,2203,2204,2205,2206,2207,2208,2209,2210,2211,2212,2213,2214,2215,2216,2217,2218,2219,2220,2221,2222,2223,2224,2225,2226,2227,2228,2229,2230,2231,2232,2233,2234,2235,2236,2237,2238,2239,2240,2241,2242,2243,2244,2245,2246,2247,2248,2249,2250,2251,2252,2253,2254,2255,2256,2257,2258,2259,2260,2261,2262,2263,2264,2265,2266,2267,2268,2269,2270,2271,2272,2273,2274,2275,2276,2277,2278,2279,2280,2281,2282,2283,2284,2285,2286,2287,2288,2289,2290,2291,2292,2293,2294,2295,2296,2297,2298,2299,2300,2301,2302,2303,2304,2305,2306,2307,2308,2309,2310,2311,2312,2313,2314,2315,2316,2317,2318,2319,2320,2321,2322,2323,2324,2325,2326,2327,2328,2329,2330,2331,2332,2333,2334,2335,2336,2337,2338,2339,2340,2341,2342,2343,2344,2345,2346,2347,2348,2349,2350,2351,2352,2353,2354,2355,2356,2357,2358,2359,2360,2361,2362,2363,2364,2365,2366,2367,2368,2369,2370,2371,2372,2373,2374,2375,2376,2377,2378,2379,2380,2381,2382,2383,2384,2385,2386,2387,2388,2389,2390,2391,2392,2393,2394,2395,2396,2397,2398,2399,2400,2401,2402,2403,2404,2405,2406,2407,2408,2409,2410,2411,2412,2413,2414,2415,2416,2417,2418,2419,2420,2421,2422,2423,2424,2425,2426,2427,2428,2429,2430,2431,2432,2433,2434,2435,2436,2437,2438,2439,2440,2441,2442,2443,2444,2445,2446,2447,2448,2449,2450,2451,2452,2453,2454,2455,2456,2457,2458,2459,2460,2461,2462,2463,2464,2465,2466,2467,2468,2469,2470,2471,2472,2473,2474,2475,2476,2477,2478,2479,2480,2481,2482,2483,2484,2485,2486,2487,2488,2489,2490,2491,2492,2493,2494,2495,2496,2497,2498,2499,2500],\"y\":[-99.32666666666667,-91.98,-84.00662251655629,-71.95333333333333,-66.64,-61.26,-59.25333333333333,-63.94,-65.92666666666666,-60.62,-59.28,-60.62666666666666,-63.24666666666667,-67.81333333333333,-64.28,-62.233333333333334,-60.28666666666667,-66.39333333333333,-72.52980132450331,-58.64900662251656,-63.205298013245034,-64.99333333333334,-62.0,-52.06666666666667,-60.74666666666667,-65.62251655629139,-58.384105960264904,-59.026490066225165,-56.76158940397351,-60.11920529801324,-62.13245033112583,-62.53333333333333,-63.09395973154363,-62.93288590604027,-55.086666666666666,-58.46,-65.20529801324503,-56.52317880794702,-60.42,-54.152317880794705,-63.35761589403973,-50.47019867549669,-56.10596026490066,-57.370860927152314,-53.83892617449664,-54.56953642384106,-59.35761589403973,-63.086666666666666,-54.81333333333333,-51.88741721854305,-62.54,-64.47333333333333,-66.21476510067114,-61.77333333333333,-62.78145695364238,-50.96,-58.92666666666667,-56.233333333333334,-57.459999999999994,-54.52980132450331,-60.84,-57.10596026490066,-61.920529801324506,-55.61333333333334,-63.57333333333332,-58.443708609271525,-58.629139072847686,-60.49333333333333,-64.46,-65.12,-61.97315436241611,-59.81879194630873,-63.281879194630875,-61.11258278145695,-70.54966887417218,-52.74666666666667,-60.300000000000004,-50.0,-58.62251655629139,-65.02666666666667,-59.666666666666664,-61.59602649006622,-61.13907284768212,-53.735099337748345,-63.10596026490066,-54.45695364238411,-56.04666666666667,-56.35333333333333,-58.92666666666667,-56.70469798657718,-53.36,-60.355704697986575,-56.17333333333333,-62.52317880794702,-56.74834437086093,-50.98,-57.459999999999994,-55.40397350993378,-55.59602649006622,-59.32666666666667,-55.63576158940398,-56.28,-60.35099337748344,-68.41059602649007,-62.33112582781457,-56.1,-61.96666666666667,-55.88666666666666,-69.76158940397352,-66.28666666666666,-68.2,-56.78666666666667,-59.26,-57.22147651006711,-54.11333333333334,-60.556291390728475,-52.79333333333334,-57.25165562913907,-60.72666666666667,-63.67333333333333,-56.76,-57.72,-64.44,-56.473333333333336,-60.36666666666667,-58.013333333333335,-62.43046357615894,-58.443708609271525,-55.71333333333334,-58.079470198675494,-51.89403973509934,-61.788079470198674,-46.58,-50.84563758389262,-63.993288590604024,-52.97999999999999,-59.0728476821192,-56.833333333333336,-67.06622516556291,-58.126666666666665,-60.86,-64.90666666666667,-59.68666666666667,-56.370860927152314,-62.98675496688742,-62.86092715231788,-55.526666666666664,-61.615894039735096,-58.71523178807947,-57.437086092715234,-52.75999999999999,-51.609271523178805,-59.65562913907285,-62.1,-60.38255033557047,-54.20805369127517,-58.31333333333333,-59.193333333333335,-60.24666666666667,-63.920529801324506,-60.32666666666667,-59.946308724832214,-55.241610738255034,-48.93288590604027,-52.42,-56.45333333333333,-60.54362416107382,-59.697986577181204,-56.91333333333333,-55.81333333333333,-63.25503355704698,-52.13422818791946,-65.73509933774834,-64.36423841059603,-53.17880794701987,-56.35099337748344,-56.29333333333334,-55.85333333333333,-56.86666666666667,-62.42953020134228,-52.84,-64.67114093959732,-56.306666666666665,-52.68666666666667,-62.9,-65.01333333333334,-62.086666666666666,-55.84,-51.49664429530201,-63.0728476821192,-57.72666666666667,-67.86666666666666,-67.13333333333334,-65.2,-65.15333333333334,-61.77333333333333,-66.58,-53.666666666666664,-61.193333333333335,-56.473333333333336,-55.60666666666666,-56.22666666666667,-67.8,-56.52,-60.49333333333333,-53.77333333333333,-63.873333333333335,-56.333333333333336,-52.2,-50.94,-54.7,-65.18666666666667,-56.94,-58.38666666666666,-63.00666666666667,-64.40666666666667,-66.78,-65.64666666666666,-61.586666666666666,-52.693333333333335,-49.946666666666665,-59.71333333333333,-51.49333333333333,-51.70666666666666,-51.0,-53.03973509933775,-50.68666666666667,-52.90604026845637,-54.806666666666665,-55.688741721854306,-50.66887417218543,-43.98675496688742,-46.70198675496689,-61.25165562913907,-55.17333333333333,-52.422818791946305,-56.61744966442953,-54.644295302013425,-52.053333333333335,-54.86666666666667,-49.97315436241611,-56.946666666666665,-52.57718120805369,-49.72185430463576,-54.615894039735096,-48.82666666666667,-57.24503311258278,-49.556291390728475,-52.04666666666667,-50.67785234899329,-51.7,-47.45637583892618,-41.75167785234899,-48.577181208053695,-46.63758389261745,-44.06711409395973,-50.8255033557047,-50.91275167785234,-53.86666666666667,-47.72666666666667,-50.04697986577181,-52.87417218543046,-51.07333333333333,-48.28666666666666,-57.28476821192053,-53.14666666666667,-55.05298013245034,-47.854304635761586,-49.906666666666666,-48.93377483443709,-46.09933774834437,-53.43333333333333,-51.71523178807947,-40.84,-56.13245033112583,-53.3,-52.70666666666666,-53.04635761589404,-49.58940397350993,-46.17333333333333,-51.25333333333333,-51.2,-43.95333333333333,-51.0,-46.30921052631579,-47.74324324324324,-43.12751677852349,-45.87417218543046,-49.67333333333333,-52.718120805369125,-52.57333333333333,-51.26,-48.98684210526316,-49.723684210526315,-48.21854304635762,-51.473333333333336,-51.61333333333334,-46.31333333333333,-52.70198675496689,-52.94039735099338,-49.58278145695364,-52.8,-49.65562913907285,-53.71523178807947,-55.57615894039735,-49.0,-48.53691275167785,-43.69798657718121,-48.71523178807947,-44.20805369127517,-56.24666666666667,-46.913907284768214,-53.61073825503356,-43.61333333333334,-42.609271523178805,-53.17218543046358,-56.546052631578945,-50.258278145695364,-47.79333333333334,-50.17218543046358,-47.42666666666667,-50.6578947368421,-48.040268456375834,-48.67785234899329,-47.29139072847682,-54.22516556291391,-50.64900662251656,-54.90728476821192,-48.973684210526315,-46.421052631578945,-52.789473684210535,-49.901315789473685,-50.852348993288594,-49.51655629139073,-47.324503311258276,-58.335526315789465,-48.42384105960265,-52.390728476821195,-41.43421052631579,-54.51315789473684,-51.76315789473684,-45.29139072847682,-54.777027027027025,-50.520270270270274,-54.620000000000005,-52.241610738255034,-42.58940397350993,-54.086092715231786,-43.96052631578947,-45.33112582781457,-49.62,-46.311258278145694,-54.473684210526315,-51.47019867549669,-52.5,-48.22666666666667,-52.05298013245033,-48.86666666666667,-53.00666666666667,-48.026490066225165,-42.41610738255034,-55.601351351351354,-53.14473684210526,-48.446666666666665,-51.18421052631579,-44.63576158940398,-52.26973684210526,-53.9054054054054,-50.72666666666667,-49.615894039735096,-53.6554054054054,-44.23684210526316,-54.98684210526316,-46.171052631578945,-44.7972972972973,-48.00662251655629,-49.0728476821192,-42.94078947368421,-49.7972972972973,-53.11333333333334,-51.50666666666667,-48.496688741721854,-50.86184210526316,-50.89333333333333,-50.59060402684564,-49.53333333333333,-52.9271523178808,-53.019867549668874,-48.81456953642384,-47.91275167785235,-50.1,-47.37748344370862,-53.78,-50.94701986754967,-51.66225165562914,-48.86754966887417,-43.34,-44.562913907284766,-43.53333333333333,-50.42666666666667,-55.08108108108108,-59.758389261744966,-49.45945945945946,-47.71812080536912,-49.09395973154362,-51.50335570469799,-43.38926174496644,-53.92617449664429,-50.9271523178808,-42.473333333333336,-43.83221476510067,-46.54304635761589,-47.0,-42.68,-39.94039735099338,-47.6953642384106,-47.78145695364238,-43.289473684210535,-46.74666666666667,-47.6,-45.01324503311258,-42.308724832214764,-47.899328859060404,-44.11409395973154,-52.304054054054056,-46.98,-52.205298013245034,-46.0728476821192,-45.74834437086093,-48.76,-44.71333333333333,-45.6554054054054,-52.3,-51.18,-47.33774834437086,-46.87919463087248,-48.586666666666666,-43.25,-47.053333333333335,-48.82666666666667,-52.88590604026846,-46.62251655629139,-47.00666666666667,-49.77333333333333,-48.158940397350996,-52.53333333333333,-50.09395973154363,-45.72185430463576,-41.46666666666667,-43.36486486486486,-42.90066225165563,-49.86754966887417,-51.08552631578947,-54.89403973509934,-57.32,-52.10596026490066,-48.28666666666666,-55.9,-51.84,-50.02,-49.94701986754967,-55.64238410596027,-48.66225165562914,-45.04026845637584,-47.553333333333335,-48.82432432432432,-49.8255033557047,-51.689189189189186,-46.93288590604027,-47.87919463087248,-42.95302013422819,-49.34228187919463,-50.75333333333333,-52.56666666666667,-52.57615894039735,-52.38,-52.906666666666666,-52.80132450331126,-42.56,-47.06666666666667,-48.503311258278146,-56.260000000000005,-43.735099337748345,-56.11333333333334,-55.31333333333333,-44.946308724832214,-52.72,-51.10738255033557,-51.89403973509934,-46.760000000000005,-45.013422818791945,-39.9054054054054,-44.033112582781456,-45.41059602649007,-52.12582781456954,-47.03973509933775,-49.68,-51.24503311258278,-45.77852348993289,-45.83221476510067,-51.41610738255034,-50.75167785234899,-48.48322147651007,-50.50335570469799,-47.472972972972975,-51.44,-49.01973684210526,-51.35761589403973,-47.00666666666667,-47.06578947368421,-48.79333333333334,-52.920529801324506,-47.88666666666666,-46.875,-47.5328947368421,-45.78145695364238,-46.83443708609271,-48.682119205298015,-48.26,-47.57333333333333,-45.42,-50.17333333333333,-47.019867549668874,-51.60526315789474,-38.86666666666667,-46.58389261744966,-46.760000000000005,-48.59060402684564,-45.76158940397351,-53.11184210526316,-59.38815789473684,-61.45333333333333,-51.98,-56.24503311258278,-44.11184210526316,-46.56578947368422,-52.11258278145695,-48.25657894736842,-50.1578947368421,-47.4635761589404,-53.59602649006622,-47.49006622516556,-50.39473684210526,-48.76315789473684,-47.64,-49.19205298013245,-47.42763157894737,-45.601351351351354,-45.25503355704698,-46.3,-42.70860927152318,-43.47682119205298,-48.99342105263158,-54.48026315789475,-52.520270270270274,-53.395973154362416,-61.785234899328856,-43.08,-53.4635761589404,-52.630872483221474,-53.370860927152314,-49.503311258278146,-51.3046357615894,-53.602649006622514,-53.624161073825505,-50.04,-52.324503311258276,-50.82666666666667,-55.503311258278146,-45.23841059602649,-48.83443708609271,-49.0,-50.03973509933775,-53.51006711409396,-50.261744966442954,-51.92666666666667,-49.62251655629139,-51.64238410596027,-49.57615894039735,-51.04,-57.51677852348993,-51.52980132450331,-54.15436241610738,-54.80132450331126,-50.86577181208054,-46.033112582781456,-55.68456375838926,-44.1744966442953,-49.328859060402685,-57.28666666666667,-57.6092715231788,-47.62,-51.22666666666667,-48.48322147651007,-52.92666666666667,-50.526666666666664,-48.553333333333335,-46.34,-49.10666666666667,-44.675496688741724,-46.18,-49.758389261744966,-47.32,-37.60666666666667,-48.55033557046979,-43.36,-40.49333333333333,-41.986577181208055,-44.261744966442954,-43.13333333333333,-46.233333333333334,-43.00666666666667,-43.033112582781456,-47.098684210526315,-46.05960264900662,-43.223684210526315,-43.25333333333333,-41.57046979865772,-44.735099337748345,-42.99337748344371,-47.47368421052632,-43.89333333333333,-47.211920529801326,-43.22,-38.78666666666666,-49.48,-46.153333333333336,-44.23489932885906,-45.773333333333326,-44.16778523489933,-44.20134228187919,-42.40397350993378,-39.36,-42.54304635761589,-43.80794701986755,-45.74496644295302,-48.873333333333335,-44.96666666666667,-35.30201342281879,-45.598684210526315,-48.546052631578945,-46.06578947368421,-45.42,-42.17333333333334,-48.43624161073826,-43.42666666666667,-39.33112582781457,-40.450331125827816,-47.79333333333334,-38.83892617449664,-48.88741721854305,-38.19867549668874,-44.24503311258278,-41.086092715231786,-43.96,-48.0,-42.02013422818792,-40.61333333333334,-39.78947368421052,-45.9271523178808,-45.21333333333333,-43.153333333333336,-40.794701986754966,-46.48026315789474,-38.39333333333333,-48.293333333333344,-49.703947368421055,-42.241610738255034,-44.722972972972975,-46.05921052631579,-45.50331125827815,-41.44078947368421,-54.85526315789474,-44.763157894736835,-41.266666666666666,-53.126666666666665,-46.09933774834437,-44.89999999999999,-42.86666666666667,-37.796052631578945,-32.16447368421052,-46.443708609271525,-41.89403973509934,-39.76,-35.0,-45.093333333333334,-50.651006711409394,-49.05960264900662,-43.847682119205295,-46.671140939597315,-37.67785234899329,-39.79333333333334,-45.70469798657718,-40.646666666666675,-43.58278145695364,-43.88741721854305,-39.64666666666667,-45.4527027027027,-48.34228187919463,-52.193333333333335,-37.88666666666666,-40.63576158940398,-49.81208053691275,-43.63513513513514,-43.70860927152318,-44.95973154362416,-44.258278145695364,-42.36423841059602,-44.29530201342282,-40.10666666666667,-43.22516556291391,-38.34437086092715,-36.35333333333333,-43.45637583892618,-40.41216216216216,-42.36241610738255,-54.94,-49.30201342281879,-46.264900662251655,-47.00662251655629,-45.42,-38.0945945945946,-44.36,-42.693333333333335,-39.67763157894737,-50.76315789473684,-46.098684210526315,-37.01315789473684,-51.0328947368421,-43.42384105960265,-42.086666666666666,-45.64666666666667,-40.66,-48.29139072847682,-37.54666666666667,-41.73333333333333,-48.17880794701987,-39.93288590604027,-45.96621621621622,-47.993288590604024,-46.47682119205298,-46.78947368421053,-45.93288590604026,-40.70469798657718,-42.373333333333335,-49.513333333333335,-41.6,-45.06666666666667,-43.87919463087248,-41.79865771812081,-42.10738255033557,-40.50666666666667,-51.395973154362416,-43.58389261744966,-43.18666666666667,-48.55033557046979,-44.44,-44.05263157894737,-48.04,-46.58389261744966,-41.351351351351354,-34.0,-40.50666666666667,-48.81333333333333,-37.281879194630875,-49.14666666666667,-42.152317880794705,-46.891891891891895,-53.05960264900662,-46.2972972972973,-42.41059602649007,-51.90066225165563,-45.766666666666666,-46.29333333333334,-45.10067114093959,-40.93288590604027,-45.36666666666667,-39.88666666666666,-49.76158940397351,-39.36,-50.306666666666665,-46.59731543624161,-47.53333333333333,-47.23841059602649,-51.29530201342282,-40.738255033557046,-45.83892617449664,-43.69798657718121,-45.48993288590604,-40.96,-47.11333333333334,-43.46666666666667,-48.2,-38.98,-47.54666666666667,-44.370860927152314,-47.90066225165563,-49.33774834437085,-38.52980132450331,-39.02,-50.28666666666667,-50.24,-49.67333333333333,-46.74496644295302,-48.76510067114094,-46.39333333333333,-44.556291390728475,-44.29530201342282,-45.48,-52.92617449664429,-38.36,-51.95302013422819,-43.77333333333333,-48.34228187919463,-50.63758389261745,-42.02013422818792,-53.18,-43.94,-41.92666666666667,-43.61333333333334,-45.70666666666666,-46.5,-47.993288590604024,-51.08724832214765,-56.57333333333333,-44.86577181208054,-50.75167785234899,-48.852348993288594,-47.88,-44.086666666666666,-53.266666666666666,-38.88,-44.906666666666666,-43.24,-53.18666666666667,-53.28666666666667,-56.76,-43.36241610738255,-48.241610738255034,-48.308724832214764,-56.13422818791946,-53.906666666666666,-41.5,-43.14093959731544,-44.22818791946309,-50.16,-44.46979865771812,-45.90604026845637,-42.96,-50.04666666666667,-49.22516556291391,-50.95333333333333,-52.12,-51.22,-52.29530201342282,-52.735099337748345,-48.9,-50.28476821192053,-46.43046357615894,-49.3,-55.22147651006711,-56.8255033557047,-50.64,-59.20666666666667,-45.395973154362416,-51.72666666666667,-55.57333333333333,-48.07333333333333,-49.77181208053691,-50.42953020134228,-56.22818791946309,-47.373333333333335,-52.086666666666666,-55.11920529801324,-56.271523178807946,-51.89333333333333,-48.973333333333336,-45.97315436241611,-55.31333333333333,-55.728476821192054,-47.82119205298013,-53.48344370860927,-45.946308724832214,-57.89261744966443,-53.26,-52.38255033557047,-53.95364238410596,-45.602649006622514,-52.593333333333334,-54.11333333333334,-64.31788079470199,-55.033557046979865,-43.413333333333334,-45.06666666666667,-59.88741721854305,-55.93377483443709,-59.97350993377483,-53.20666666666666,-48.65771812080537,-53.91946308724833,-53.59602649006622,-50.25165562913907,-59.82119205298013,-51.90066225165563,-53.88079470198676,-44.37748344370861,-54.59602649006622,-46.93333333333333,-45.152317880794705,-50.17333333333333,-48.10666666666667,-53.026666666666664,-48.56,-45.693333333333335,-49.92617449664429,-49.46979865771812,-43.32666666666667,-52.52348993288591,-53.71333333333333,-48.3046357615894,-38.81333333333333,-43.83892617449664,-41.24503311258278,-49.311258278145694,-51.145695364238414,-47.688741721854306,-42.973333333333336,-39.324503311258276,-43.80666666666666,-41.75167785234899,-41.9271523178808,-39.0,-53.82781456953642,-44.223684210526315,-42.41059602649007,-51.079470198675494,-51.266666666666666,-49.36666666666667,-49.26845637583892,-37.503355704697995,-44.45333333333333,-41.346666666666664,-48.147651006711406,-48.27333333333333,-51.22666666666667,-49.86577181208054,-41.87248322147651,-44.08053691275168,-43.34228187919463,-41.81879194630873,-51.086666666666666,-45.66216216216216,-45.67333333333333,-46.52,-43.317880794701985,-47.473333333333336,-51.34,-50.593333333333334,-40.09333333333333,-38.18120805369127,-47.8,-52.02,-38.06622516556291,-48.12582781456954,-47.496688741721854,-45.993288590604024,-37.053691275167786,-41.6953642384106,-45.74342105263158,-43.25165562913907,-44.373333333333335,-43.61333333333334,-48.48322147651007,-48.87919463087248,-45.95973154362416,-57.70666666666666,-40.31543624161074,-42.026666666666664,-41.10666666666667,-42.21854304635762,-50.443708609271525,-37.735099337748345,-46.2751677852349,-48.152317880794705,-48.09933774834437,-43.90728476821192,-44.8255033557047,-48.22147651006711,-57.946308724832214,-39.52,-46.63333333333333,-44.58,-50.384105960264904,-52.443708609271525,-55.6578947368421,-41.913907284768214,-50.788079470198674,-47.688741721854306,-42.437086092715234,-40.68,-43.74666666666667,-40.89261744966443,-32.51677852348993,-49.36,-36.079470198675494,-46.12080536912752,-45.346666666666664,-54.19867549668874,-49.271523178807946,-43.54,-44.38,-44.50666666666667,-52.08,-55.406666666666666,-47.32666666666667,-50.94630872483222,-44.503311258278146,-39.666666666666664,-34.80666666666667,-40.9271523178808,-48.8,-50.77852348993289,-40.66887417218543,-49.94039735099338,-40.49333333333333,-42.52317880794702,-48.18791946308725,-56.99337748344371,-51.946308724832214,-39.0,-47.41333333333333,-47.68,-46.0,-50.738255033557046,-41.84,-50.205298013245034,-56.682119205298015,-49.3,-51.50666666666667,-59.0,-50.51655629139073,-58.370860927152314,-46.66225165562914,-57.69798657718121,-47.473333333333336,-40.920529801324506,-46.395973154362416,-58.24503311258278,-54.107382550335565,-47.59602649006622,-53.96026490066225,-43.97315436241611,-48.079470198675494,-46.41610738255034,-47.35099337748344,-52.77852348993289,-49.8,-55.1523178807947,-48.43046357615894,-51.32214765100671,-58.214765100671144,-49.446666666666665,-46.23489932885906,-47.18666666666667,-58.993377483443716,-61.88079470198676,-52.33333333333334,-53.41059602649007,-57.54666666666667,-51.841059602649004,-49.691275167785236,-49.10596026490066,-55.29530201342282,-42.21854304635762,-49.93288590604027,-51.373333333333335,-45.47682119205298,-49.63758389261746,-52.513333333333335,-52.72666666666667,-58.79470198675497,-52.41721854304636,-52.443708609271525,-51.913907284768214,-58.59060402684564,-50.66225165562914,-48.369127516778526,-41.033557046979865,-58.6778523489933,-46.788079470198674,-49.69798657718121,-45.44666666666667,-52.086092715231786,-48.40397350993378,-49.17880794701987,-48.145695364238414,-44.57333333333334,-57.09271523178808,-52.019867549668874,-46.63576158940398,-56.56375838926174,-48.47019867549669,-43.19205298013245,-47.76821192052981,-49.19463087248322,-39.31333333333333,-47.899328859060404,-52.145695364238414,-52.29530201342282,-49.03333333333333,-43.22516556291391,-47.214765100671144,-57.28666666666667,-48.11258278145695,-50.41721854304636,-55.41721854304636,-54.96666666666667,-47.44,-46.47682119205298,-50.86577181208054,-52.32,-47.602649006622514,-46.70860927152318,-50.328859060402685,-46.66,-46.384105960264904,-53.18120805369127,-49.317880794701985,-39.70198675496689,-53.788079470198674,-47.23841059602649,-49.36423841059602,-47.46308724832214,-38.80132450331126,-57.13907284768212,-41.993288590604024,-44.16556291390729,-57.88079470198676,-60.18120805369127,-51.13245033112583,-49.62251655629139,-44.718120805369125,-50.35999999999999,-46.12582781456954,-53.29139072847682,-49.80536912751678,-45.373333333333335,-45.397350993377486,-39.89403973509935,-44.70198675496689,-43.966442953020135,-45.36666666666667,-42.13333333333333,-48.03973509933775,-45.841059602649004,-44.666666666666664,-53.38410596026491,-49.794701986754966,-45.5503355704698,-44.52,-43.45695364238411,-52.52980132450331,-46.847682119205295,-41.48344370860927,-54.369127516778526,-53.853333333333325,-48.03333333333333,-46.56666666666667,-47.36423841059602,-47.671140939597315,-52.64900662251656,-52.46979865771812,-56.317880794701985,-49.79865771812081,-51.193333333333335,-48.24832214765101,-52.05960264900662,-47.899328859060404,-49.666666666666664,-51.75333333333333,-45.98675496688742,-48.644295302013425,-48.64,-49.71523178807947,-42.78666666666667,-52.14,-51.06,-48.02,-52.32,-44.56666666666667,-48.10596026490066,-49.63333333333333,-46.9,-48.84000000000001,-46.3046357615894,-49.26,-41.29139072847682,-43.17333333333333,-49.61333333333334,-45.22666666666666,-48.24666666666667,-44.48,-44.72666666666667,-49.513333333333335,-54.35333333333333,-54.78666666666667,-48.54,-43.31333333333333,-45.72666666666667,-55.72666666666667,-46.2,-45.72666666666667,-44.62,-49.68666666666667,-52.78666666666667,-48.586666666666666,-47.1,-49.42666666666667,-49.02,-50.6,-50.20666666666666,-54.166666666666664,-46.72666666666667,-46.17333333333333,-47.36,-47.66,-37.48,-47.62,-46.82666666666667,-43.75333333333333,-50.38666666666666,-51.61333333333334,-42.713333333333324,-51.62,-56.94,-37.873333333333335,-46.4,-51.76,-45.766666666666666,-49.26,-52.153333333333336,-46.71333333333333,-57.00666666666667,-51.886666666666656,-59.593333333333334,-55.053333333333335,-47.24,-59.56666666666667,-52.126666666666665,-51.42,-48.6,-51.52,-47.473333333333336,-43.486666666666665,-49.72666666666667,-49.379999999999995,-46.53691275167785,-51.100671140939596,-46.04697986577181,-53.54,-41.013333333333335,-48.31543624161074,-57.14666666666667,-52.94701986754967,-51.93333333333333,-59.25333333333333,-56.56,-59.02,-48.733333333333334,-56.68,-42.14,-53.10666666666667,-48.18543046357616,-50.78145695364238,-55.38,-45.65999999999999,-49.07333333333333,-48.37748344370861,-44.166666666666664,-47.7248322147651,-50.25165562913907,-47.766666666666666,-54.833333333333336,-51.75333333333333,-52.973333333333336,-47.6,-53.013422818791945,-50.95302013422819,-38.993288590604024,-42.38255033557047,-57.78,-55.34437086092714,-48.67333333333333,-42.24832214765101,-47.82,-40.397350993377486,-51.553333333333335,-47.624161073825505,-50.557046979865774,-51.053333333333335,-46.97315436241611,-54.16107382550336,-50.48322147651007,-48.766666666666666,-47.281879194630875,-45.50335570469799,-45.086666666666666,-57.6953642384106,-52.58278145695364,-54.55629139072847,-58.13907284768212,-51.71333333333333,-47.88,-52.733333333333334,-53.56,-56.053333333333335,-49.29333333333334,-58.653333333333336,-50.079470198675494,-45.66887417218543,-49.873333333333335,-51.22,-46.17333333333333,-50.77483443708609,-58.18543046357616,-43.56666666666667,-46.86,-50.939597315436245,-55.54362416107382,-57.53020134228188,-54.261744966442954,-46.993288590604024,-58.12,-44.20666666666666,-48.47651006711409,-44.557046979865774,-47.82781456953642,-52.58940397350994,-51.57615894039735,-51.26,-53.833333333333336,-48.22147651006711,-49.766666666666666,-51.46666666666667,-53.913333333333334,-49.63758389261746,-57.348993288590606,-48.76,-44.76,-50.899328859060404,-52.29530201342282,-48.57333333333333,-45.8,-47.98,-49.96,-59.32000000000001,-45.788079470198674,-48.22516556291391,-50.35099337748344,-40.4635761589404,-54.38666666666666,-49.95302013422819,-47.07333333333333,-48.71333333333333,-55.733333333333334,-45.94,-39.22516556291391,-56.013333333333335,-56.82666666666667,-53.95364238410596,-52.79333333333334,-44.08,-48.71999999999999,-50.735099337748345,-47.67333333333333,-53.980132450331126,-55.79194630872483,-54.28,-54.34437086092715,-50.980132450331126,-48.626666666666665,-52.11409395973154,-47.48322147651007,-48.45637583892618,-61.11409395973154,-49.95364238410596,-51.78145695364238,-54.682119205298015,-54.86754966887417,-47.29139072847682,-57.49664429530201,-51.8255033557047,-45.677852348993284,-59.70469798657718,-48.20805369127517,-52.126666666666665,-45.00666666666667,-51.153333333333336,-46.106666666666676,-53.53691275167785,-56.43333333333333,-57.08,-58.32,-46.086666666666666,-44.50666666666667,-49.96,-57.19205298013245,-49.43046357615894,-49.34437086092715,-48.50666666666666,-49.496688741721854,-52.46,-48.682119205298015,-54.57615894039735,-48.25165562913907,-50.93377483443709,-49.95364238410596,-45.81456953642384,-48.211920529801326,-43.72,-44.6953642384106,-47.70198675496689,-45.5,-46.22,-45.44666666666667,-46.03333333333333,-45.0,-48.44,-42.88666666666666,-49.82666666666667,-49.93333333333333,-45.373333333333335,-47.61333333333334,-53.99333333333333,-54.11333333333334,-48.96,-59.8,-48.393333333333324,-50.12,-45.553333333333335,-41.00666666666667,-50.46,-51.92666666666667,-39.06,-47.486666666666665,-44.18666666666667,-45.28666666666667,-51.95333333333333,-45.593333333333334,-53.22666666666667,-51.74,-42.63333333333333,-49.63333333333333,-52.61333333333334,-42.08,-48.946666666666665,-54.06666666666667,-50.446666666666665,-49.806666666666665,-44.71333333333333,-48.18000000000001,-53.15436241610738,-52.1,-47.072847682119196,-52.7,-49.370860927152314,-51.71333333333333,-52.693333333333335,-47.153333333333336,-57.96,-45.06666666666667,-52.255033557046985,-51.86666666666667,-50.100671140939596,-48.794701986754966,-48.79333333333334,-45.12751677852349,-44.89333333333333,-50.17333333333333,-45.38255033557047,-48.293333333333344,-47.42666666666667,-43.84563758389262,-47.89261744966443,-48.57046979865772,-45.50666666666667,-43.45333333333333,-50.4,-50.66887417218543,-51.92666666666667,-53.615894039735096,-51.00666666666667,-50.46666666666667,-46.63333333333333,-47.668874172185426,-50.98675496688742,-48.384105960264904,-50.72185430463577,-53.11333333333334,-40.5,-43.78666666666667,-51.77333333333333,-48.19867549668874,-53.14666666666667,-49.53691275167785,-54.55629139072847,-50.99333333333333,-43.266666666666666,-40.35761589403973,-55.6953642384106,-48.56953642384106,-44.225165562913915,-42.741721854304636,-47.794701986754966,-42.86754966887417,-41.486666666666665,-43.81879194630873,-53.16778523489933,-43.36666666666667,-48.52348993288591,-50.18,-51.562913907284766,-47.766666666666666,-45.78000000000001,-57.09395973154363,-43.95302013422819,-44.69798657718121,-50.66,-55.54666666666667,-51.83892617449664,-46.60666666666667,-45.43333333333333,-39.873333333333335,-45.281879194630875,-53.40268456375839,-45.27333333333333,-56.3,-53.02,-47.08666666666667,-44.49333333333333,-57.16,-48.95302013422819,-49.355704697986575,-41.46979865771812,-53.38666666666666,-54.258278145695364,-47.11920529801324,-50.64666666666667,-46.833333333333336,-54.40268456375839,-53.214765100671144,-42.093333333333334,-51.68,-46.8,-49.21333333333333,-48.49333333333333,-46.72,-46.32666666666667,-40.25333333333333,-41.0,-37.85333333333333,-48.413333333333334,-51.41721854304636,-42.22147651006711,-46.96666666666667,-48.71523178807947,-52.626666666666665,-48.87417218543046,-48.794701986754966,-49.6953642384106,-45.145695364238414,-52.62251655629139,-46.758389261744966,-57.68666666666667,-46.1,-48.586666666666666,-47.28666666666667,-53.31333333333334,-49.42,-46.42,-53.91946308724833,-54.38926174496644,-41.906666666666666,-47.02,-48.93999999999999,-54.906666666666666,-45.6953642384106,-45.98675496688742,-53.271523178807946,-49.06666666666667,-54.443708609271525,-51.373333333333335,-50.013422818791945,-54.355704697986575,-52.92666666666667,-46.2317880794702,-45.11920529801324,-52.486666666666665,-54.81879194630873,-57.758389261744966,-58.61333333333334,-53.24666666666667,-54.53333333333333,-52.346666666666664,-47.9271523178808,-52.72185430463576,-48.90728476821192,-49.76510067114094,-55.39333333333333,-49.813333333333325,-48.053333333333335,-44.18666666666667,-45.85333333333333,-54.48,-57.04666666666667,-49.85333333333333,-52.086666666666666,-43.166666666666664,-49.26666666666666,-47.766666666666666,-48.32214765100671,-55.52,-52.00666666666667,-42.733333333333334,-54.13907284768212,-44.693333333333335,-53.2,-56.66887417218543,-51.10596026490066,-45.333333333333336,-49.973333333333336,-50.20666666666666,-52.74,-47.71333333333333,-52.47019867549669,-42.513333333333335,-50.54304635761589,-46.01324503311258,-45.72666666666667,-49.7682119205298,-62.29801324503311,-55.38666666666666,-54.442953020134226,-48.71333333333333,-47.668874172185426,-57.38,-54.01324503311258,-50.10596026490066,-53.11258278145695,-56.688741721854306,-56.60666666666667,-47.153333333333336,-51.626666666666665,-51.786666666666676,-51.306666666666665,-51.51655629139073,-53.47019867549669,-51.67333333333334,-50.1,-42.25333333333333,-55.68,-45.58278145695364,-47.45695364238411,-52.70666666666666,-42.99328859060403,-50.07333333333333,-56.36666666666666,-46.42666666666667,-36.56666666666667,-39.99333333333333,-51.72185430463576,-48.36666666666667,-46.615894039735096,-56.53691275167786,-59.93288590604027,-46.59060402684564,-55.86666666666667,-43.38926174496644,-48.63333333333333,-55.147651006711406,-52.24832214765101,-52.728476821192054,-47.68666666666667,-56.0728476821192,-51.788079470198674,-54.553333333333335,-53.25333333333333,-50.231788079470206,-49.87248322147651,-45.526666666666664,-54.19205298013245,-57.578947368421055,-50.5,-40.193333333333335,-51.19867549668874,-47.58278145695364,-53.38410596026491,-45.413333333333334,-46.68874172185431,-47.913907284768214,-45.66216216216216,-36.40268456375839,-48.393333333333324,-46.2171052631579,-48.11184210526316,-49.89473684210526,-48.443708609271525,-50.443708609271525,-48.9271523178808,-50.553333333333335,-45.14666666666667,-52.233333333333334,-47.05960264900662,-53.013422818791945,-49.56666666666667,-55.549668874172184,-51.317880794701985,-50.0728476821192,-50.58278145695364,-44.1,-57.373333333333335,-45.16107382550336,-46.81333333333333,-46.741721854304636,-53.22818791946309,-48.060810810810814,-50.88590604026846,-42.899328859060404,-52.586666666666666,-55.56953642384106,-48.553333333333335,-49.920529801324506,-52.486666666666665,-45.07333333333333,-51.06,-47.873333333333335,-45.58278145695364,-42.42384105960265,-58.19867549668874,-48.42666666666667,-45.95973154362416,-56.946666666666665,-51.86,-41.32666666666667,-50.80794701986755,-47.12582781456954,-47.42384105960265,-48.80132450331126,-47.72,-50.48993288590604,-53.03333333333333,-45.89261744966443,-54.06711409395973,-46.666666666666664,-52.13333333333333,-51.0728476821192,-51.22,-47.806666666666665,-45.58,-47.906666666666666,-47.66,-48.18000000000001,-44.43624161073826,-47.33112582781457,-42.12582781456954,-47.76,-53.81208053691275,-49.56,-45.682119205298015,-44.98675496688742,-49.847682119205295,-47.11920529801324,-36.273333333333326,-47.07382550335571,-46.26,-45.311258278145694,-44.78,-44.81333333333333,-47.38,-39.879999999999995,-48.33112582781457,-43.42953020134228,-43.04,-48.70198675496689,-50.95364238410596,-45.20529801324503,-49.45637583892618,-46.27814569536424,-46.76158940397351,-48.51655629139073,-48.86092715231788,-42.847682119205295,-48.79333333333334,-45.847682119205295,-46.31333333333333,-47.57615894039735,-49.160000000000004,-44.19867549668874,-49.77483443708609,-56.83221476510067,-49.65562913907285,-46.83443708609271,-48.556291390728475,-49.84,-60.841059602649004,-50.42953020134228,-46.553333333333335,-41.675496688741724,-43.22147651006711,-53.373333333333335,-54.450331125827816,-53.76158940397351,-53.99337748344371,-48.35099337748344,-48.966887417218544,-50.384105960264904,-48.9,-54.19205298013245,-54.675496688741724,-55.77483443708609,-53.93377483443709,-58.298013245033104,-43.139072847682115,-59.2317880794702,-53.85906040268456,-55.682119205298015,-59.90728476821192,-44.56953642384106,-49.74834437086093,-53.45333333333333,-50.09933774834437,-60.00662251655629,-50.20666666666666,-57.56,-46.0728476821192,-54.17333333333333,-54.94039735099338,-54.76158940397351,-55.66225165562914,-52.67333333333333,-42.11920529801324,-45.54304635761589,-46.966887417218544,-55.317880794701985,-43.58278145695364,-60.0,-42.053333333333335,-51.17218543046358,-51.52317880794702,-48.36,-45.32666666666667,-46.629139072847686,-53.21854304635762,-47.95333333333333,-41.172185430463585,-54.72,-55.473333333333336,-52.34437086092715,-42.193333333333335,-51.397350993377486,-41.01973684210526,-41.41059602649007,-49.615894039735096,-50.682119205298015,-48.7,-50.52980132450331,-50.62251655629139,-47.53333333333333,-55.75333333333333,-46.4496644295302,-50.317880794701985,-49.35761589403973,-44.61073825503356,-48.01324503311258,-58.966887417218544,-50.16778523489933,-52.24,-57.403333333333336,-55.68333333333333,-50.626666666666665,-47.45333333333333,-49.64666666666667,-63.19666666666667,-56.46333333333333,-60.27333333333333,-58.086666666666666,-59.11666666666667,-55.81666666666667,-55.64,-46.182119205298015,-54.70333333333333,-58.182119205298015,-48.99333333333333,-54.496688741721854,-52.18,-47.21854304635762,-49.7682119205298,-51.77483443708609,-53.77333333333333,-56.48344370860927,-56.060402684563755,-50.02013422818792,-51.78476821192053,-54.620000000000005,-45.13907284768212,-52.771523178807946,-58.09271523178808,-60.0,-48.32,-54.086092715231786,-57.59060402684565,-46.27333333333333,-53.043333333333344,-51.579470198675494,-52.79,-58.06,-58.64,-47.668874172185426,-51.33,-56.109271523178805,-55.10333333333333,-59.52980132450331,-46.870860927152314,-54.07333333333334,-60.78,-56.95302013422819,-48.81,-46.04697986577181,-47.776666666666664,-51.16107382550336,-45.47,-51.14666666666667,-46.586092715231786,-52.26973684210526,-54.28947368421053,-51.92,-51.884105960264904,-54.33443708609271,-54.01324503311258,-52.67333333333333,-53.446666666666665,-48.39,-50.9695945945946,-45.91,-54.46308724832215,-44.08,-57.450331125827816,-53.55298013245033,-50.44039735099338,-51.671140939597315,-51.49006622516556,-43.921052631578945,-57.833333333333336,-49.56375838926174,-54.70469798657718,-53.75,-47.33,-52.77852348993289,-52.80536912751678,-44.846666666666664,-50.40268456375839,-48.35333333333333,-48.57666666666667,-52.85906040268456,-57.04635761589404,-48.34437086092715,-41.4,-41.97666666666667,-51.503311258278146,-46.817880794701985,-55.920529801324506,-46.903333333333336,-54.63666666666666,-55.68456375838926,-46.966887417218544,-44.397350993377486,-46.95364238410596,-46.56711409395973,-48.89000000000001,-55.384105960264904,-51.64,-51.83108108108108,-52.76013513513514,-53.945945945945944,-51.28666666666667,-44.27181208053691,-48.67567567567568,-47.99324324324324,-44.836666666666666,-44.346666666666664,-38.33221476510067,-52.70469798657718,-48.7248322147651,-62.209999999999994,-42.604026845637584,-48.04,-49.682119205298015,-48.317880794701985,-43.416666666666664,-51.51006711409396,-48.01013513513514,-51.73,-46.33,-52.13422818791946,-50.81666666666667,-48.145695364238414,-44.18543046357616,-47.63486842105263,-47.5364238410596,-51.83443708609271,-43.876666666666665,-52.562913907284766,-45.01333333333334,-46.7682119205298,-48.64666666666667,-48.96026490066225,-52.443708609271525,-55.76,-53.33443708609271,-54.73841059602649,-51.04635761589404,-53.658940397350996,-53.406666666666666,-53.95973154362416,-54.49,-48.922818791946305,-50.557046979865774,-55.147651006711406,-46.48993288590604,-46.16891891891892,-52.81666666666667,-54.13907284768212,-46.86754966887417,-53.15,-52.35906040268456,-47.903333333333336,-44.7,-57.13333333333334,-53.653333333333336,-49.271523178807946,-51.261744966442954,-43.141891891891895,-47.00337837837838,-45.8445945945946,-51.093333333333334,-41.93,-54.33,-43.7248322147651,-43.144295302013425,-45.033557046979865,-54.33892617449664,-50.56622516556291,-49.656666666666666,-47.11409395973154,-47.73489932885905,-49.82333333333333,-49.89333333333333,-41.390728476821195,-44.20198675496689,-45.9222972972973,-51.36,-43.81333333333333,-50.124161073825505,-51.72,-53.596666666666664,-43.00662251655629,-45.841059602649004,-48.375838926174495,-54.733108108108105,-48.479729729729726,-43.18,-52.50675675675676,-49.09863945578231,-51.70134228187919,-45.26845637583892,-57.807432432432435,-58.72818791946309,-52.276315789473685,-49.60526315789474,-49.48026315789474,-40.24834437086093,-42.72185430463576,-45.27814569536424,-48.5,-40.58,-56.2972972972973,-53.653333333333336,-47.7248322147651,-52.90728476821192,-50.09933774834437,-42.19867549668874,-46.86666666666666,-46.90066225165563,-46.98675496688742,-53.80794701986755,-46.82666666666667,-47.76,-45.51655629139073,-48.153333333333336,-47.275167785234906,-51.11333333333334,-48.21333333333333,-44.32666666666667,-44.8,-33.76158940397352,-47.14,-52.053333333333335,-44.75333333333333,-46.77483443708609,-44.421052631578945,-40.36241610738255,-44.72666666666667,-48.4,-49.806666666666665,-47.473333333333336,-54.97986577181208,-49.57615894039735,-48.25827814569536,-41.93333333333333,-48.4496644295302,-40.94,-42.473333333333336,-48.2,-44.38666666666666,-50.43046357615894,-43.629139072847686,-44.086092715231786,-45.96052631578947,-39.55263157894737,-44.46,-45.736666666666665,-50.61333333333334,-52.75657894736842,-39.973684210526315,-42.11333333333334,-57.71523178807948,-40.88741721854305,-46.920529801324506,-47.11184210526316,-50.153333333333336,-43.324503311258276,-50.39333333333333,-45.70860927152318,-47.78947368421053,-42.32236842105263,-48.83443708609271,-51.421052631578945,-45.09933774834437,-48.78947368421053,-57.549668874172184,-48.21052631578947,-51.50666666666667,-49.17218543046358,-53.05263157894737,-40.81456953642384,-55.35761589403973,-51.735099337748345,-48.77852348993289,-42.88741721854305,-44.04635761589404,-44.96052631578947,-43.29801324503311,-49.75,-46.77852348993289,-52.74834437086093,-51.64900662251656,-46.3046357615894,-45.373333333333335,-48.549668874172184,-46.10596026490066,-46.8421052631579,-48.00666666666667,-43.35761589403973,-42.95394736842105,-48.51006711409396,-46.586666666666666,-50.92666666666667,-42.06622516556291,-50.42384105960265,-48.76,-44.58278145695364,-49.0328947368421,-50.296052631578945,-40.0,-51.64900662251656,-40.19736842105263,-43.55,-51.99999999999999,-40.93421052631579,-45.046052631578945,-51.503311258278146,-39.233333333333334,-41.662251655629134,-45.682119205298015,-46.5364238410596,-46.033112582781456,-37.158940397350996,-42.93092105263158,-44.32666666666667,-45.30794701986755,-46.96052631578947,-42.35197368421053,-43.671052631578945,-47.303333333333335,-51.56907894736842,-49.30592105263158,-46.94039735099338,-48.205298013245034,-51.21192052980132,-39.390728476821195,-42.43421052631579,-43.32214765100671,-45.906666666666666,-49.013333333333335,-38.20860927152318,-46.8125,-45.35333333333333,-45.97019867549669,-46.046052631578945,-42.546052631578945,-42.854304635761586,-42.83552631578947,-48.04666666666667,-50.14238410596027,-48.11333333333334,-41.13576158940398,-50.913907284768214,-32.92,-45.84437086092716,-46.206666666666656,-49.526666666666664,-42.733333333333334,-43.901315789473685,-41.11184210526316,-47.30592105263158,-46.64802631578947,-46.69078947368421,-39.49337748344371,-42.848684210526315,-39.2828947368421,-43.08389261744966,-48.79333333333334,-48.4,-47.52348993288591,-45.63,-38.1,-48.64,-37.553333333333335,-47.12828947368421,-52.674342105263165,-38.14473684210526,-40.51655629139073,-40.01006711409396,-45.91275167785235,-46.24,-47.99337748344371,-48.13157894736842,-49.2,-43.82119205298013,-48.50993377483444,-45.973509933774835,-51.6578947368421,-51.108552631578945,-48.74342105263158,-43.369127516778526,-40.02317880794702,-49.08552631578947,-40.588815789473685,-42.50000000000001,-42.52,-45.40397350993377,-32.20529801324503,-40.651315789473685,-39.99337748344371,-53.437086092715234,-47.817567567567565,-44.53020134228188,-50.01324503311258,-52.653333333333336,-49.71523178807947,-39.48993288590604,-44.86666666666667,-45.19205298013245,-44.973509933774835,-51.21854304635762,-45.39333333333333,-50.04666666666667,-42.64666666666667,-45.50666666666667,-50.95,-52.56375838926174,-43.395973154362416,-48.32,-40.188741721854306,-40.48,-40.264900662251655,-46.053333333333335,-48.47651006711409,-41.52348993288591,-44.88255033557047,-41.153333333333336,-45.50333333333333,-37.12582781456954,-43.602649006622514,-42.72,-46.35333333333333,-41.74333333333333,-40.086666666666666,-51.13245033112583,-51.013333333333335,-40.09060402684564,-48.32666666666667,-41.553333333333335,-47.42333333333333,-48.24333333333333,-48.61333333333334,-48.04,-48.473333333333336,-43.88741721854305,-41.77483443708609,-46.45666666666666,-49.586666666666666,-46.63245033112583,-49.20666666666666,-42.17333333333334,-45.236666666666665,-44.78666666666667,-45.53333333333333,-55.19,-51.939597315436245,-41.75496688741722,-46.843333333333334,-47.59,-46.50333333333333,-53.271523178807946,-51.22185430463576,-51.82666666666667,-58.96979865771812,-51.84563758389262,-51.93666666666667,-44.553333333333335,-47.38,-43.43333333333333,-48.13333333333333,-54.238255033557046,-47.14666666666667,-48.17880794701987,-46.91059602649007,-50.450331125827816,-51.43377483443709,-51.25666666666667,-50.35999999999999,-52.4635761589404,-48.5364238410596,-51.93333333333333,-57.526666666666664,-50.14900662251656,-52.0728476821192,-56.67880794701986,-55.07333333333333,-49.66556291390729,-54.56622516556291,-55.48344370860927,-49.53,-54.62751677852349,-49.966442953020135,-53.67785234899329,-54.46333333333333,-49.26845637583892,-49.741721854304636,-50.562913907284766,-47.62582781456955,-53.23509933774835,-54.65,-55.102649006622514,-50.30132450331126,-56.28476821192053,-55.1953642384106,-62.31666666666667,-50.276666666666664,-54.61258278145695,-43.58666666666666,-52.25666666666667,-51.937086092715234,-55.97,-57.03333333333333,-53.68543046357616,-46.94701986754967,-50.59271523178808,-46.663333333333334,-43.635761589403984,-51.70666666666666,-49.788590604026844,-49.07333333333333,-51.489932885906036,-37.81333333333333,-54.83443708609271,-39.264900662251655,-52.328859060402685,-56.873333333333335,-48.317880794701985,-47.49333333333333,-50.97666666666667,-44.166666666666664,-47.376666666666665,-54.59271523178808,-51.705298013245034,-51.290000000000006,-57.69,-51.624161073825505,-53.41,-51.20666666666666,-58.07333333333333,-46.01,-56.336666666666666,-46.10738255033557,-45.846666666666664,-51.39,-44.23154362416108,-44.24333333333333,-42.43377483443709,-43.09666666666666,-48.63576158940398,-46.42333333333333,-42.70805369127517,-40.32666666666667,-44.93377483443709,-48.38,-46.80536912751678,-47.76845637583893,-47.60738255033557,-52.70333333333333,-56.903333333333336,-41.35333333333333,-44.376666666666665,-51.20805369127517,-46.153333333333336,-55.10999999999999,-51.93624161073826,-56.171140939597315,-53.57333333333333,-47.52980132450331,-44.38666666666666,-48.37248322147651,-49.06666666666667,-46.873333333333335,-54.86577181208054,-46.99006622516556,-55.86423841059602,-47.049668874172184,-54.736666666666665,-47.33443708609271,-49.03,-45.153333333333336,-40.69867549668874,-47.18,-44.31208053691275,-34.5503355704698,-48.68,-39.88666666666666,-43.12080536912752,-53.399328859060404,-48.919463087248324,-51.523489932885916,-48.02013422818792,-57.00333333333333,-57.56,-49.36,-42.92384105960265,-46.72666666666667,-46.36333333333334,-42.306666666666665,-52.5364238410596,-47.016666666666666,-54.46979865771812,-46.89333333333333,-50.49,-57.06666666666667,-53.68999999999999,-42.93333333333334,-39.803333333333335,-51.486666666666665,-44.25333333333333,-47.056666666666665,-52.20666666666666,-52.675496688741724,-47.52,-46.30794701986755,-49.609271523178805,-49.99664429530201,-45.21666666666667,-50.580536912751676,-46.11920529801324,-44.79801324503311,-55.65666666666666,-50.13087248322148,-42.39403973509934,-54.817880794701985,-45.18791946308725,-50.43333333333333,-50.68666666666667]},\"selected\":{\"id\":\"1071\"},\"selection_policy\":{\"id\":\"1070\"}},\"id\":\"1055\",\"type\":\"ColumnDataSource\"},{\"attributes\":{},\"id\":\"1049\",\"type\":\"AllLabels\"},{\"attributes\":{\"source\":{\"id\":\"1055\"}},\"id\":\"1060\",\"type\":\"CDSView\"},{\"attributes\":{\"line_alpha\":0.1,\"line_color\":\"#ff7f0e\",\"x\":{\"field\":\"x\"},\"y\":{\"field\":\"y\"}},\"id\":\"1057\",\"type\":\"Line\"},{\"attributes\":{\"bottom_units\":\"screen\",\"coordinates\":null,\"fill_alpha\":0.5,\"fill_color\":\"lightgrey\",\"group\":null,\"left_units\":\"screen\",\"level\":\"overlay\",\"line_alpha\":1.0,\"line_color\":\"black\",\"line_dash\":[4,4],\"line_width\":2,\"right_units\":\"screen\",\"syncable\":false,\"top_units\":\"screen\"},\"id\":\"1028\",\"type\":\"BoxAnnotation\"},{\"attributes\":{\"overlay\":{\"id\":\"1028\"}},\"id\":\"1024\",\"type\":\"BoxZoomTool\"},{\"attributes\":{\"label\":{\"value\":\"mean\"},\"renderers\":[{\"id\":\"1059\"}]},\"id\":\"1073\",\"type\":\"LegendItem\"},{\"attributes\":{\"tools\":[{\"id\":\"1022\"},{\"id\":\"1023\"},{\"id\":\"1024\"},{\"id\":\"1025\"},{\"id\":\"1026\"},{\"id\":\"1027\"}]},\"id\":\"1029\",\"type\":\"Toolbar\"},{\"attributes\":{},\"id\":\"1070\",\"type\":\"UnionRenderers\"},{\"attributes\":{\"axis_label\":\"fitness\",\"coordinates\":null,\"formatter\":{\"id\":\"1045\"},\"group\":null,\"major_label_policy\":{\"id\":\"1046\"},\"ticker\":{\"id\":\"1019\"}},\"id\":\"1018\",\"type\":\"LinearAxis\"},{\"attributes\":{\"coordinates\":null,\"group\":null,\"text\":\"fitness\"},\"id\":\"1004\",\"type\":\"Title\"},{\"attributes\":{},\"id\":\"1026\",\"type\":\"ResetTool\"},{\"attributes\":{},\"id\":\"1050\",\"type\":\"UnionRenderers\"},{\"attributes\":{},\"id\":\"1071\",\"type\":\"Selection\"},{\"attributes\":{\"data\":{\"x\":[0,1,2,3,4,5,6,7,8,9,10,11,12,13,14,15,16,17,18,19,20,21,22,23,24,25,26,27,28,29,30,31,32,33,34,35,36,37,38,39,40,41,42,43,44,45,46,47,48,49,50,51,52,53,54,55,56,57,58,59,60,61,62,63,64,65,66,67,68,69,70,71,72,73,74,75,76,77,78,79,80,81,82,83,84,85,86,87,88,89,90,91,92,93,94,95,96,97,98,99,100,101,102,103,104,105,106,107,108,109,110,111,112,113,114,115,116,117,118,119,120,121,122,123,124,125,126,127,128,129,130,131,132,133,134,135,136,137,138,139,140,141,142,143,144,145,146,147,148,149,150,151,152,153,154,155,156,157,158,159,160,161,162,163,164,165,166,167,168,169,170,171,172,173,174,175,176,177,178,179,180,181,182,183,184,185,186,187,188,189,190,191,192,193,194,195,196,197,198,199,200,201,202,203,204,205,206,207,208,209,210,211,212,213,214,215,216,217,218,219,220,221,222,223,224,225,226,227,228,229,230,231,232,233,234,235,236,237,238,239,240,241,242,243,244,245,246,247,248,249,250,251,252,253,254,255,256,257,258,259,260,261,262,263,264,265,266,267,268,269,270,271,272,273,274,275,276,277,278,279,280,281,282,283,284,285,286,287,288,289,290,291,292,293,294,295,296,297,298,299,300,301,302,303,304,305,306,307,308,309,310,311,312,313,314,315,316,317,318,319,320,321,322,323,324,325,326,327,328,329,330,331,332,333,334,335,336,337,338,339,340,341,342,343,344,345,346,347,348,349,350,351,352,353,354,355,356,357,358,359,360,361,362,363,364,365,366,367,368,369,370,371,372,373,374,375,376,377,378,379,380,381,382,383,384,385,386,387,388,389,390,391,392,393,394,395,396,397,398,399,400,401,402,403,404,405,406,407,408,409,410,411,412,413,414,415,416,417,418,419,420,421,422,423,424,425,426,427,428,429,430,431,432,433,434,435,436,437,438,439,440,441,442,443,444,445,446,447,448,449,450,451,452,453,454,455,456,457,458,459,460,461,462,463,464,465,466,467,468,469,470,471,472,473,474,475,476,477,478,479,480,481,482,483,484,485,486,487,488,489,490,491,492,493,494,495,496,497,498,499,500,501,502,503,504,505,506,507,508,509,510,511,512,513,514,515,516,517,518,519,520,521,522,523,524,525,526,527,528,529,530,531,532,533,534,535,536,537,538,539,540,541,542,543,544,545,546,547,548,549,550,551,552,553,554,555,556,557,558,559,560,561,562,563,564,565,566,567,568,569,570,571,572,573,574,575,576,577,578,579,580,581,582,583,584,585,586,587,588,589,590,591,592,593,594,595,596,597,598,599,600,601,602,603,604,605,606,607,608,609,610,611,612,613,614,615,616,617,618,619,620,621,622,623,624,625,626,627,628,629,630,631,632,633,634,635,636,637,638,639,640,641,642,643,644,645,646,647,648,649,650,651,652,653,654,655,656,657,658,659,660,661,662,663,664,665,666,667,668,669,670,671,672,673,674,675,676,677,678,679,680,681,682,683,684,685,686,687,688,689,690,691,692,693,694,695,696,697,698,699,700,701,702,703,704,705,706,707,708,709,710,711,712,713,714,715,716,717,718,719,720,721,722,723,724,725,726,727,728,729,730,731,732,733,734,735,736,737,738,739,740,741,742,743,744,745,746,747,748,749,750,751,752,753,754,755,756,757,758,759,760,761,762,763,764,765,766,767,768,769,770,771,772,773,774,775,776,777,778,779,780,781,782,783,784,785,786,787,788,789,790,791,792,793,794,795,796,797,798,799,800,801,802,803,804,805,806,807,808,809,810,811,812,813,814,815,816,817,818,819,820,821,822,823,824,825,826,827,828,829,830,831,832,833,834,835,836,837,838,839,840,841,842,843,844,845,846,847,848,849,850,851,852,853,854,855,856,857,858,859,860,861,862,863,864,865,866,867,868,869,870,871,872,873,874,875,876,877,878,879,880,881,882,883,884,885,886,887,888,889,890,891,892,893,894,895,896,897,898,899,900,901,902,903,904,905,906,907,908,909,910,911,912,913,914,915,916,917,918,919,920,921,922,923,924,925,926,927,928,929,930,931,932,933,934,935,936,937,938,939,940,941,942,943,944,945,946,947,948,949,950,951,952,953,954,955,956,957,958,959,960,961,962,963,964,965,966,967,968,969,970,971,972,973,974,975,976,977,978,979,980,981,982,983,984,985,986,987,988,989,990,991,992,993,994,995,996,997,998,999,1000,1001,1002,1003,1004,1005,1006,1007,1008,1009,1010,1011,1012,1013,1014,1015,1016,1017,1018,1019,1020,1021,1022,1023,1024,1025,1026,1027,1028,1029,1030,1031,1032,1033,1034,1035,1036,1037,1038,1039,1040,1041,1042,1043,1044,1045,1046,1047,1048,1049,1050,1051,1052,1053,1054,1055,1056,1057,1058,1059,1060,1061,1062,1063,1064,1065,1066,1067,1068,1069,1070,1071,1072,1073,1074,1075,1076,1077,1078,1079,1080,1081,1082,1083,1084,1085,1086,1087,1088,1089,1090,1091,1092,1093,1094,1095,1096,1097,1098,1099,1100,1101,1102,1103,1104,1105,1106,1107,1108,1109,1110,1111,1112,1113,1114,1115,1116,1117,1118,1119,1120,1121,1122,1123,1124,1125,1126,1127,1128,1129,1130,1131,1132,1133,1134,1135,1136,1137,1138,1139,1140,1141,1142,1143,1144,1145,1146,1147,1148,1149,1150,1151,1152,1153,1154,1155,1156,1157,1158,1159,1160,1161,1162,1163,1164,1165,1166,1167,1168,1169,1170,1171,1172,1173,1174,1175,1176,1177,1178,1179,1180,1181,1182,1183,1184,1185,1186,1187,1188,1189,1190,1191,1192,1193,1194,1195,1196,1197,1198,1199,1200,1201,1202,1203,1204,1205,1206,1207,1208,1209,1210,1211,1212,1213,1214,1215,1216,1217,1218,1219,1220,1221,1222,1223,1224,1225,1226,1227,1228,1229,1230,1231,1232,1233,1234,1235,1236,1237,1238,1239,1240,1241,1242,1243,1244,1245,1246,1247,1248,1249,1250,1251,1252,1253,1254,1255,1256,1257,1258,1259,1260,1261,1262,1263,1264,1265,1266,1267,1268,1269,1270,1271,1272,1273,1274,1275,1276,1277,1278,1279,1280,1281,1282,1283,1284,1285,1286,1287,1288,1289,1290,1291,1292,1293,1294,1295,1296,1297,1298,1299,1300,1301,1302,1303,1304,1305,1306,1307,1308,1309,1310,1311,1312,1313,1314,1315,1316,1317,1318,1319,1320,1321,1322,1323,1324,1325,1326,1327,1328,1329,1330,1331,1332,1333,1334,1335,1336,1337,1338,1339,1340,1341,1342,1343,1344,1345,1346,1347,1348,1349,1350,1351,1352,1353,1354,1355,1356,1357,1358,1359,1360,1361,1362,1363,1364,1365,1366,1367,1368,1369,1370,1371,1372,1373,1374,1375,1376,1377,1378,1379,1380,1381,1382,1383,1384,1385,1386,1387,1388,1389,1390,1391,1392,1393,1394,1395,1396,1397,1398,1399,1400,1401,1402,1403,1404,1405,1406,1407,1408,1409,1410,1411,1412,1413,1414,1415,1416,1417,1418,1419,1420,1421,1422,1423,1424,1425,1426,1427,1428,1429,1430,1431,1432,1433,1434,1435,1436,1437,1438,1439,1440,1441,1442,1443,1444,1445,1446,1447,1448,1449,1450,1451,1452,1453,1454,1455,1456,1457,1458,1459,1460,1461,1462,1463,1464,1465,1466,1467,1468,1469,1470,1471,1472,1473,1474,1475,1476,1477,1478,1479,1480,1481,1482,1483,1484,1485,1486,1487,1488,1489,1490,1491,1492,1493,1494,1495,1496,1497,1498,1499,1500,1501,1502,1503,1504,1505,1506,1507,1508,1509,1510,1511,1512,1513,1514,1515,1516,1517,1518,1519,1520,1521,1522,1523,1524,1525,1526,1527,1528,1529,1530,1531,1532,1533,1534,1535,1536,1537,1538,1539,1540,1541,1542,1543,1544,1545,1546,1547,1548,1549,1550,1551,1552,1553,1554,1555,1556,1557,1558,1559,1560,1561,1562,1563,1564,1565,1566,1567,1568,1569,1570,1571,1572,1573,1574,1575,1576,1577,1578,1579,1580,1581,1582,1583,1584,1585,1586,1587,1588,1589,1590,1591,1592,1593,1594,1595,1596,1597,1598,1599,1600,1601,1602,1603,1604,1605,1606,1607,1608,1609,1610,1611,1612,1613,1614,1615,1616,1617,1618,1619,1620,1621,1622,1623,1624,1625,1626,1627,1628,1629,1630,1631,1632,1633,1634,1635,1636,1637,1638,1639,1640,1641,1642,1643,1644,1645,1646,1647,1648,1649,1650,1651,1652,1653,1654,1655,1656,1657,1658,1659,1660,1661,1662,1663,1664,1665,1666,1667,1668,1669,1670,1671,1672,1673,1674,1675,1676,1677,1678,1679,1680,1681,1682,1683,1684,1685,1686,1687,1688,1689,1690,1691,1692,1693,1694,1695,1696,1697,1698,1699,1700,1701,1702,1703,1704,1705,1706,1707,1708,1709,1710,1711,1712,1713,1714,1715,1716,1717,1718,1719,1720,1721,1722,1723,1724,1725,1726,1727,1728,1729,1730,1731,1732,1733,1734,1735,1736,1737,1738,1739,1740,1741,1742,1743,1744,1745,1746,1747,1748,1749,1750,1751,1752,1753,1754,1755,1756,1757,1758,1759,1760,1761,1762,1763,1764,1765,1766,1767,1768,1769,1770,1771,1772,1773,1774,1775,1776,1777,1778,1779,1780,1781,1782,1783,1784,1785,1786,1787,1788,1789,1790,1791,1792,1793,1794,1795,1796,1797,1798,1799,1800,1801,1802,1803,1804,1805,1806,1807,1808,1809,1810,1811,1812,1813,1814,1815,1816,1817,1818,1819,1820,1821,1822,1823,1824,1825,1826,1827,1828,1829,1830,1831,1832,1833,1834,1835,1836,1837,1838,1839,1840,1841,1842,1843,1844,1845,1846,1847,1848,1849,1850,1851,1852,1853,1854,1855,1856,1857,1858,1859,1860,1861,1862,1863,1864,1865,1866,1867,1868,1869,1870,1871,1872,1873,1874,1875,1876,1877,1878,1879,1880,1881,1882,1883,1884,1885,1886,1887,1888,1889,1890,1891,1892,1893,1894,1895,1896,1897,1898,1899,1900,1901,1902,1903,1904,1905,1906,1907,1908,1909,1910,1911,1912,1913,1914,1915,1916,1917,1918,1919,1920,1921,1922,1923,1924,1925,1926,1927,1928,1929,1930,1931,1932,1933,1934,1935,1936,1937,1938,1939,1940,1941,1942,1943,1944,1945,1946,1947,1948,1949,1950,1951,1952,1953,1954,1955,1956,1957,1958,1959,1960,1961,1962,1963,1964,1965,1966,1967,1968,1969,1970,1971,1972,1973,1974,1975,1976,1977,1978,1979,1980,1981,1982,1983,1984,1985,1986,1987,1988,1989,1990,1991,1992,1993,1994,1995,1996,1997,1998,1999,2000,2001,2002,2003,2004,2005,2006,2007,2008,2009,2010,2011,2012,2013,2014,2015,2016,2017,2018,2019,2020,2021,2022,2023,2024,2025,2026,2027,2028,2029,2030,2031,2032,2033,2034,2035,2036,2037,2038,2039,2040,2041,2042,2043,2044,2045,2046,2047,2048,2049,2050,2051,2052,2053,2054,2055,2056,2057,2058,2059,2060,2061,2062,2063,2064,2065,2066,2067,2068,2069,2070,2071,2072,2073,2074,2075,2076,2077,2078,2079,2080,2081,2082,2083,2084,2085,2086,2087,2088,2089,2090,2091,2092,2093,2094,2095,2096,2097,2098,2099,2100,2101,2102,2103,2104,2105,2106,2107,2108,2109,2110,2111,2112,2113,2114,2115,2116,2117,2118,2119,2120,2121,2122,2123,2124,2125,2126,2127,2128,2129,2130,2131,2132,2133,2134,2135,2136,2137,2138,2139,2140,2141,2142,2143,2144,2145,2146,2147,2148,2149,2150,2151,2152,2153,2154,2155,2156,2157,2158,2159,2160,2161,2162,2163,2164,2165,2166,2167,2168,2169,2170,2171,2172,2173,2174,2175,2176,2177,2178,2179,2180,2181,2182,2183,2184,2185,2186,2187,2188,2189,2190,2191,2192,2193,2194,2195,2196,2197,2198,2199,2200,2201,2202,2203,2204,2205,2206,2207,2208,2209,2210,2211,2212,2213,2214,2215,2216,2217,2218,2219,2220,2221,2222,2223,2224,2225,2226,2227,2228,2229,2230,2231,2232,2233,2234,2235,2236,2237,2238,2239,2240,2241,2242,2243,2244,2245,2246,2247,2248,2249,2250,2251,2252,2253,2254,2255,2256,2257,2258,2259,2260,2261,2262,2263,2264,2265,2266,2267,2268,2269,2270,2271,2272,2273,2274,2275,2276,2277,2278,2279,2280,2281,2282,2283,2284,2285,2286,2287,2288,2289,2290,2291,2292,2293,2294,2295,2296,2297,2298,2299,2300,2301,2302,2303,2304,2305,2306,2307,2308,2309,2310,2311,2312,2313,2314,2315,2316,2317,2318,2319,2320,2321,2322,2323,2324,2325,2326,2327,2328,2329,2330,2331,2332,2333,2334,2335,2336,2337,2338,2339,2340,2341,2342,2343,2344,2345,2346,2347,2348,2349,2350,2351,2352,2353,2354,2355,2356,2357,2358,2359,2360,2361,2362,2363,2364,2365,2366,2367,2368,2369,2370,2371,2372,2373,2374,2375,2376,2377,2378,2379,2380,2381,2382,2383,2384,2385,2386,2387,2388,2389,2390,2391,2392,2393,2394,2395,2396,2397,2398,2399,2400,2401,2402,2403,2404,2405,2406,2407,2408,2409,2410,2411,2412,2413,2414,2415,2416,2417,2418,2419,2420,2421,2422,2423,2424,2425,2426,2427,2428,2429,2430,2431,2432,2433,2434,2435,2436,2437,2438,2439,2440,2441,2442,2443,2444,2445,2446,2447,2448,2449,2450,2451,2452,2453,2454,2455,2456,2457,2458,2459,2460,2461,2462,2463,2464,2465,2466,2467,2468,2469,2470,2471,2472,2473,2474,2475,2476,2477,2478,2479,2480,2481,2482,2483,2484,2485,2486,2487,2488,2489,2490,2491,2492,2493,2494,2495,2496,2497,2498,2499,2500],\"y\":[0.0,0.0,0.0,0.0,0.0,0.0,0.0,0.0,0.0,0.0,0.0,0.0,7.0,7.0,7.0,7.0,7.0,7.0,7.0,7.0,7.0,7.0,7.0,7.0,7.0,7.0,7.0,7.0,7.0,7.0,7.0,7.0,7.0,7.0,7.0,7.0,7.0,7.0,7.0,7.0,7.0,7.0,7.0,7.0,7.0,7.0,7.0,7.0,7.0,7.0,7.0,7.0,7.0,7.0,7.0,7.0,7.0,7.0,7.0,7.0,7.0,7.0,7.0,7.0,7.0,7.0,7.0,7.0,7.0,7.0,7.0,7.0,7.0,7.0,7.0,7.0,7.0,7.0,7.0,7.0,7.0,7.0,7.0,7.0,7.0,7.0,7.0,7.0,7.0,7.0,7.0,7.0,7.0,7.0,7.0,7.0,7.0,7.0,7.0,7.0,7.0,7.0,7.0,7.0,7.0,7.0,7.0,7.0,7.0,7.0,7.0,7.0,7.0,7.0,7.0,7.0,7.0,7.0,7.0,7.0,7.0,7.0,7.0,7.0,7.0,7.0,7.0,7.0,7.0,7.0,7.0,7.0,7.0,7.0,7.0,7.0,7.0,7.0,7.0,7.0,7.0,7.0,7.0,7.0,7.0,7.0,7.0,7.0,7.0,7.0,7.0,7.0,7.0,7.0,7.0,7.0,7.0,7.0,7.0,7.0,7.0,7.0,7.0,7.0,7.0,7.0,7.0,7.0,7.0,7.0,7.0,7.0,7.0,7.0,7.0,7.0,7.0,7.0,7.0,7.0,7.0,7.0,7.0,7.0,7.0,7.0,7.0,7.0,7.0,7.0,7.0,7.0,7.0,7.0,7.0,7.0,7.0,7.0,7.0,7.0,7.0,7.0,7.0,7.0,7.0,7.0,7.0,7.0,7.0,7.0,7.0,7.0,7.0,7.0,7.0,7.0,7.0,7.0,7.0,7.0,7.0,7.0,7.0,7.0,7.0,7.0,7.0,7.0,7.0,7.0,7.0,7.0,7.0,7.0,7.0,7.0,7.0,7.0,7.0,7.0,7.0,7.0,7.0,7.0,7.0,7.0,7.0,7.0,7.0,7.0,7.0,7.0,7.0,7.0,7.0,7.0,7.0,7.0,7.0,7.0,7.0,7.0,7.0,7.0,7.0,7.0,7.0,7.0,7.0,7.0,7.0,7.0,7.0,7.0,7.0,7.0,7.0,7.0,7.0,7.0,7.0,7.0,7.0,7.0,7.0,7.0,7.0,7.0,7.0,7.0,7.0,7.0,7.0,7.0,7.0,7.0,7.0,7.0,7.0,7.0,7.0,7.0,7.0,7.0,7.0,7.0,7.0,7.0,7.0,7.0,7.0,7.0,7.0,7.0,7.0,7.0,7.0,7.0,7.0,7.0,7.0,7.0,7.0,7.0,7.0,7.0,7.0,7.0,7.0,7.0,7.0,7.0,7.0,7.0,7.0,7.0,7.0,7.0,7.0,7.0,7.0,7.0,7.0,7.0,7.0,7.0,7.0,7.0,7.0,7.0,7.0,7.0,7.0,7.0,7.0,7.0,7.0,7.0,7.0,7.0,7.0,7.0,7.0,7.0,7.0,7.0,7.0,7.0,7.0,7.0,7.0,7.0,7.0,7.0,7.0,7.0,7.0,7.0,7.0,7.0,7.0,7.0,7.0,7.0,7.0,7.0,7.0,7.0,7.0,7.0,7.0,7.0,7.0,7.0,7.0,7.0,7.0,7.0,7.0,7.0,7.0,7.0,7.0,7.0,7.0,7.0,7.0,7.0,7.0,7.0,7.0,7.0,7.0,7.0,7.0,7.0,7.0,7.0,7.0,7.0,7.0,7.0,7.0,7.0,7.0,7.0,7.0,7.0,7.0,7.0,7.0,7.0,7.0,7.0,7.0,7.0,7.0,7.0,7.0,7.0,7.0,7.0,7.0,7.0,7.0,7.0,7.0,7.0,7.0,7.0,7.0,7.0,7.0,7.0,7.0,7.0,7.0,7.0,7.0,7.0,7.0,7.0,7.0,7.0,7.0,7.0,7.0,7.0,7.0,7.0,7.0,7.0,7.0,7.0,7.0,7.0,7.0,7.0,7.0,7.0,7.0,7.0,7.0,7.0,7.0,7.0,7.0,7.0,7.0,7.0,7.0,7.0,7.0,7.0,7.0,7.0,7.0,7.0,7.0,7.0,7.0,7.0,7.0,7.0,7.0,7.0,7.0,7.0,7.0,7.0,7.0,7.0,7.0,7.0,7.0,7.0,7.0,7.0,7.0,7.0,7.0,7.0,7.0,7.0,7.0,7.0,7.0,7.0,7.0,7.0,7.0,7.0,7.0,7.0,7.0,7.0,7.0,7.0,7.0,7.0,7.0,7.0,7.0,7.0,7.0,7.0,7.0,7.0,7.0,7.0,7.0,7.0,7.0,7.0,7.0,7.0,7.0,7.0,7.0,7.0,7.0,7.0,7.0,7.0,7.0,7.0,7.0,7.0,7.0,7.0,7.0,7.0,7.0,7.0,7.0,7.0,7.0,7.0,7.0,7.0,7.0,7.0,7.0,7.0,7.0,7.0,7.0,7.0,7.0,7.0,7.0,7.0,7.0,7.0,7.0,7.0,7.0,7.0,7.0,7.0,7.0,7.0,7.0,7.0,7.0,7.0,7.0,7.0,7.0,7.0,7.0,7.0,7.0,7.0,7.0,7.0,7.0,7.0,7.0,7.0,7.0,7.0,7.0,7.0,7.0,7.0,7.0,7.0,7.0,7.0,7.0,7.0,7.0,7.0,7.0,7.0,7.0,7.0,7.0,7.0,7.0,7.0,7.0,7.0,7.0,7.0,7.0,7.0,7.0,7.0,7.0,7.0,7.0,7.0,7.0,7.0,7.0,7.0,7.0,7.0,7.0,7.0,7.0,7.0,7.0,7.0,7.0,7.0,7.0,7.0,7.0,7.0,7.0,7.0,7.0,7.0,7.0,7.0,7.0,7.0,7.0,7.0,7.0,7.0,7.0,7.0,7.0,7.0,7.0,7.0,7.0,7.0,7.0,7.0,7.0,7.0,7.0,7.0,7.0,7.0,7.0,7.0,7.0,7.0,7.0,7.0,7.0,7.0,7.0,7.0,7.0,7.0,7.0,7.0,7.0,7.0,7.0,7.0,7.0,7.0,7.0,7.0,7.0,7.0,7.0,7.0,7.0,7.0,7.0,7.0,7.0,7.0,7.0,7.0,7.0,7.0,7.0,7.0,7.0,7.0,7.0,7.0,7.0,7.0,7.0,7.0,7.0,7.0,7.0,7.0,7.0,7.0,7.0,7.0,7.0,7.0,7.0,7.0,7.0,7.0,7.0,7.0,7.0,7.0,7.0,7.0,7.0,7.0,7.0,7.0,7.0,7.0,7.0,7.0,7.0,7.0,7.0,7.0,7.0,7.0,7.0,7.0,7.0,7.0,7.0,7.0,7.0,7.0,7.0,7.0,7.0,7.0,7.0,7.0,7.0,7.0,7.0,7.0,7.0,7.0,7.0,7.0,7.0,7.0,7.0,7.0,7.0,7.0,7.0,7.0,7.0,7.0,7.0,7.0,7.0,7.0,7.0,7.0,7.0,9.0,9.0,9.0,9.0,9.0,13.0,13.0,13.0,13.0,13.0,13.0,13.0,13.0,13.0,14.0,14.0,14.0,14.0,14.999999999999986,14.999999999999986,14.999999999999986,14.999999999999986,14.999999999999986,14.999999999999986,14.999999999999986,14.999999999999986,14.999999999999986,14.999999999999986,14.999999999999986,14.999999999999986,14.999999999999986,14.999999999999986,14.999999999999986,14.999999999999986,14.999999999999986,14.999999999999986,16.0,16.0,16.0,16.0,16.0,16.0,16.0,16.0,16.0,16.0,16.0,16.0,16.0,16.0,16.0,16.0,16.0,16.0,16.0,16.0,16.0,16.0,16.0,16.0,16.0,16.0,16.0,16.0,16.0,16.0,16.0,16.0,16.0,16.0,16.0,16.0,16.0,16.0,16.0,16.0,16.0,16.0,16.0,16.0,16.0,16.0,16.0,16.0,16.0,16.0,16.0,16.0,16.0,16.0,16.0,16.0,16.0,16.0,16.0,16.0,16.0,16.0,16.0,16.0,16.0,16.0,16.0,16.0,16.0,16.0,16.0,16.0,16.0,16.0,16.0,16.0,16.0,16.0,16.0,16.0,16.0,16.0,16.0,16.0,16.0,16.0,16.0,16.0,16.0,16.0,16.0,16.0,16.0,16.0,16.0,16.0,16.0,16.0,16.0,16.0,16.0,16.0,16.0,16.0,16.0,16.0,16.0,16.0,16.0,16.0,16.0,16.0,16.0,16.0,16.0,16.0,16.0,16.0,16.0,16.0,16.0,16.0,16.0,16.0,16.0,16.0,16.0,16.0,16.0,16.0,16.0,16.0,16.0,16.0,16.0,16.0,16.0,16.0,16.0,16.0,16.0,16.0,16.0,16.0,16.0,16.0,16.0,16.0,16.0,16.0,16.0,16.0,16.0,16.0,16.0,16.0,16.0,16.0,16.0,16.0,16.0,16.0,16.0,16.0,16.0,16.0,16.0,16.0,16.0,16.0,16.0,16.0,16.0,16.0,16.0,16.0,16.0,16.0,16.0,16.0,16.0,16.0,16.0,16.0,16.0,16.0,16.0,16.0,16.0,16.0,16.0,16.0,16.0,16.0,16.0,16.0,16.0,16.0,16.0,16.0,16.0,16.0,16.0,16.0,16.0,16.0,16.0,16.0,16.0,16.0,16.0,16.0,16.0,16.0,16.0,16.0,16.0,16.0,16.0,16.0,16.0,16.0,16.0,16.0,16.0,16.0,16.0,16.0,16.0,16.0,16.0,16.0,16.0,16.0,16.0,16.0,16.0,16.0,16.0,16.0,16.0,16.0,16.0,16.0,16.0,16.0,16.0,16.0,16.0,16.0,16.0,16.0,16.0,16.0,16.0,16.0,16.0,16.0,16.0,16.0,16.0,16.0,16.0,16.0,16.0,16.0,16.0,16.0,16.0,16.0,16.0,16.0,16.0,16.0,16.0,16.0,16.0,16.0,16.0,16.0,16.0,16.0,16.0,16.0,16.0,16.0,16.0,16.0,16.0,16.0,16.0,16.0,16.0,16.0,16.0,16.0,16.0,16.0,16.0,16.0,16.0,16.0,16.0,16.0,16.0,16.0,16.0,16.0,16.0,16.0,16.0,16.0,16.0,16.0,16.0,16.0,16.0,16.0,16.0,16.0,16.0,16.0,16.0,16.0,16.0,16.0,16.0,16.0,16.0,16.0,16.0,17.0,17.0,17.0,17.0,17.0,17.0,17.0,17.0,17.0,17.0,17.0,17.0,17.0,17.0,17.0,17.0,17.0,17.0,17.0,17.0,17.0,17.0,17.0,17.0,17.0,17.0,17.0,17.0,17.0,17.0,17.0,17.0,17.0,17.0,17.0,17.0,17.0,17.0,17.0,17.0,17.0,17.0,17.0,17.0,17.0,17.0,17.0,17.0,17.0,17.0,17.0,17.0,17.0,17.0,17.0,17.0,17.0,17.0,17.0,17.0,17.0,17.0,17.0,17.0,17.0,17.0,17.0,17.0,17.0,17.0,17.0,17.0,17.0,17.0,17.0,17.0,17.0,17.0,17.0,17.0,17.0,17.0,17.0,17.0,17.0,17.0,17.0,17.0,17.0,17.0,17.0,17.0,17.0,17.0,17.0,17.0,17.0,17.0,17.0,17.0,17.0,17.0,17.0,17.0,17.0,17.0,17.0,17.0,17.0,17.0,17.0,17.0,17.0,17.0,17.0,17.0,17.0,17.0,17.0,17.0,17.0,17.0,17.0,17.0,17.0,17.0,17.0,17.0,17.0,17.0,17.0,17.0,17.0,17.0,17.0,17.0,17.0,17.0,17.0,17.0,17.0,17.0,17.0,17.0,17.0,17.0,17.0,17.0,17.0,17.0,17.0,17.0,17.0,17.0,17.0,17.0,17.0,17.0,17.0,17.0,17.0,17.0,17.0,17.0,17.0,17.0,17.0,17.0,17.0,17.0,17.0,17.0,17.0,17.0,17.0,17.0,17.0,17.0,17.0,17.0,17.0,17.0,17.0,17.0,17.0,17.0,17.0,17.0,17.0,17.0,17.0,17.0,17.0,17.0,17.0,17.0,17.0,17.0,17.0,17.0,17.0,17.0,17.0,17.0,17.0,17.0,17.0,17.0,17.0,17.0,17.0,17.0,17.0,17.0,17.0,17.0,17.0,17.0,17.0,17.0,17.0,17.0,17.0,17.0,17.0,17.0,17.0,17.0,17.0,17.0,17.0,17.0,17.0,17.0,17.0,17.0,17.0,17.0,17.0,17.0,17.0,17.0,17.0,17.0,17.0,17.0,17.0,17.0,17.0,17.0,17.0,17.0,17.0,17.0,17.0,17.0,17.0,17.0,17.0,17.0,17.0,17.0,17.0,17.0,17.0,17.0,17.0,17.0,17.0,17.0,17.0,17.0,17.0,17.0,17.0,17.0,17.0,17.0,17.0,17.0,17.0,17.0,17.0,17.0,17.0,17.0,17.0,17.0,17.0,17.0,17.0,17.0,17.0,17.0,17.0,17.0,17.0,17.0,17.0,17.0,17.0,17.0,17.0,17.0,17.0,17.0,17.0,17.0,17.0,17.0,17.0,17.0,17.0,17.0,17.0,17.0,17.0,17.0,17.0,17.0,17.0,17.0,17.0,17.0,17.0,17.0,17.0,17.0,17.0,17.0,17.0,17.0,17.0,17.0,17.0,17.0,17.0,17.0,17.0,17.0,17.0,17.0,17.0,17.0,17.0,17.0,17.0,17.0,17.0,17.0,17.0,17.0,17.0,17.0,17.0,17.0,17.0,17.0,17.0,17.0,17.0,17.0,17.0,17.0,17.0,17.0,17.0,17.0,17.0,17.0,17.0,17.0,17.0,17.0,17.0,17.0,17.0,17.0,17.0,17.0,17.0,17.0,17.0,17.0,17.0,17.0,17.0,17.0,17.0,17.0,17.0,17.0,17.0,17.0,17.0,17.0,17.0,17.0,17.0,17.0,17.0,17.0,17.0,17.0,17.0,17.0,17.0,17.0,17.0,17.0,17.0,17.0,17.0,17.0,17.0,17.0,17.0,17.0,17.0,17.0,17.0,17.0,17.0,17.0,17.0,17.0,17.0,17.0,17.0,17.0,17.0,17.0,17.0,17.0,17.0,17.0,17.0,17.0,17.0,17.0,17.0,17.0,17.0,17.0,17.0,17.0,17.0,17.0,17.0,17.0,17.0,17.0,17.0,17.0,17.0,17.0,17.0,17.0,17.0,17.0,17.0,17.0,17.0,17.0,17.0,17.0,17.0,17.0,17.0,17.0,17.0,17.0,17.0,17.0,17.0,17.0,17.0,17.0,17.0,17.0,17.0,17.0,17.0,17.0,17.0,17.0,17.0,17.0,17.0,17.0,17.0,17.0,17.0,17.0,17.0,17.0,17.0,17.0,17.0,17.0,17.0,17.0,17.0,17.0,17.0,17.0,17.0,17.0,17.0,17.0,17.0,17.0,17.0,17.0,17.0,17.0,17.0,17.0,17.0,17.0,17.0,17.0,17.0,17.0,17.0,17.0,17.0,17.0,17.0,17.0,17.0,17.0,17.0,17.0,17.0,17.0,17.0,17.0,17.0,17.0,17.0,17.0,17.0,17.0,17.0,17.0,17.0,17.0,17.0,17.0,17.0,17.0,17.0,17.0,17.0,17.0,17.0,17.0,17.0,17.0,17.0,17.0,17.0,17.0,17.0,17.0,17.0,17.0,17.0,17.0,17.0,17.0,17.0,17.0,17.0,17.0,17.0,17.0,17.0,17.0,17.0,17.0,17.0,17.0,17.0,17.0,17.0,17.0,17.0,17.0,17.0,17.0,17.0,17.0,17.0,17.0,17.0,17.0,17.0,17.0,17.0,17.0,22.0,22.0,22.0,22.0,22.0,22.0,22.0,22.0,22.0,22.0,22.0,22.0,22.0,22.0,19.0,19.0,19.0,19.0,19.0,19.0,19.0,19.0,19.0,19.0,19.0,19.0,19.0,19.0,19.0,19.0,19.0,19.0,19.0,19.0,19.0,19.0,19.0,19.0,19.0,19.0,19.0,19.0,19.0,19.0,19.0,19.0,19.0,19.0,19.0,19.0,19.0,19.0,19.0,19.0,19.0,19.0,19.0,19.0,19.0,19.0,19.0,19.0,19.0,19.0,19.0,19.0,19.0,19.0,19.0,19.0,19.0,19.0,19.0,19.0,19.0,19.0,19.0,19.0,34.0,34.0,34.0,34.0,20.0,34.0,34.0,34.0,34.0,50.0,34.0,21.0,40.5,25.0,50.0,53.0,53.0,53.0,53.0,53.0,34.0,76.5,79.0,27.0,51.5,77.5,79.0,34.0,34.0,71.0,59.0,49.0,59.0,59.0,45.0,63.50000000000003,79.0,52.0,79.0,59.0,140.0,91.0,85.0,79.0,77.0,167.0,54.5,90.5,88.5,50.0,50.0,48.0,95.5,97.0,91.0,58.0,136.0,37.5,67.0,37.0,77.5,44.0,77.5,62.0,49.0,62.0,62.0,68.0,66.0,62.0,45.0,68.0,68.0,62.0,65.0,55.0,55.0,55.0,55.0,55.0,55.0,55.0,55.0,55.0,55.0,55.0,55.0,55.0,59.0,59.0,59.0,59.0,59.0,59.0,59.0,59.0,59.0,59.0,59.0,59.0,59.0,69.0,69.0,89.5,59.0,69.0,110.99999999999997,87.0,69.0,93.0,73.00000000000003,74.5,102.5,60.0,59.0,69.0,59.0,95.0,73.00000000000003,87.5,59.0,85.0,85.0,59.0,69.0,69.0,69.0,73.5,87.0,64.0,59.0,59.0,63.50000000000003,59.0,83.0,63.50000000000003,85.0,69.0,76.5,62.0,85.0,59.0,59.0,62.0,62.0,85.0,70.0,62.0,81.0,59.0,69.0,69.0,69.0,71.0,62.0,74.5,59.0,69.0,62.0,93.0,93.0,70.0,90.0,59.0,84.0,85.0,85.0,72.5,82.0,76.5,62.0,62.0,62.0,84.0,59.0,85.0,97.5,62.0,62.0,98.5,74.5,93.0,71.0,64.0,71.0,141.0,64.0,147.5,71.0,64.0,152.0,64.0,64.0,83.0,77.0,69.0,74.5,64.0,64.0,113.5,99.0,99.0,80.0,88.0,89.0,99.0,99.0,92.00000000000003,94.0,79.5,64.0,64.0,94.0,64.0,85.0,85.0,64.0,64.0,64.0,78.0,78.0,78.0,78.0,78.0,78.0,78.0,78.0,78.0,78.0,78.0,78.0,78.0,78.0,78.0,78.0,78.0,78.0,78.0,78.0,78.0,78.0,78.0,78.0,78.0,78.0,78.0,78.0,78.0,78.0,78.0,78.0,78.0,78.0,78.0,78.0,78.0,78.0,78.0,78.0,78.0,78.0,78.0,78.0,78.0,78.0,78.0,78.0,78.0,78.0,78.0,78.0,78.0,78.0,78.0,78.0,78.0,78.0,78.0,78.0,78.0,78.0,78.0,78.0,78.0,78.0,78.0,99.0,78.0,78.0,78.0,78.0,78.0,78.0,78.0,78.0,78.0,78.0,78.0,78.0,78.0,78.0,78.0,78.0,78.0,91.0,91.0,91.0,91.0,91.0,91.0,91.0,91.0,91.0,91.0,92.00000000000003,91.0,91.0,91.0,91.0,91.0,88.5,91.0,91.0,91.0,91.0,91.0,91.0,91.0,91.0,91.0,91.0,137.5,145.0,123.5,145.0,129.0,133.0,145.0,145.0,145.0,145.0,145.0,145.0,145.0,145.0,145.0,145.0,128.0,140.5,129.0,145.0,145.0,134.5,145.0,145.0,145.0,145.0,145.0,145.0,116.5,115.0,145.0,145.0,145.0,131.0,145.0,145.0,134.5,121.0,145.0,126.5,145.0,145.0,145.0,138.5,145.0,129.0,145.0,145.0,145.0,145.0,145.0,134.5,132.0,132.0,123.0,145.0,145.0,145.0,145.0,145.0,145.0,145.0,145.0,145.0,145.0,145.0,145.0,145.0,115.0,145.0,145.0,121.5,145.0,145.0,145.0,145.0,145.0,145.0,145.0,145.0,115.0,145.0,121.0,145.0,145.0,145.0,145.0,145.0,145.0,145.0,145.0,145.0,122.5,145.0,145.0,145.0,137.5,145.0,145.0,145.0,145.0,129.0,121.5,145.0,133.5,145.0,145.0,145.0,145.0,122.5,128.0,145.0,145.0,145.0,145.0,123.5,155.5,145.0,145.0,129.99999999999997,153.0,145.0,145.0,145.0,123.5,145.0,153.0,145.0,145.0,145.0,145.0,145.0,115.0,129.0,145.0,143.0,145.0,145.0,142.5,145.0,145.0,145.0,137.5,145.0,145.0,145.0,145.0,145.0,145.0,145.0,154.0,129.0,132.0,145.0,145.0,145.0,135.5,145.0,145.0,145.0,145.0,145.0,145.0,145.5,132.5,121.0,137.5,121.5,132.5,145.0,133.5,145.0,145.0,145.0,121.5,133.5,145.0,145.0,121.0,134.5,145.0,143.5,145.0,121.0,115.0,117.0,145.0,121.0,134.5,145.0,145.0,145.0,145.0,145.0,115.0,117.0,129.0,145.0,145.0,145.0,145.0,134.5,145.0,145.0,145.0,129.0,145.0,133.5,145.0,145.0,145.0,145.0,145.0,132.5,117.0,145.0,145.0,145.0,145.0,145.0,145.0,145.0,145.0,122.5,145.0,145.0,123.5,146.0,123.5,145.0,145.0,145.0,145.0,145.0,145.0,122.0,145.0,142.5,145.0,145.0,136.5,145.0,145.0,115.0,145.0,145.0,118.5,145.0,145.0,145.0,145.0,134.5,133.0,134.5,145.0,145.0,146.0,145.0,145.0,137.5,145.0,145.0,145.0,145.0,145.0,145.0,122.0,145.0,145.0,145.0,145.0,132.5,145.0,137.5,146.0,145.0,133.5,124.0,145.0,126.5,145.0,145.0,145.0,145.0,145.0,145.0,145.0,132.0,145.0,124.0,145.0,160.0,145.0,145.0,145.0,145.0,145.0,133.5,137.5,145.0,145.0,145.0,145.0,132.0]},\"selected\":{\"id\":\"1051\"},\"selection_policy\":{\"id\":\"1050\"}},\"id\":\"1037\",\"type\":\"ColumnDataSource\"},{\"attributes\":{\"axis\":{\"id\":\"1018\"},\"coordinates\":null,\"dimension\":1,\"group\":null,\"ticker\":null},\"id\":\"1021\",\"type\":\"Grid\"},{\"attributes\":{},\"id\":\"1051\",\"type\":\"Selection\"},{\"attributes\":{\"coordinates\":null,\"group\":null,\"items\":[{\"id\":\"1054\"},{\"id\":\"1073\"}]},\"id\":\"1053\",\"type\":\"Legend\"},{\"attributes\":{\"end\":1000,\"start\":-100},\"id\":\"1036\",\"type\":\"Range1d\"},{\"attributes\":{\"line_color\":\"#1f77b4\",\"x\":{\"field\":\"x\"},\"y\":{\"field\":\"y\"}},\"id\":\"1038\",\"type\":\"Line\"},{\"attributes\":{},\"id\":\"1023\",\"type\":\"WheelZoomTool\"},{\"attributes\":{},\"id\":\"1010\",\"type\":\"LinearScale\"},{\"attributes\":{\"source\":{\"id\":\"1037\"}},\"id\":\"1042\",\"type\":\"CDSView\"},{\"attributes\":{\"line_alpha\":0.1,\"line_color\":\"#1f77b4\",\"x\":{\"field\":\"x\"},\"y\":{\"field\":\"y\"}},\"id\":\"1039\",\"type\":\"Line\"},{\"attributes\":{},\"id\":\"1019\",\"type\":\"BasicTicker\"},{\"attributes\":{},\"id\":\"1006\",\"type\":\"DataRange1d\"},{\"attributes\":{\"coordinates\":null,\"data_source\":{\"id\":\"1037\"},\"glyph\":{\"id\":\"1038\"},\"group\":null,\"hover_glyph\":null,\"muted_glyph\":{\"id\":\"1040\"},\"nonselection_glyph\":{\"id\":\"1039\"},\"view\":{\"id\":\"1042\"}},\"id\":\"1041\",\"type\":\"GlyphRenderer\"},{\"attributes\":{\"axis_label\":\"generation\",\"coordinates\":null,\"formatter\":{\"id\":\"1048\"},\"group\":null,\"major_label_policy\":{\"id\":\"1049\"},\"ticker\":{\"id\":\"1015\"}},\"id\":\"1014\",\"type\":\"LinearAxis\"},{\"attributes\":{\"label\":{\"value\":\"max\"},\"renderers\":[{\"id\":\"1041\"}]},\"id\":\"1054\",\"type\":\"LegendItem\"}],\"root_ids\":[\"1003\"]},\"title\":\"Bokeh Application\",\"version\":\"2.4.3\"}};\n",
       "  const render_items = [{\"docid\":\"1dfc750d-52a9-4a28-a490-2b5d4f01960c\",\"root_ids\":[\"1003\"],\"roots\":{\"1003\":\"71b4400f-7236-4b68-80d6-1998a5b41d73\"}}];\n",
       "  root.Bokeh.embed.embed_items_notebook(docs_json, render_items);\n",
       "  }\n",
       "  if (root.Bokeh !== undefined) {\n",
       "    embed_document(root);\n",
       "  } else {\n",
       "    let attempts = 0;\n",
       "    const timer = setInterval(function(root) {\n",
       "      if (root.Bokeh !== undefined) {\n",
       "        clearInterval(timer);\n",
       "        embed_document(root);\n",
       "      } else {\n",
       "        attempts++;\n",
       "        if (attempts > 100) {\n",
       "          clearInterval(timer);\n",
       "          console.log(\"Bokeh: ERROR: Unable to run BokehJS code because BokehJS library is missing\");\n",
       "        }\n",
       "      }\n",
       "    }, 10, root)\n",
       "  }\n",
       "})(window);"
      ],
      "application/vnd.bokehjs_exec.v0+json": ""
     },
     "metadata": {
      "application/vnd.bokehjs_exec.v0+json": {
       "id": "1003"
      }
     },
     "output_type": "display_data"
    }
   ],
   "source": [
    "with summary.trial(*results[0]) as trial:\n",
    "    show(visualize.Fitness(trial))"
   ]
  },
  {
   "cell_type": "code",
   "execution_count": 84,
   "id": "0143b54c",
   "metadata": {},
   "outputs": [
    {
     "data": {
      "application/vnd.jupyter.widget-view+json": {
       "model_id": "b589c95aa86143abb435bc660b2c890c",
       "version_major": 2,
       "version_minor": 0
      },
      "text/plain": [
       "IntSlider(value=0, max=1000)"
      ]
     },
     "metadata": {},
     "output_type": "display_data"
    },
    {
     "data": {
      "application/vnd.jupyter.widget-view+json": {
       "model_id": "b6adf09143fd4f74a7719704a19ae16d",
       "version_major": 2,
       "version_minor": 0
      },
      "text/plain": [
       "Button(description='▶', style=ButtonStyle())"
      ]
     },
     "metadata": {},
     "output_type": "display_data"
    },
    {
     "data": {
      "application/vnd.jupyter.widget-view+json": {
       "model_id": "fa25308a07e04d2a8a37645cf139ade4",
       "version_major": 2,
       "version_minor": 0
      },
      "text/plain": [
       "Button(description='save', style=ButtonStyle())"
      ]
     },
     "metadata": {},
     "output_type": "display_data"
    },
    {
     "data": {
      "application/vnd.jupyter.widget-view+json": {
       "model_id": "f0757de0711342cc9cfcb9b5c6d6ae87",
       "version_major": 2,
       "version_minor": 0
      },
      "text/plain": [
       "Text(value='sample.gif', description='save file name: ')"
      ]
     },
     "metadata": {},
     "output_type": "display_data"
    },
    {
     "data": {
      "text/html": [
       "\n",
       "  <div class=\"bk-root\" id=\"af596180-e2a1-492a-b192-6409826efcef\" data-root-id=\"9492\"></div>\n"
      ]
     },
     "metadata": {},
     "output_type": "display_data"
    },
    {
     "data": {
      "application/javascript": [
       "(function(root) {\n",
       "  function embed_document(root) {\n",
       "  const docs_json = {\"cfdd87dc-9aa9-44d5-a93b-f7d0ddff832b\":{\"defs\":[],\"roots\":{\"references\":[{\"attributes\":{\"below\":[{\"id\":\"9503\"}],\"center\":[{\"id\":\"9506\"},{\"id\":\"9510\"}],\"height\":500,\"left\":[{\"id\":\"9507\"}],\"renderers\":[{\"id\":\"9531\"},{\"id\":\"9535\"}],\"title\":{\"id\":\"9493\"},\"toolbar\":{\"id\":\"9518\"},\"width\":500,\"x_range\":{\"id\":\"9525\"},\"x_scale\":{\"id\":\"9499\"},\"y_range\":{\"id\":\"9526\"},\"y_scale\":{\"id\":\"9501\"}},\"id\":\"9492\",\"subtype\":\"Figure\",\"type\":\"Plot\"},{\"attributes\":{\"axis\":{\"id\":\"9507\"},\"coordinates\":null,\"dimension\":1,\"group\":null,\"ticker\":null},\"id\":\"9510\",\"type\":\"Grid\"},{\"attributes\":{\"data\":{\"x\":[0,0.1693927420185106],\"y\":[0,0.24760068447290348]},\"selected\":{\"id\":\"9790\"},\"selection_policy\":{\"id\":\"9789\"}},\"id\":\"9527\",\"type\":\"ColumnDataSource\"},{\"attributes\":{},\"id\":\"9516\",\"type\":\"HelpTool\"},{\"attributes\":{\"coordinates\":null,\"formatter\":{\"id\":\"9787\"},\"group\":null,\"major_label_policy\":{\"id\":\"9788\"},\"ticker\":{\"id\":\"9504\"}},\"id\":\"9503\",\"type\":\"LinearAxis\"},{\"attributes\":{},\"id\":\"9789\",\"type\":\"UnionRenderers\"},{\"attributes\":{\"line_alpha\":0.2,\"line_color\":\"blue\",\"line_width\":10,\"x\":{\"field\":\"x\"},\"y\":{\"field\":\"y\"}},\"id\":\"9530\",\"type\":\"Line\"},{\"attributes\":{\"tools\":[{\"id\":\"9511\"},{\"id\":\"9512\"},{\"id\":\"9513\"},{\"id\":\"9514\"},{\"id\":\"9515\"},{\"id\":\"9516\"}]},\"id\":\"9518\",\"type\":\"Toolbar\"},{\"attributes\":{},\"id\":\"9788\",\"type\":\"AllLabels\"},{\"attributes\":{\"source\":{\"id\":\"9527\"}},\"id\":\"9532\",\"type\":\"CDSView\"},{\"attributes\":{},\"id\":\"9512\",\"type\":\"WheelZoomTool\"},{\"attributes\":{},\"id\":\"9790\",\"type\":\"Selection\"},{\"attributes\":{},\"id\":\"9511\",\"type\":\"PanTool\"},{\"attributes\":{\"overlay\":{\"id\":\"9517\"}},\"id\":\"9513\",\"type\":\"BoxZoomTool\"},{\"attributes\":{\"start\":-1},\"id\":\"9525\",\"type\":\"Range1d\"},{\"attributes\":{},\"id\":\"9514\",\"type\":\"SaveTool\"},{\"attributes\":{},\"id\":\"9515\",\"type\":\"ResetTool\"},{\"attributes\":{},\"id\":\"9504\",\"type\":\"BasicTicker\"},{\"attributes\":{},\"id\":\"9787\",\"type\":\"BasicTickFormatter\"},{\"attributes\":{\"coordinates\":null,\"formatter\":{\"id\":\"9784\"},\"group\":null,\"major_label_policy\":{\"id\":\"9785\"},\"ticker\":{\"id\":\"9508\"}},\"id\":\"9507\",\"type\":\"LinearAxis\"},{\"attributes\":{},\"id\":\"9785\",\"type\":\"AllLabels\"},{\"attributes\":{\"coordinates\":null,\"data_source\":{\"id\":\"9534\"},\"glyph\":{\"id\":\"9533\"},\"group\":null,\"hover_glyph\":null,\"view\":{\"id\":\"9536\"}},\"id\":\"9535\",\"type\":\"GlyphRenderer\"},{\"attributes\":{\"bottom_units\":\"screen\",\"coordinates\":null,\"fill_alpha\":0.5,\"fill_color\":\"lightgrey\",\"group\":null,\"left_units\":\"screen\",\"level\":\"overlay\",\"line_alpha\":1.0,\"line_color\":\"black\",\"line_dash\":[4,4],\"line_width\":2,\"right_units\":\"screen\",\"syncable\":false,\"top_units\":\"screen\"},\"id\":\"9517\",\"type\":\"BoxAnnotation\"},{\"attributes\":{},\"id\":\"9501\",\"type\":\"LinearScale\"},{\"attributes\":{\"fill_color\":{\"value\":\"#cab2d6\"},\"height\":{\"value\":0.1},\"width\":{\"value\":0.2},\"x\":{\"value\":0},\"y\":{\"value\":0}},\"id\":\"9533\",\"type\":\"Rect\"},{\"attributes\":{\"coordinates\":null,\"group\":null,\"text\":\"field (step=0)\"},\"id\":\"9493\",\"type\":\"Title\"},{\"attributes\":{},\"id\":\"9791\",\"type\":\"UnionRenderers\"},{\"attributes\":{},\"id\":\"9784\",\"type\":\"BasicTickFormatter\"},{\"attributes\":{\"coordinates\":null,\"data_source\":{\"id\":\"9527\"},\"glyph\":{\"id\":\"9528\"},\"group\":null,\"hover_glyph\":null,\"muted_glyph\":{\"id\":\"9530\"},\"nonselection_glyph\":{\"id\":\"9529\"},\"view\":{\"id\":\"9532\"}},\"id\":\"9531\",\"type\":\"GlyphRenderer\"},{\"attributes\":{},\"id\":\"9792\",\"type\":\"Selection\"},{\"attributes\":{\"axis\":{\"id\":\"9503\"},\"coordinates\":null,\"group\":null,\"ticker\":null},\"id\":\"9506\",\"type\":\"Grid\"},{\"attributes\":{\"source\":{\"id\":\"9534\"}},\"id\":\"9536\",\"type\":\"CDSView\"},{\"attributes\":{},\"id\":\"9499\",\"type\":\"LinearScale\"},{\"attributes\":{\"data\":{},\"selected\":{\"id\":\"9792\"},\"selection_policy\":{\"id\":\"9791\"}},\"id\":\"9534\",\"type\":\"ColumnDataSource\"},{\"attributes\":{},\"id\":\"9508\",\"type\":\"BasicTicker\"},{\"attributes\":{\"line_alpha\":0.1,\"line_color\":\"blue\",\"line_width\":10,\"x\":{\"field\":\"x\"},\"y\":{\"field\":\"y\"}},\"id\":\"9529\",\"type\":\"Line\"},{\"attributes\":{\"line_color\":\"blue\",\"line_width\":10,\"x\":{\"field\":\"x\"},\"y\":{\"field\":\"y\"}},\"id\":\"9528\",\"type\":\"Line\"},{\"attributes\":{\"start\":-1},\"id\":\"9526\",\"type\":\"Range1d\"}],\"root_ids\":[\"9492\"]},\"title\":\"Bokeh Application\",\"version\":\"2.4.3\"}};\n",
       "  const render_items = [{\"docid\":\"cfdd87dc-9aa9-44d5-a93b-f7d0ddff832b\",\"notebook_comms_target\":\"9794\",\"root_ids\":[\"9492\"],\"roots\":{\"9492\":\"af596180-e2a1-492a-b192-6409826efcef\"}}];\n",
       "  root.Bokeh.embed.embed_items_notebook(docs_json, render_items);\n",
       "  }\n",
       "  if (root.Bokeh !== undefined) {\n",
       "    embed_document(root);\n",
       "  } else {\n",
       "    let attempts = 0;\n",
       "    const timer = setInterval(function(root) {\n",
       "      if (root.Bokeh !== undefined) {\n",
       "        clearInterval(timer);\n",
       "        embed_document(root);\n",
       "      } else {\n",
       "        attempts++;\n",
       "        if (attempts > 100) {\n",
       "          clearInterval(timer);\n",
       "          console.log(\"Bokeh: ERROR: Unable to run BokehJS code because BokehJS library is missing\");\n",
       "        }\n",
       "      }\n",
       "    }, 10, root)\n",
       "  }\n",
       "})(window);"
      ],
      "application/vnd.bokehjs_exec.v0+json": ""
     },
     "metadata": {
      "application/vnd.bokehjs_exec.v0+json": {
       "id": "9492"
      }
     },
     "output_type": "display_data"
    }
   ],
   "source": [
    "with summary.trial(\"config_devnetwork_perfect_complexity_evaluation-double_cartpole\", \"2022-11-07 20_30_32.160454\", 1) as trial:\n",
    "    show(visualize.DoublePoleCartPole(trial.observe(5, 108), 0), notebook_handle=True)"
   ]
  },
  {
   "cell_type": "code",
   "execution_count": 5,
   "id": "9a7a7a3b",
   "metadata": {},
   "outputs": [
    {
     "data": {
      "application/vnd.jupyter.widget-view+json": {
       "model_id": "4cefc9cfbc1547ae9fac7e9b0a48b342",
       "version_major": 2,
       "version_minor": 0
      },
      "text/plain": [
       "IntSlider(value=0, max=1000)"
      ]
     },
     "metadata": {},
     "output_type": "display_data"
    },
    {
     "data": {
      "application/vnd.jupyter.widget-view+json": {
       "model_id": "5c74b1a2f86b4242801d2e560b4a0ca2",
       "version_major": 2,
       "version_minor": 0
      },
      "text/plain": [
       "Button(description='▶', style=ButtonStyle())"
      ]
     },
     "metadata": {},
     "output_type": "display_data"
    },
    {
     "data": {
      "application/vnd.jupyter.widget-view+json": {
       "model_id": "1d9fdfb870064bb08763ac73056545b7",
       "version_major": 2,
       "version_minor": 0
      },
      "text/plain": [
       "Button(description='save', style=ButtonStyle())"
      ]
     },
     "metadata": {},
     "output_type": "display_data"
    },
    {
     "data": {
      "application/vnd.jupyter.widget-view+json": {
       "model_id": "30db8a6a7fb34a2683f168598b267934",
       "version_major": 2,
       "version_minor": 0
      },
      "text/plain": [
       "Text(value='sample.gif', description='save file name: ')"
      ]
     },
     "metadata": {},
     "output_type": "display_data"
    },
    {
     "data": {
      "text/html": [
       "\n",
       "  <div class=\"bk-root\" id=\"d7fa597d-aa55-40a7-b87c-e86e1c9b8a19\" data-root-id=\"1146\"></div>\n"
      ]
     },
     "metadata": {},
     "output_type": "display_data"
    },
    {
     "data": {
      "application/javascript": [
       "(function(root) {\n",
       "  function embed_document(root) {\n",
       "  const docs_json = {\"16c6bd5d-de86-4af4-b6ab-4abd19f9b760\":{\"defs\":[],\"roots\":{\"references\":[{\"attributes\":{\"below\":[{\"id\":\"1157\"}],\"center\":[{\"id\":\"1160\"},{\"id\":\"1164\"},{\"id\":\"1193\"}],\"height\":500,\"left\":[{\"id\":\"1161\"}],\"output_backend\":\"webgl\",\"renderers\":[{\"id\":\"1181\"},{\"id\":\"1187\"},{\"id\":\"1189\"}],\"title\":{\"id\":\"1147\"},\"toolbar\":{\"id\":\"1172\"},\"width\":500,\"x_range\":{\"id\":\"1149\"},\"x_scale\":{\"id\":\"1153\"},\"y_range\":{\"id\":\"1151\"},\"y_scale\":{\"id\":\"1155\"}},\"id\":\"1146\",\"subtype\":\"Figure\",\"type\":\"Plot\"},{\"attributes\":{},\"id\":\"1153\",\"type\":\"LinearScale\"},{\"attributes\":{},\"id\":\"1151\",\"type\":\"DataRange1d\"},{\"attributes\":{\"data\":{\"color\":[\"blue\",\"blue\",\"blue\",\"red\"],\"weight\":[2.8282968049808614,3.9950193293861322,3.243892466647247,3.9961389524856528],\"x_end\":[4.5694164771038315,4.5694164771038315,0.03929431336041642,0.03929431336041642],\"x_start\":[1.0,0.03929431336041642,3.0,6.0],\"y_end\":[2.501532345183066,2.501532345183066,1.6205189096525225,1.6205189096525225],\"y_start\":[0.0,1.6205189096525225,0.0,0.0]},\"selected\":{\"id\":\"1223\"},\"selection_policy\":{\"id\":\"1222\"}},\"id\":\"1192\",\"type\":\"ColumnDataSource\"},{\"attributes\":{\"fill_alpha\":{\"value\":0.5},\"fill_color\":{\"field\":\"color\"},\"line_alpha\":{\"value\":0.5},\"line_color\":{\"field\":\"color\"},\"size\":{\"value\":12}},\"id\":\"1191\",\"type\":\"NormalHead\"},{\"attributes\":{\"source\":{\"id\":\"1184\"}},\"id\":\"1190\",\"type\":\"CDSView\"},{\"attributes\":{\"bottom_units\":\"screen\",\"coordinates\":null,\"fill_alpha\":0.5,\"fill_color\":\"lightgrey\",\"group\":null,\"left_units\":\"screen\",\"level\":\"overlay\",\"line_alpha\":1.0,\"line_color\":\"black\",\"line_dash\":[4,4],\"line_width\":2,\"right_units\":\"screen\",\"syncable\":false,\"top_units\":\"screen\"},\"id\":\"1171\",\"type\":\"BoxAnnotation\"},{\"attributes\":{},\"id\":\"1217\",\"type\":\"UnionRenderers\"},{\"attributes\":{\"coordinates\":null,\"end\":{\"id\":\"1191\"},\"group\":null,\"line_alpha\":{\"value\":0.5},\"line_color\":{\"field\":\"color\"},\"line_width\":{\"field\":\"weight\"},\"source\":{\"id\":\"1192\"},\"start\":null,\"x_end\":{\"field\":\"x_end\"},\"x_start\":{\"field\":\"x_start\"},\"y_end\":{\"field\":\"y_end\"},\"y_start\":{\"field\":\"y_start\"}},\"id\":\"1193\",\"type\":\"Arrow\"},{\"attributes\":{\"data\":{\"fill_color\":[\"#f7f7f7\"],\"px\":[0.03929431336041642],\"py\":[1.6205189096525225]},\"selected\":{\"id\":\"1216\"},\"selection_policy\":{\"id\":\"1215\"}},\"id\":\"1179\",\"type\":\"ColumnDataSource\"},{\"attributes\":{},\"id\":\"1218\",\"type\":\"Selection\"},{\"attributes\":{},\"id\":\"1211\",\"type\":\"AllLabels\"},{\"attributes\":{},\"id\":\"1222\",\"type\":\"UnionRenderers\"},{\"attributes\":{\"fill_alpha\":{\"value\":0.5},\"fill_color\":{\"field\":\"fill_color\"},\"line_color\":{\"value\":\"#cc6633\"},\"marker\":{\"value\":\"square\"},\"size\":{\"value\":12},\"x\":{\"field\":\"px\"},\"y\":{\"field\":\"py\"}},\"id\":\"1185\",\"type\":\"Scatter\"},{\"attributes\":{\"data\":{\"fill_color\":[\"#f7f7f7\"],\"px\":[4.5694164771038315],\"py\":[2.501532345183066]},\"selected\":{\"id\":\"1220\"},\"selection_policy\":{\"id\":\"1219\"}},\"id\":\"1184\",\"type\":\"ColumnDataSource\"},{\"attributes\":{},\"id\":\"1210\",\"type\":\"BasicTickFormatter\"},{\"attributes\":{\"overlay\":{\"id\":\"1171\"}},\"id\":\"1167\",\"type\":\"BoxZoomTool\"},{\"attributes\":{\"coordinates\":null,\"data_source\":{\"id\":\"1183\"},\"glyph\":{\"id\":\"1185\"},\"group\":null,\"hover_glyph\":null,\"view\":{\"id\":\"1188\"}},\"id\":\"1187\",\"type\":\"GlyphRenderer\"},{\"attributes\":{},\"id\":\"1223\",\"type\":\"Selection\"},{\"attributes\":{},\"id\":\"1169\",\"type\":\"ResetTool\"},{\"attributes\":{\"coordinates\":null,\"data_source\":{\"id\":\"1184\"},\"glyph\":{\"id\":\"1186\"},\"group\":null,\"hover_glyph\":null,\"view\":{\"id\":\"1190\"}},\"id\":\"1189\",\"type\":\"GlyphRenderer\"},{\"attributes\":{\"source\":{\"id\":\"1183\"}},\"id\":\"1188\",\"type\":\"CDSView\"},{\"attributes\":{},\"id\":\"1219\",\"type\":\"UnionRenderers\"},{\"attributes\":{\"coordinates\":null,\"data_source\":{\"id\":\"1179\"},\"glyph\":{\"id\":\"1180\"},\"group\":null,\"hover_glyph\":null,\"view\":{\"id\":\"1182\"}},\"id\":\"1181\",\"type\":\"GlyphRenderer\"},{\"attributes\":{},\"id\":\"1214\",\"type\":\"AllLabels\"},{\"attributes\":{},\"id\":\"1220\",\"type\":\"Selection\"},{\"attributes\":{},\"id\":\"1168\",\"type\":\"SaveTool\"},{\"attributes\":{},\"id\":\"1170\",\"type\":\"HelpTool\"},{\"attributes\":{},\"id\":\"1166\",\"type\":\"WheelZoomTool\"},{\"attributes\":{},\"id\":\"1213\",\"type\":\"BasicTickFormatter\"},{\"attributes\":{},\"id\":\"1165\",\"type\":\"PanTool\"},{\"attributes\":{},\"id\":\"1162\",\"type\":\"BasicTicker\"},{\"attributes\":{\"axis\":{\"id\":\"1161\"},\"coordinates\":null,\"dimension\":1,\"group\":null,\"ticker\":null},\"id\":\"1164\",\"type\":\"Grid\"},{\"attributes\":{\"coordinates\":null,\"formatter\":{\"id\":\"1210\"},\"group\":null,\"major_label_policy\":{\"id\":\"1211\"},\"ticker\":{\"id\":\"1162\"}},\"id\":\"1161\",\"type\":\"LinearAxis\"},{\"attributes\":{\"source\":{\"id\":\"1179\"}},\"id\":\"1182\",\"type\":\"CDSView\"},{\"attributes\":{\"coordinates\":null,\"group\":null,\"text\":\"solver network\"},\"id\":\"1147\",\"type\":\"Title\"},{\"attributes\":{\"fill_alpha\":{\"value\":0.5},\"fill_color\":{\"field\":\"fill_color\"},\"line_color\":{\"value\":\"#cc6633\"},\"marker\":{\"value\":\"inverted_triangle\"},\"size\":{\"value\":12},\"x\":{\"field\":\"px\"},\"y\":{\"field\":\"py\"}},\"id\":\"1186\",\"type\":\"Scatter\"},{\"attributes\":{\"axis\":{\"id\":\"1157\"},\"coordinates\":null,\"group\":null,\"ticker\":null},\"id\":\"1160\",\"type\":\"Grid\"},{\"attributes\":{},\"id\":\"1215\",\"type\":\"UnionRenderers\"},{\"attributes\":{},\"id\":\"1158\",\"type\":\"BasicTicker\"},{\"attributes\":{\"data\":{\"fill_color\":[\"#f7f7f7\",\"#f7f7f7\",\"#f7f7f7\",\"#f7f7f7\",\"#f7f7f7\",\"#f7f7f7\",\"#f7f7f7\",\"#f7f7f7\"],\"px\":[0.0,1.0,2.0,3.0,4.0,5.0,6.0,7.0],\"py\":[0.0,0.0,0.0,0.0,0.0,0.0,0.0,0.0]},\"selected\":{\"id\":\"1218\"},\"selection_policy\":{\"id\":\"1217\"}},\"id\":\"1183\",\"type\":\"ColumnDataSource\"},{\"attributes\":{\"coordinates\":null,\"formatter\":{\"id\":\"1213\"},\"group\":null,\"major_label_policy\":{\"id\":\"1214\"},\"ticker\":{\"id\":\"1158\"}},\"id\":\"1157\",\"type\":\"LinearAxis\"},{\"attributes\":{},\"id\":\"1216\",\"type\":\"Selection\"},{\"attributes\":{},\"id\":\"1155\",\"type\":\"LinearScale\"},{\"attributes\":{},\"id\":\"1149\",\"type\":\"DataRange1d\"},{\"attributes\":{\"tools\":[{\"id\":\"1165\"},{\"id\":\"1166\"},{\"id\":\"1167\"},{\"id\":\"1168\"},{\"id\":\"1169\"},{\"id\":\"1170\"}]},\"id\":\"1172\",\"type\":\"Toolbar\"},{\"attributes\":{\"fill_alpha\":{\"value\":0.5},\"fill_color\":{\"field\":\"fill_color\"},\"line_color\":{\"value\":\"#cc6633\"},\"size\":{\"value\":12},\"x\":{\"field\":\"px\"},\"y\":{\"field\":\"py\"}},\"id\":\"1180\",\"type\":\"Circle\"}],\"root_ids\":[\"1146\"]},\"title\":\"Bokeh Application\",\"version\":\"2.4.3\"}};\n",
       "  const render_items = [{\"docid\":\"16c6bd5d-de86-4af4-b6ab-4abd19f9b760\",\"notebook_comms_target\":\"1224\",\"root_ids\":[\"1146\"],\"roots\":{\"1146\":\"d7fa597d-aa55-40a7-b87c-e86e1c9b8a19\"}}];\n",
       "  root.Bokeh.embed.embed_items_notebook(docs_json, render_items);\n",
       "  }\n",
       "  if (root.Bokeh !== undefined) {\n",
       "    embed_document(root);\n",
       "  } else {\n",
       "    let attempts = 0;\n",
       "    const timer = setInterval(function(root) {\n",
       "      if (root.Bokeh !== undefined) {\n",
       "        clearInterval(timer);\n",
       "        embed_document(root);\n",
       "      } else {\n",
       "        attempts++;\n",
       "        if (attempts > 100) {\n",
       "          clearInterval(timer);\n",
       "          console.log(\"Bokeh: ERROR: Unable to run BokehJS code because BokehJS library is missing\");\n",
       "        }\n",
       "      }\n",
       "    }, 10, root)\n",
       "  }\n",
       "})(window);"
      ],
      "application/vnd.bokehjs_exec.v0+json": ""
     },
     "metadata": {
      "application/vnd.bokehjs_exec.v0+json": {
       "id": "1146"
      }
     },
     "output_type": "display_data"
    }
   ],
   "source": [
    "with summary.trial(*results[0]) as trial:\n",
    "    show(visualize.SolverNetworkView(trial.observe(*trial.best())), notebook_handle=True)"
   ]
  },
  {
   "cell_type": "code",
   "execution_count": null,
   "id": "fbec851e",
   "metadata": {},
   "outputs": [],
   "source": []
  },
  {
   "cell_type": "code",
   "execution_count": 64,
   "id": "c3e2193f",
   "metadata": {},
   "outputs": [
    {
     "data": {
      "text/html": [
       "\n",
       "  <div class=\"bk-root\" id=\"b9060dfe-c737-4f9b-ac37-dd71b8246ddf\" data-root-id=\"13551\"></div>\n"
      ]
     },
     "metadata": {},
     "output_type": "display_data"
    },
    {
     "data": {
      "application/javascript": [
       "(function(root) {\n",
       "  function embed_document(root) {\n",
       "  const docs_json = {\"ea5eca90-48fe-4278-9590-e8d85e1e6d44\":{\"defs\":[],\"roots\":{\"references\":[{\"attributes\":{\"below\":[{\"id\":\"13562\"}],\"center\":[{\"id\":\"13564\"},{\"id\":\"13568\"},{\"id\":\"13600\"}],\"left\":[{\"id\":\"13565\"}],\"renderers\":[{\"id\":\"13588\"},{\"id\":\"13607\"}],\"title\":{\"id\":\"13552\"},\"toolbar\":{\"id\":\"13576\"},\"x_range\":{\"id\":\"13554\"},\"x_scale\":{\"id\":\"13558\"},\"y_range\":{\"id\":\"13556\"},\"y_scale\":{\"id\":\"13560\"}},\"id\":\"13551\",\"subtype\":\"Figure\",\"type\":\"Plot\"},{\"attributes\":{\"axis\":{\"id\":\"13565\"},\"coordinates\":null,\"dimension\":1,\"group\":null,\"ticker\":null},\"id\":\"13568\",\"type\":\"Grid\"},{\"attributes\":{\"fill_alpha\":{\"value\":0.2},\"fill_color\":{\"value\":\"#718dbf\"},\"hatch_alpha\":{\"value\":0.2},\"hatch_color\":{\"value\":\"#718dbf\"},\"line_alpha\":{\"value\":0.2},\"line_color\":{\"value\":\"#718dbf\"},\"top\":{\"field\":\"connection\"},\"width\":{\"value\":0.2},\"x\":{\"field\":\"neurocomponents\",\"transform\":{\"id\":\"13602\"}}},\"id\":\"13606\",\"type\":\"VBar\"},{\"attributes\":{\"fill_color\":{\"value\":\"#718dbf\"},\"hatch_color\":{\"value\":\"#718dbf\"},\"line_color\":{\"value\":\"#718dbf\"},\"top\":{\"field\":\"connection\"},\"width\":{\"value\":0.2},\"x\":{\"field\":\"neurocomponents\",\"transform\":{\"id\":\"13602\"}}},\"id\":\"13604\",\"type\":\"VBar\"},{\"attributes\":{\"fill_alpha\":{\"value\":0.1},\"fill_color\":{\"value\":\"#718dbf\"},\"hatch_alpha\":{\"value\":0.1},\"hatch_color\":{\"value\":\"#718dbf\"},\"line_alpha\":{\"value\":0.1},\"line_color\":{\"value\":\"#718dbf\"},\"top\":{\"field\":\"connection\"},\"width\":{\"value\":0.2},\"x\":{\"field\":\"neurocomponents\",\"transform\":{\"id\":\"13602\"}}},\"id\":\"13605\",\"type\":\"VBar\"},{\"attributes\":{\"fill_alpha\":{\"value\":0.2},\"fill_color\":{\"value\":\"#c9d9d3\"},\"hatch_alpha\":{\"value\":0.2},\"hatch_color\":{\"value\":\"#c9d9d3\"},\"line_alpha\":{\"value\":0.2},\"line_color\":{\"value\":\"#c9d9d3\"},\"top\":{\"field\":\"node\"},\"width\":{\"value\":0.2},\"x\":{\"field\":\"neurocomponents\",\"transform\":{\"id\":\"13583\"}}},\"id\":\"13587\",\"type\":\"VBar\"},{\"attributes\":{\"data\":{\"connection\":[4,6],\"neurocomponents\":[\"\\u63d0\\u6848\\u624b\\u6cd5\",\"\\u9759\\u7684NN\"],\"node\":[10,12]},\"selected\":{\"id\":\"13598\"},\"selection_policy\":{\"id\":\"13597\"}},\"id\":\"13550\",\"type\":\"ColumnDataSource\"},{\"attributes\":{\"coordinates\":null,\"data_source\":{\"id\":\"13550\"},\"glyph\":{\"id\":\"13604\"},\"group\":null,\"hover_glyph\":null,\"muted_glyph\":{\"id\":\"13606\"},\"nonselection_glyph\":{\"id\":\"13605\"},\"view\":{\"id\":\"13608\"}},\"id\":\"13607\",\"type\":\"GlyphRenderer\"},{\"attributes\":{},\"id\":\"13592\",\"type\":\"BasicTickFormatter\"},{\"attributes\":{\"coordinates\":null,\"group\":null,\"text\":\"of nodes & of connections\"},\"id\":\"13552\",\"type\":\"Title\"},{\"attributes\":{\"label\":{\"value\":\"connection\"},\"renderers\":[{\"id\":\"13607\"}]},\"id\":\"13619\",\"type\":\"LegendItem\"},{\"attributes\":{\"fill_color\":{\"value\":\"#c9d9d3\"},\"hatch_color\":{\"value\":\"#c9d9d3\"},\"line_color\":{\"value\":\"#c9d9d3\"},\"top\":{\"field\":\"node\"},\"width\":{\"value\":0.2},\"x\":{\"field\":\"neurocomponents\",\"transform\":{\"id\":\"13583\"}}},\"id\":\"13585\",\"type\":\"VBar\"},{\"attributes\":{},\"id\":\"13572\",\"type\":\"SaveTool\"},{\"attributes\":{},\"id\":\"13593\",\"type\":\"AllLabels\"},{\"attributes\":{\"range\":{\"id\":\"13554\"},\"value\":-0.12},\"id\":\"13583\",\"type\":\"Dodge\"},{\"attributes\":{\"source\":{\"id\":\"13550\"}},\"id\":\"13608\",\"type\":\"CDSView\"},{\"attributes\":{\"coordinates\":null,\"data_source\":{\"id\":\"13550\"},\"glyph\":{\"id\":\"13585\"},\"group\":null,\"hover_glyph\":null,\"muted_glyph\":{\"id\":\"13587\"},\"nonselection_glyph\":{\"id\":\"13586\"},\"view\":{\"id\":\"13589\"}},\"id\":\"13588\",\"type\":\"GlyphRenderer\"},{\"attributes\":{\"factors\":[\"\\u63d0\\u6848\\u624b\\u6cd5\",\"\\u9759\\u7684NN\"],\"range_padding\":0.1},\"id\":\"13554\",\"type\":\"FactorRange\"},{\"attributes\":{},\"id\":\"13595\",\"type\":\"CategoricalTickFormatter\"},{\"attributes\":{\"fill_alpha\":{\"value\":0.1},\"fill_color\":{\"value\":\"#c9d9d3\"},\"hatch_alpha\":{\"value\":0.1},\"hatch_color\":{\"value\":\"#c9d9d3\"},\"line_alpha\":{\"value\":0.1},\"line_color\":{\"value\":\"#c9d9d3\"},\"top\":{\"field\":\"node\"},\"width\":{\"value\":0.2},\"x\":{\"field\":\"neurocomponents\",\"transform\":{\"id\":\"13583\"}}},\"id\":\"13586\",\"type\":\"VBar\"},{\"attributes\":{},\"id\":\"13558\",\"type\":\"CategoricalScale\"},{\"attributes\":{},\"id\":\"13563\",\"type\":\"CategoricalTicker\"},{\"attributes\":{},\"id\":\"13598\",\"type\":\"Selection\"},{\"attributes\":{\"end\":20},\"id\":\"13556\",\"type\":\"Range1d\"},{\"attributes\":{},\"id\":\"13570\",\"type\":\"WheelZoomTool\"},{\"attributes\":{},\"id\":\"13596\",\"type\":\"AllLabels\"},{\"attributes\":{\"coordinates\":null,\"formatter\":{\"id\":\"13592\"},\"group\":null,\"major_label_policy\":{\"id\":\"13593\"},\"ticker\":{\"id\":\"13566\"}},\"id\":\"13565\",\"type\":\"LinearAxis\"},{\"attributes\":{\"tools\":[{\"id\":\"13569\"},{\"id\":\"13570\"},{\"id\":\"13571\"},{\"id\":\"13572\"},{\"id\":\"13573\"},{\"id\":\"13574\"}]},\"id\":\"13576\",\"type\":\"Toolbar\"},{\"attributes\":{\"axis\":{\"id\":\"13562\"},\"coordinates\":null,\"grid_line_color\":null,\"group\":null,\"ticker\":null},\"id\":\"13564\",\"type\":\"Grid\"},{\"attributes\":{},\"id\":\"13560\",\"type\":\"LinearScale\"},{\"attributes\":{\"range\":{\"id\":\"13554\"},\"value\":0.12},\"id\":\"13602\",\"type\":\"Dodge\"},{\"attributes\":{\"coordinates\":null,\"formatter\":{\"id\":\"13595\"},\"group\":null,\"major_label_policy\":{\"id\":\"13596\"},\"ticker\":{\"id\":\"13563\"}},\"id\":\"13562\",\"type\":\"CategoricalAxis\"},{\"attributes\":{},\"id\":\"13574\",\"type\":\"HelpTool\"},{\"attributes\":{\"source\":{\"id\":\"13550\"}},\"id\":\"13589\",\"type\":\"CDSView\"},{\"attributes\":{},\"id\":\"13569\",\"type\":\"PanTool\"},{\"attributes\":{},\"id\":\"13566\",\"type\":\"BasicTicker\"},{\"attributes\":{},\"id\":\"13597\",\"type\":\"UnionRenderers\"},{\"attributes\":{\"coordinates\":null,\"group\":null,\"items\":[{\"id\":\"13601\"},{\"id\":\"13619\"}],\"location\":\"top_left\",\"orientation\":\"horizontal\"},\"id\":\"13600\",\"type\":\"Legend\"},{\"attributes\":{},\"id\":\"13573\",\"type\":\"ResetTool\"},{\"attributes\":{\"label\":{\"value\":\"node\"},\"renderers\":[{\"id\":\"13588\"}]},\"id\":\"13601\",\"type\":\"LegendItem\"},{\"attributes\":{\"bottom_units\":\"screen\",\"coordinates\":null,\"fill_alpha\":0.5,\"fill_color\":\"lightgrey\",\"group\":null,\"left_units\":\"screen\",\"level\":\"overlay\",\"line_alpha\":1.0,\"line_color\":\"black\",\"line_dash\":[4,4],\"line_width\":2,\"right_units\":\"screen\",\"syncable\":false,\"top_units\":\"screen\"},\"id\":\"13575\",\"type\":\"BoxAnnotation\"},{\"attributes\":{\"overlay\":{\"id\":\"13575\"}},\"id\":\"13571\",\"type\":\"BoxZoomTool\"}],\"root_ids\":[\"13551\"]},\"title\":\"Bokeh Application\",\"version\":\"2.4.3\"}};\n",
       "  const render_items = [{\"docid\":\"ea5eca90-48fe-4278-9590-e8d85e1e6d44\",\"root_ids\":[\"13551\"],\"roots\":{\"13551\":\"b9060dfe-c737-4f9b-ac37-dd71b8246ddf\"}}];\n",
       "  root.Bokeh.embed.embed_items_notebook(docs_json, render_items);\n",
       "  }\n",
       "  if (root.Bokeh !== undefined) {\n",
       "    embed_document(root);\n",
       "  } else {\n",
       "    let attempts = 0;\n",
       "    const timer = setInterval(function(root) {\n",
       "      if (root.Bokeh !== undefined) {\n",
       "        clearInterval(timer);\n",
       "        embed_document(root);\n",
       "      } else {\n",
       "        attempts++;\n",
       "        if (attempts > 100) {\n",
       "          clearInterval(timer);\n",
       "          console.log(\"Bokeh: ERROR: Unable to run BokehJS code because BokehJS library is missing\");\n",
       "        }\n",
       "      }\n",
       "    }, 10, root)\n",
       "  }\n",
       "})(window);"
      ],
      "application/vnd.bokehjs_exec.v0+json": ""
     },
     "metadata": {
      "application/vnd.bokehjs_exec.v0+json": {
       "id": "13551"
      }
     },
     "output_type": "display_data"
    },
    {
     "name": "stderr",
     "output_type": "stream",
     "text": [
      "Unable to init server: Could not connect: Connection refused\n",
      "Error: cannot open display: :1\n"
     ]
    }
   ],
   "source": [
    "from bokeh.io import show\n",
    "from bokeh.models import ColumnDataSource\n",
    "from bokeh.plotting import figure\n",
    "from bokeh.transform import dodge\n",
    "\n",
    "neurocomponents = ['提案手法', '静的NN']\n",
    "years = ['node', 'connection']\n",
    "\n",
    "data = {'neurocomponents' : neurocomponents,\n",
    "        'node'   : [10, 12],\n",
    "        'connection'   : [4, 6]}\n",
    "\n",
    "source = ColumnDataSource(data=data)\n",
    "\n",
    "p = figure(x_range=neurocomponents, y_range=(0, 20), title=\"of nodes & of connections\")\n",
    "\n",
    "p.vbar(x=dodge('neurocomponents', -0.12, range=p.x_range), top='node', width=0.2, source=source,\n",
    "       color=\"#c9d9d3\", legend_label=\"node\")\n",
    "\n",
    "p.vbar(x=dodge('neurocomponents',  0.12,  range=p.x_range), top='connection', width=0.2, source=source,\n",
    "       color=\"#718dbf\", legend_label=\"connection\")\n",
    "\n",
    "p.x_range.range_padding = 0.1\n",
    "p.xgrid.grid_line_color = None\n",
    "p.legend.location = \"top_left\"\n",
    "p.legend.orientation = \"horizontal\"\n",
    "\n",
    "show(p)"
   ]
  },
  {
   "cell_type": "code",
   "execution_count": 14,
   "id": "815ad0ee",
   "metadata": {},
   "outputs": [
    {
     "data": {
      "text/html": [
       "\n",
       "  <div class=\"bk-root\" id=\"0d33fade-0def-4eb1-a137-098f2c134d20\" data-root-id=\"3656\"></div>\n"
      ]
     },
     "metadata": {},
     "output_type": "display_data"
    },
    {
     "data": {
      "application/javascript": [
       "(function(root) {\n",
       "  function embed_document(root) {\n",
       "  const docs_json = {\"572af467-0df7-4f45-8466-e07ca9458c4e\":{\"defs\":[],\"roots\":{\"references\":[{\"attributes\":{\"below\":[{\"id\":\"3667\"}],\"center\":[{\"id\":\"3670\"},{\"id\":\"3674\"},{\"id\":\"3705\"}],\"height\":400,\"left\":[{\"id\":\"3671\"}],\"renderers\":[{\"id\":\"3693\"},{\"id\":\"3711\"}],\"title\":{\"id\":\"3657\"},\"toolbar\":{\"id\":\"3682\"},\"width\":500,\"x_range\":{\"id\":\"3659\"},\"x_scale\":{\"id\":\"3663\"},\"y_range\":{\"id\":\"3661\"},\"y_scale\":{\"id\":\"3665\"}},\"id\":\"3656\",\"subtype\":\"Figure\",\"type\":\"Plot\"},{\"attributes\":{},\"id\":\"3675\",\"type\":\"PanTool\"},{\"attributes\":{\"source\":{\"id\":\"3707\"}},\"id\":\"3712\",\"type\":\"CDSView\"},{\"attributes\":{\"axis_label\":\"fitness\",\"coordinates\":null,\"formatter\":{\"id\":\"3697\"},\"group\":null,\"major_label_policy\":{\"id\":\"3698\"},\"ticker\":{\"id\":\"3672\"}},\"id\":\"3671\",\"type\":\"LinearAxis\"},{\"attributes\":{\"overlay\":{\"id\":\"3681\"}},\"id\":\"3677\",\"type\":\"BoxZoomTool\"},{\"attributes\":{\"line_alpha\":0.2,\"line_color\":\"#ff7f0e\",\"x\":{\"field\":\"x\"},\"y\":{\"field\":\"y\"}},\"id\":\"3710\",\"type\":\"Line\"},{\"attributes\":{\"coordinates\":null,\"group\":null,\"text\":\"neurocomponents\"},\"id\":\"3657\",\"type\":\"Title\"},{\"attributes\":{},\"id\":\"3680\",\"type\":\"HelpTool\"},{\"attributes\":{\"label\":{\"value\":\"neuron\"},\"renderers\":[{\"id\":\"3711\"}]},\"id\":\"3725\",\"type\":\"LegendItem\"},{\"attributes\":{\"coordinates\":null,\"data_source\":{\"id\":\"3689\"},\"glyph\":{\"id\":\"3690\"},\"group\":null,\"hover_glyph\":null,\"muted_glyph\":{\"id\":\"3692\"},\"nonselection_glyph\":{\"id\":\"3691\"},\"view\":{\"id\":\"3694\"}},\"id\":\"3693\",\"type\":\"GlyphRenderer\"},{\"attributes\":{\"axis_label\":\"step\",\"coordinates\":null,\"formatter\":{\"id\":\"3700\"},\"group\":null,\"major_label_policy\":{\"id\":\"3701\"},\"ticker\":{\"id\":\"3668\"}},\"id\":\"3667\",\"type\":\"LinearAxis\"},{\"attributes\":{},\"id\":\"3722\",\"type\":\"UnionRenderers\"},{\"attributes\":{\"data\":{\"x\":[0,1,2,3,4,5,6,7,8,9,10,11,12,13,14,15,16,17,18,19,20,21,22,23,24,25,26,27,28,29,30,31,32,33,34,35,36,37,38,39,40,41,42,43,44,45,46,47,48,49,50,51,52,53,54,55,56,57,58,59,60,61,62,63,64,65,66,67,68,69,70,71,72,73,74,75,76,77,78,79,80,81,82,83,84,85,86,87,88,89,90,91,92,93,94,95,96,97,98,99,100,101,102,103,104,105,106,107,108,109,110,111,112,113,114,115,116,117,118,119,120,121,122,123,124,125,126,127,128,129,130,131,132,133,134,135,136,137,138,139,140,141,142,143,144,145,146,147,148,149,150,151,152,153,154,155,156,157,158,159,160,161,162,163,164,165,166,167,168,169,170,171,172,173,174,175,176,177,178,179,180,181,182,183,184,185,186,187,188,189,190,191,192,193,194,195,196,197,198,199,200,201,202,203,204,205,206,207,208,209,210,211,212,213,214,215,216,217,218,219,220,221,222,223,224,225,226,227,228,229,230,231,232,233,234,235,236,237,238,239,240,241,242,243,244,245,246,247,248,249,250,251,252,253,254,255,256,257,258,259,260,261,262,263,264,265,266,267,268,269,270,271,272,273,274,275,276,277,278,279,280,281,282,283,284,285,286,287,288,289,290,291,292,293,294,295,296,297,298,299,300,301,302,303,304,305,306,307,308,309,310,311,312,313,314,315,316,317,318,319,320,321,322,323,324,325,326,327,328,329,330,331,332,333,334,335,336,337,338,339,340,341,342,343,344,345,346,347,348,349,350,351,352,353,354,355,356,357,358,359,360,361,362,363,364,365,366,367,368,369,370,371,372,373,374,375,376,377,378,379,380,381,382,383,384,385,386,387,388,389,390,391,392,393,394,395,396,397,398,399,400,401,402,403,404,405,406,407,408,409,410,411,412,413,414,415,416,417,418,419,420,421,422,423,424,425,426,427,428,429,430,431,432,433,434,435,436,437,438,439,440,441,442,443,444,445,446,447,448,449,450,451,452,453,454,455,456,457,458,459,460,461,462,463,464,465,466,467,468,469,470,471,472,473,474,475,476,477,478,479,480,481,482,483,484,485,486,487,488,489,490,491,492,493,494,495,496,497,498,499,500,501,502,503,504,505,506,507,508,509,510,511,512,513,514,515,516,517,518,519,520,521,522,523,524,525,526,527,528,529,530,531,532,533,534,535,536,537,538,539,540,541,542,543,544,545,546,547,548,549,550,551,552,553,554,555,556,557,558,559,560,561,562,563,564,565,566,567,568,569,570,571,572,573,574,575,576,577,578,579,580,581,582,583,584,585,586,587,588,589,590,591,592,593,594,595,596,597,598,599,600,601,602,603,604,605,606,607,608,609,610,611,612,613,614,615,616,617,618,619,620,621,622,623,624,625,626,627,628,629,630,631,632,633,634,635,636,637,638,639,640,641,642,643,644,645,646,647,648,649,650,651,652,653,654,655,656,657,658,659,660,661,662,663,664,665,666,667,668,669,670,671,672,673,674,675,676,677,678,679,680,681,682,683,684,685,686,687,688,689,690,691,692,693,694,695,696,697,698,699,700,701,702,703,704,705,706,707,708,709,710,711,712,713,714,715,716,717,718,719,720,721,722,723,724,725,726,727,728,729,730,731,732,733,734,735,736,737,738,739,740,741,742,743,744,745,746,747,748,749,750,751,752,753,754,755,756,757,758,759,760,761,762,763,764,765,766,767,768,769,770,771,772,773,774,775,776,777,778,779,780,781,782,783,784,785,786,787,788,789,790,791,792,793,794,795,796,797,798,799,800,801,802,803,804,805,806,807,808,809,810,811,812,813,814,815,816,817,818,819,820,821,822,823,824,825,826,827,828,829,830,831,832,833,834,835,836,837,838,839,840,841,842,843,844,845,846,847,848,849,850,851,852,853,854,855,856,857,858,859,860,861,862,863,864,865,866,867,868,869,870,871,872,873,874,875,876,877,878,879,880,881,882,883,884,885,886,887,888,889,890,891,892,893,894,895,896,897,898,899,900,901,902,903,904,905,906,907,908,909,910,911,912,913,914,915,916,917,918,919,920,921,922,923,924,925,926,927,928,929,930,931,932,933,934,935,936,937,938,939,940,941,942,943,944,945,946,947,948,949,950,951,952,953,954,955,956,957,958,959,960,961,962,963,964,965,966,967,968,969,970,971,972,973,974,975,976,977,978,979,980,981,982,983,984,985,986,987,988,989,990,991,992,993,994,995,996,997,998,999,1000],\"y\":[10,10,10,10,10,10,10,10,10,10,10,10,10,10,10,10,10,10,10,10,10,10,10,10,10,10,10,10,10,10,10,10,10,10,10,10,10,10,10,10,10,10,10,10,10,10,10,10,10,10,10,10,10,10,10,10,10,10,10,10,10,10,10,10,10,10,10,10,10,10,10,10,10,10,10,10,10,10,10,10,10,10,10,10,10,10,10,10,10,10,10,10,10,10,10,10,10,10,10,10,10,10,10,10,10,10,10,10,10,10,10,10,10,10,10,10,10,10,10,10,10,10,10,10,10,10,10,10,10,10,10,10,10,10,10,10,10,10,10,10,10,10,10,10,10,10,10,10,10,10,10,10,10,10,10,10,10,10,10,10,10,10,10,10,10,10,10,10,10,10,10,10,10,10,10,10,10,10,10,10,10,10,10,10,10,10,10,10,10,10,10,10,10,10,10,10,10,10,10,10,10,10,10,10,10,10,10,10,10,10,10,10,10,10,10,10,10,10,10,10,10,10,10,10,10,10,10,10,10,10,10,10,10,10,10,10,10,10,10,10,10,10,10,10,10,10,10,10,10,10,10,10,10,10,10,10,10,10,10,10,10,10,10,10,10,10,10,10,10,10,10,10,10,10,10,10,10,10,10,10,10,10,10,10,10,10,10,10,10,10,10,10,10,10,10,10,10,10,10,10,10,10,10,10,10,10,10,10,10,10,10,10,10,10,10,10,10,10,10,10,10,10,10,10,10,10,10,10,10,10,10,10,10,10,10,10,10,10,10,10,10,10,10,10,10,10,10,10,10,10,10,10,10,10,10,10,10,10,10,10,10,10,10,10,10,10,10,10,10,10,10,10,10,10,10,10,10,10,10,10,10,10,10,10,10,10,10,10,10,10,10,10,10,10,10,10,10,10,10,10,10,10,10,10,10,10,10,10,10,10,10,10,10,10,10,10,10,10,10,10,10,10,10,10,10,10,10,10,10,10,10,10,10,10,10,10,10,10,10,10,10,10,10,10,10,10,10,10,10,10,10,10,10,10,10,10,10,10,10,10,10,10,10,10,10,10,10,10,10,10,10,10,10,10,10,10,10,10,10,10,10,10,10,10,10,10,10,10,10,10,10,10,10,10,10,10,10,10,10,10,10,10,10,10,10,10,10,10,10,10,10,10,10,10,10,10,10,10,10,10,10,10,10,10,10,10,10,10,10,10,10,10,10,10,10,10,10,10,10,10,10,10,10,10,10,10,10,10,10,10,10,10,10,10,10,10,10,10,10,10,10,10,10,10,10,10,10,10,10,10,10,10,10,10,10,10,10,10,10,10,10,10,10,10,10,10,10,10,10,10,10,10,10,10,10,10,10,10,10,10,10,10,10,10,10,10,10,10,10,10,10,10,10,10,10,10,10,10,10,10,10,10,10,10,10,10,10,10,10,10,10,10,10,10,10,10,10,10,10,10,10,10,10,10,10,10,10,10,10,10,10,10,10,10,10,10,10,10,10,10,10,10,10,10,10,10,10,10,10,10,10,10,10,10,10,10,10,10,10,10,10,10,10,10,10,10,10,10,10,10,10,10,10,10,10,10,10,10,10,10,10,10,10,10,10,10,10,10,10,10,10,10,10,10,10,10,10,10,10,10,10,10,10,10,10,10,10,10,10,10,10,10,10,10,10,10,10,10,10,10,10,10,10,10,10,10,10,10,10,10,10,10,10,10,10,10,10,10,10,10,10,10,10,10,10,10,10,10,10,10,10,10,10,10,10,10,10,10,10,10,10,10,10,10,10,10,10,10,10,10,10,10,10,10,10,10,10,10,10,10,10,10,10,10,10,10,10,10,10,10,10,10,10,10,10,10,10,10,10,10,10,10,10,10,10,10,10,10,10,10,10,10,10,10,10,10,10,10,10,10,10,10,10,10,10,10,10,10,10,10,10,10,10,10,10,10,10,10,10,10,10,10,10,10,10,10,10,10,10,10,10,10,10,10,10,10,10,10,10,10,10,10,10,10,10,10,10,10,10,10,10,10,10,10,10,10,10,10,10,10,10,10,10,10,10,10,10,10,10,10,10,10,10,10,10,10,10,10,10,10,10,10,10,10,10,10,10,10,10,10,10,10,10,10,10,10,10,10,10,10,10,10,10,10,10,10,10,10,10,10,10,10,10,10,10,10,10,10,10,10,10,10,10,10,10,10,10,10,10,10,10,10,10,10,10,10,10,10,10,10,10,10,10,10,10,10,10,10,10,10,10,10,10,10,10,10,10,10,10,10,10]},\"selected\":{\"id\":\"3723\"},\"selection_policy\":{\"id\":\"3722\"}},\"id\":\"3707\",\"type\":\"ColumnDataSource\"},{\"attributes\":{\"line_alpha\":0.2,\"line_color\":\"#1f77b4\",\"x\":{\"field\":\"x\"},\"y\":{\"field\":\"y\"}},\"id\":\"3692\",\"type\":\"Line\"},{\"attributes\":{},\"id\":\"3697\",\"type\":\"BasicTickFormatter\"},{\"attributes\":{},\"id\":\"3723\",\"type\":\"Selection\"},{\"attributes\":{\"tools\":[{\"id\":\"3675\"},{\"id\":\"3676\"},{\"id\":\"3677\"},{\"id\":\"3678\"},{\"id\":\"3679\"},{\"id\":\"3680\"}]},\"id\":\"3682\",\"type\":\"Toolbar\"},{\"attributes\":{},\"id\":\"3678\",\"type\":\"SaveTool\"},{\"attributes\":{\"coordinates\":null,\"group\":null,\"items\":[{\"id\":\"3706\"},{\"id\":\"3725\"}]},\"id\":\"3705\",\"type\":\"Legend\"},{\"attributes\":{},\"id\":\"3698\",\"type\":\"AllLabels\"},{\"attributes\":{\"axis\":{\"id\":\"3667\"},\"coordinates\":null,\"group\":null,\"ticker\":null},\"id\":\"3670\",\"type\":\"Grid\"},{\"attributes\":{},\"id\":\"3668\",\"type\":\"BasicTicker\"},{\"attributes\":{},\"id\":\"3700\",\"type\":\"BasicTickFormatter\"},{\"attributes\":{},\"id\":\"3659\",\"type\":\"DataRange1d\"},{\"attributes\":{},\"id\":\"3672\",\"type\":\"BasicTicker\"},{\"attributes\":{},\"id\":\"3702\",\"type\":\"UnionRenderers\"},{\"attributes\":{},\"id\":\"3701\",\"type\":\"AllLabels\"},{\"attributes\":{},\"id\":\"3679\",\"type\":\"ResetTool\"},{\"attributes\":{\"line_color\":\"#1f77b4\",\"x\":{\"field\":\"x\"},\"y\":{\"field\":\"y\"}},\"id\":\"3690\",\"type\":\"Line\"},{\"attributes\":{\"data\":{\"x\":[0,1,2,3,4,5,6,7,8,9,10,11,12,13,14,15,16,17,18,19,20,21,22,23,24,25,26,27,28,29,30,31,32,33,34,35,36,37,38,39,40,41,42,43,44,45,46,47,48,49,50,51,52,53,54,55,56,57,58,59,60,61,62,63,64,65,66,67,68,69,70,71,72,73,74,75,76,77,78,79,80,81,82,83,84,85,86,87,88,89,90,91,92,93,94,95,96,97,98,99,100,101,102,103,104,105,106,107,108,109,110,111,112,113,114,115,116,117,118,119,120,121,122,123,124,125,126,127,128,129,130,131,132,133,134,135,136,137,138,139,140,141,142,143,144,145,146,147,148,149,150,151,152,153,154,155,156,157,158,159,160,161,162,163,164,165,166,167,168,169,170,171,172,173,174,175,176,177,178,179,180,181,182,183,184,185,186,187,188,189,190,191,192,193,194,195,196,197,198,199,200,201,202,203,204,205,206,207,208,209,210,211,212,213,214,215,216,217,218,219,220,221,222,223,224,225,226,227,228,229,230,231,232,233,234,235,236,237,238,239,240,241,242,243,244,245,246,247,248,249,250,251,252,253,254,255,256,257,258,259,260,261,262,263,264,265,266,267,268,269,270,271,272,273,274,275,276,277,278,279,280,281,282,283,284,285,286,287,288,289,290,291,292,293,294,295,296,297,298,299,300,301,302,303,304,305,306,307,308,309,310,311,312,313,314,315,316,317,318,319,320,321,322,323,324,325,326,327,328,329,330,331,332,333,334,335,336,337,338,339,340,341,342,343,344,345,346,347,348,349,350,351,352,353,354,355,356,357,358,359,360,361,362,363,364,365,366,367,368,369,370,371,372,373,374,375,376,377,378,379,380,381,382,383,384,385,386,387,388,389,390,391,392,393,394,395,396,397,398,399,400,401,402,403,404,405,406,407,408,409,410,411,412,413,414,415,416,417,418,419,420,421,422,423,424,425,426,427,428,429,430,431,432,433,434,435,436,437,438,439,440,441,442,443,444,445,446,447,448,449,450,451,452,453,454,455,456,457,458,459,460,461,462,463,464,465,466,467,468,469,470,471,472,473,474,475,476,477,478,479,480,481,482,483,484,485,486,487,488,489,490,491,492,493,494,495,496,497,498,499,500,501,502,503,504,505,506,507,508,509,510,511,512,513,514,515,516,517,518,519,520,521,522,523,524,525,526,527,528,529,530,531,532,533,534,535,536,537,538,539,540,541,542,543,544,545,546,547,548,549,550,551,552,553,554,555,556,557,558,559,560,561,562,563,564,565,566,567,568,569,570,571,572,573,574,575,576,577,578,579,580,581,582,583,584,585,586,587,588,589,590,591,592,593,594,595,596,597,598,599,600,601,602,603,604,605,606,607,608,609,610,611,612,613,614,615,616,617,618,619,620,621,622,623,624,625,626,627,628,629,630,631,632,633,634,635,636,637,638,639,640,641,642,643,644,645,646,647,648,649,650,651,652,653,654,655,656,657,658,659,660,661,662,663,664,665,666,667,668,669,670,671,672,673,674,675,676,677,678,679,680,681,682,683,684,685,686,687,688,689,690,691,692,693,694,695,696,697,698,699,700,701,702,703,704,705,706,707,708,709,710,711,712,713,714,715,716,717,718,719,720,721,722,723,724,725,726,727,728,729,730,731,732,733,734,735,736,737,738,739,740,741,742,743,744,745,746,747,748,749,750,751,752,753,754,755,756,757,758,759,760,761,762,763,764,765,766,767,768,769,770,771,772,773,774,775,776,777,778,779,780,781,782,783,784,785,786,787,788,789,790,791,792,793,794,795,796,797,798,799,800,801,802,803,804,805,806,807,808,809,810,811,812,813,814,815,816,817,818,819,820,821,822,823,824,825,826,827,828,829,830,831,832,833,834,835,836,837,838,839,840,841,842,843,844,845,846,847,848,849,850,851,852,853,854,855,856,857,858,859,860,861,862,863,864,865,866,867,868,869,870,871,872,873,874,875,876,877,878,879,880,881,882,883,884,885,886,887,888,889,890,891,892,893,894,895,896,897,898,899,900,901,902,903,904,905,906,907,908,909,910,911,912,913,914,915,916,917,918,919,920,921,922,923,924,925,926,927,928,929,930,931,932,933,934,935,936,937,938,939,940,941,942,943,944,945,946,947,948,949,950,951,952,953,954,955,956,957,958,959,960,961,962,963,964,965,966,967,968,969,970,971,972,973,974,975,976,977,978,979,980,981,982,983,984,985,986,987,988,989,990,991,992,993,994,995,996,997,998,999,1000],\"y\":[4,4,4,4,4,4,4,4,4,4,4,4,4,4,4,4,4,4,4,4,4,4,4,4,4,4,4,4,4,4,4,4,4,4,4,4,4,4,4,4,4,4,4,4,4,4,4,4,4,4,4,4,4,4,4,4,4,4,4,4,4,4,4,4,4,4,4,4,4,4,4,4,4,4,4,4,4,4,4,4,4,4,4,4,4,4,4,4,4,4,4,4,4,4,4,4,4,4,4,4,4,4,4,4,4,4,4,4,4,4,4,4,4,4,4,4,4,4,4,4,4,4,4,4,4,4,4,4,4,4,4,4,4,4,4,4,4,4,4,4,4,4,4,4,4,4,4,4,4,4,4,4,4,4,4,4,4,4,4,4,4,4,4,4,4,4,4,4,4,4,4,4,4,4,4,4,4,4,4,4,4,4,4,4,4,4,4,4,4,4,4,4,4,4,4,4,4,4,4,4,4,4,4,4,4,4,4,4,4,4,4,4,4,4,4,4,4,4,4,4,4,4,4,4,4,4,4,4,4,4,4,4,4,4,4,4,4,4,4,4,4,4,4,4,4,4,4,4,4,4,4,4,4,4,4,4,4,4,4,4,4,4,4,4,4,4,4,4,4,4,4,4,4,4,4,4,4,4,4,4,4,4,4,4,4,4,4,4,4,4,4,4,4,4,4,4,4,4,4,4,4,4,4,4,4,4,4,4,4,4,4,4,4,4,4,4,4,4,4,4,4,4,4,4,4,4,4,4,4,4,4,4,4,4,4,4,4,4,4,4,4,4,4,4,4,4,4,4,4,4,4,4,4,4,4,4,4,4,4,4,4,4,4,4,4,4,4,4,4,4,4,4,4,4,4,4,4,4,4,4,4,4,4,4,4,4,4,4,4,4,4,4,4,4,4,4,4,4,4,4,4,4,4,4,4,4,4,4,4,4,4,4,4,4,4,4,4,4,4,4,4,4,4,4,4,4,4,4,4,4,4,4,4,4,4,4,4,4,4,4,4,4,4,4,4,4,4,4,4,4,4,4,4,4,4,4,4,4,4,4,4,4,4,4,4,4,4,4,4,4,4,4,4,4,4,4,4,4,4,4,4,4,4,4,4,4,4,4,4,4,4,4,4,4,4,4,4,4,4,4,4,4,4,4,4,4,4,4,4,4,4,4,4,4,4,4,4,4,4,4,4,4,4,4,4,4,4,4,4,4,4,4,4,4,4,4,4,4,4,4,4,4,4,4,4,4,4,4,4,4,4,4,4,4,4,4,4,4,4,4,4,4,4,4,4,4,4,4,4,4,4,4,4,4,4,4,4,4,4,4,4,4,4,4,4,4,4,4,4,4,4,4,4,4,4,4,4,4,4,4,4,4,4,4,4,4,4,4,4,4,4,4,4,4,4,4,4,4,4,4,4,4,4,4,4,4,4,4,4,4,4,4,4,4,4,4,4,4,4,4,4,4,4,4,4,4,4,4,4,4,4,4,4,4,4,4,4,4,4,4,4,4,4,4,4,4,4,4,4,4,4,4,4,4,4,4,4,4,4,4,4,4,4,4,4,4,4,4,4,4,4,4,4,4,4,4,4,4,4,4,4,4,4,4,4,4,4,4,4,4,4,4,4,4,4,4,4,4,4,4,4,4,4,4,4,4,4,4,4,4,4,4,4,4,4,4,4,4,4,4,4,4,4,4,4,4,4,4,4,4,4,4,4,4,4,4,4,4,4,4,4,4,4,4,4,4,4,4,4,4,4,4,4,4,4,4,4,4,4,4,4,4,4,4,4,4,4,4,4,4,4,4,4,4,4,4,4,4,4,4,4,4,4,4,4,4,4,4,4,4,4,4,4,4,4,4,4,4,4,4,4,4,4,4,4,4,4,4,4,4,4,4,4,4,4,4,4,4,4,4,4,4,4,4,4,4,4,4,4,4,4,4,4,4,4,4,4,4,4,4,4,4,4,4,4,4,4,4,4,4,4,4,4,4,4,4,4,4,4,4,4,4,4,4,4,4,4,4,4,4,4,4,4,4,4,4,4,4,4,4,4,4,4,4,4,4,4,4,4,4,4,4,4,4,4,4,4,4,4,4,4,4,4,4,4,4,4,4,4,4,4,4,4,4,4,4,4,4,4,4,4,4,4,4,4,4,4,4,4,4,4,4,4,4,4,4,4,4,4,4,4,4,4,4,4,4,4,4,4,4,4,4,4,4,4,4,4,4,4,4,4,4,4,4,4,4,4,4,4,4,4,4,4,4,4,4,4,4,4,4,4]},\"selected\":{\"id\":\"3703\"},\"selection_policy\":{\"id\":\"3702\"}},\"id\":\"3689\",\"type\":\"ColumnDataSource\"},{\"attributes\":{},\"id\":\"3703\",\"type\":\"Selection\"},{\"attributes\":{\"source\":{\"id\":\"3689\"}},\"id\":\"3694\",\"type\":\"CDSView\"},{\"attributes\":{},\"id\":\"3663\",\"type\":\"LinearScale\"},{\"attributes\":{},\"id\":\"3661\",\"type\":\"DataRange1d\"},{\"attributes\":{},\"id\":\"3665\",\"type\":\"LinearScale\"},{\"attributes\":{\"axis\":{\"id\":\"3671\"},\"coordinates\":null,\"dimension\":1,\"group\":null,\"ticker\":null},\"id\":\"3674\",\"type\":\"Grid\"},{\"attributes\":{\"line_alpha\":0.1,\"line_color\":\"#1f77b4\",\"x\":{\"field\":\"x\"},\"y\":{\"field\":\"y\"}},\"id\":\"3691\",\"type\":\"Line\"},{\"attributes\":{\"line_alpha\":0.1,\"line_color\":\"#ff7f0e\",\"x\":{\"field\":\"x\"},\"y\":{\"field\":\"y\"}},\"id\":\"3709\",\"type\":\"Line\"},{\"attributes\":{\"line_color\":\"#ff7f0e\",\"x\":{\"field\":\"x\"},\"y\":{\"field\":\"y\"}},\"id\":\"3708\",\"type\":\"Line\"},{\"attributes\":{\"bottom_units\":\"screen\",\"coordinates\":null,\"fill_alpha\":0.5,\"fill_color\":\"lightgrey\",\"group\":null,\"left_units\":\"screen\",\"level\":\"overlay\",\"line_alpha\":1.0,\"line_color\":\"black\",\"line_dash\":[4,4],\"line_width\":2,\"right_units\":\"screen\",\"syncable\":false,\"top_units\":\"screen\"},\"id\":\"3681\",\"type\":\"BoxAnnotation\"},{\"attributes\":{\"coordinates\":null,\"data_source\":{\"id\":\"3707\"},\"glyph\":{\"id\":\"3708\"},\"group\":null,\"hover_glyph\":null,\"muted_glyph\":{\"id\":\"3710\"},\"nonselection_glyph\":{\"id\":\"3709\"},\"view\":{\"id\":\"3712\"}},\"id\":\"3711\",\"type\":\"GlyphRenderer\"},{\"attributes\":{\"label\":{\"value\":\"synapse\"},\"renderers\":[{\"id\":\"3693\"}]},\"id\":\"3706\",\"type\":\"LegendItem\"},{\"attributes\":{},\"id\":\"3676\",\"type\":\"WheelZoomTool\"}],\"root_ids\":[\"3656\"]},\"title\":\"Bokeh Application\",\"version\":\"2.4.3\"}};\n",
       "  const render_items = [{\"docid\":\"572af467-0df7-4f45-8466-e07ca9458c4e\",\"root_ids\":[\"3656\"],\"roots\":{\"3656\":\"0d33fade-0def-4eb1-a137-098f2c134d20\"}}];\n",
       "  root.Bokeh.embed.embed_items_notebook(docs_json, render_items);\n",
       "  }\n",
       "  if (root.Bokeh !== undefined) {\n",
       "    embed_document(root);\n",
       "  } else {\n",
       "    let attempts = 0;\n",
       "    const timer = setInterval(function(root) {\n",
       "      if (root.Bokeh !== undefined) {\n",
       "        clearInterval(timer);\n",
       "        embed_document(root);\n",
       "      } else {\n",
       "        attempts++;\n",
       "        if (attempts > 100) {\n",
       "          clearInterval(timer);\n",
       "          console.log(\"Bokeh: ERROR: Unable to run BokehJS code because BokehJS library is missing\");\n",
       "        }\n",
       "      }\n",
       "    }, 10, root)\n",
       "  }\n",
       "})(window);"
      ],
      "application/vnd.bokehjs_exec.v0+json": ""
     },
     "metadata": {
      "application/vnd.bokehjs_exec.v0+json": {
       "id": "3656"
      }
     },
     "output_type": "display_data"
    }
   ],
   "source": [
    "with summary.trial(\"config_devnetwork-double_cartpole\", \"2022-11-04 05_39_30.223380\", 9) as trial:\n",
    "    show(visualize.NeuroComponents(trial.observe(3, 97)))"
   ]
  },
  {
   "cell_type": "code",
   "execution_count": 99,
   "id": "817f807f",
   "metadata": {},
   "outputs": [],
   "source": [
    "def multi_pole_fitness(state):\n",
    "    p1 = state[\"pole1_length\"] if math.cos(state[\"pole1_angle\"]) > 5 / 6 else 0\n",
    "    p2 = state[\"pole2_length\"] if math.cos(state[\"pole2_angle\"]) > 5 / 6 else 0\n",
    "    return (p1 + p2) / (state[\"pole1_length\"] + state[\"pole2_length\"])\n",
    "\n",
    "key = \"double\"\n",
    "def fitness_rate(task):\n",
    "    global key\n",
    "    f1 = sum(1 if math.cos(t[\"pole_angle\"]) else 0 for t in task if not t[key])\n",
    "    f2 = sum(multi_pole_fitness(t) for t in task if t[key])\n",
    "    if f1 == 0 and f2 == 0:\n",
    "        return 0\n",
    "    if f1 == 0:\n",
    "        return 1\n",
    "    return f2 / f1\n",
    "\n",
    "def fitness_sum(task):\n",
    "    global key\n",
    "    f1 = sum(1 if math.cos(t[\"pole_angle\"]) else 0 for t in task if not t[key])\n",
    "    f2 = sum(multi_pole_fitness(t) for t in task if t[key])\n",
    "    return f1 + f2"
   ]
  },
  {
   "cell_type": "code",
   "execution_count": 110,
   "id": "32150b3e",
   "metadata": {},
   "outputs": [],
   "source": [
    "def gen_fits(tsk):\n",
    "    global key\n",
    "    f = 0\n",
    "    for t in tsk:\n",
    "        if t[key]:\n",
    "            f += ((t[\"pole1_length\"] if math.cos(t[\"pole1_angle\"]) > 5 / 6 else 0) + (t[\"pole2_length\"] if math.cos(t[\"pole2_angle\"]) > 5 / 6 else 0)) / (t[\"pole1_length\"] + t[\"pole2_length\"])\n",
    "        else:\n",
    "            f += 1 if math.cos(t[\"pole_angle\"]) > 5 / 6 else 0\n",
    "        yield f\n"
   ]
  },
  {
   "cell_type": "code",
   "execution_count": 112,
   "id": "b2ece60b",
   "metadata": {},
   "outputs": [
    {
     "name": "stdout",
     "output_type": "stream",
     "text": [
      "132.0\n",
      "132.0\n"
     ]
    },
    {
     "data": {
      "text/html": [
       "\n",
       "  <div class=\"bk-root\" id=\"58e9fd95-92c3-4a58-a2ca-283b95fa21c4\" data-root-id=\"477579\"></div>\n"
      ]
     },
     "metadata": {},
     "output_type": "display_data"
    },
    {
     "data": {
      "application/javascript": [
       "(function(root) {\n",
       "  function embed_document(root) {\n",
       "  const docs_json = {\"b617b0df-62e0-4445-8169-7de00c3bc9a1\":{\"defs\":[],\"roots\":{\"references\":[{\"attributes\":{\"below\":[{\"id\":\"477590\"}],\"center\":[{\"id\":\"477593\"},{\"id\":\"477597\"},{\"id\":\"477628\"}],\"left\":[{\"id\":\"477594\"}],\"renderers\":[{\"id\":\"477616\"},{\"id\":\"477634\"}],\"title\":{\"id\":\"477580\"},\"toolbar\":{\"id\":\"477605\"},\"x_range\":{\"id\":\"477582\"},\"x_scale\":{\"id\":\"477586\"},\"y_range\":{\"id\":\"477584\"},\"y_scale\":{\"id\":\"477588\"}},\"id\":\"477579\",\"subtype\":\"Figure\",\"type\":\"Plot\"},{\"attributes\":{\"label\":{\"value\":\"fitness\"},\"renderers\":[{\"id\":\"477616\"}]},\"id\":\"477629\",\"type\":\"LegendItem\"},{\"attributes\":{},\"id\":\"477603\",\"type\":\"HelpTool\"},{\"attributes\":{\"coordinates\":null,\"data_source\":{\"id\":\"477612\"},\"glyph\":{\"id\":\"477613\"},\"group\":null,\"hover_glyph\":null,\"muted_glyph\":{\"id\":\"477615\"},\"nonselection_glyph\":{\"id\":\"477614\"},\"view\":{\"id\":\"477617\"}},\"id\":\"477616\",\"type\":\"GlyphRenderer\"},{\"attributes\":{\"bottom_units\":\"screen\",\"coordinates\":null,\"fill_alpha\":0.5,\"fill_color\":\"lightgrey\",\"group\":null,\"left_units\":\"screen\",\"level\":\"overlay\",\"line_alpha\":1.0,\"line_color\":\"black\",\"line_dash\":[4,4],\"line_width\":2,\"right_units\":\"screen\",\"syncable\":false,\"top_units\":\"screen\"},\"id\":\"477604\",\"type\":\"BoxAnnotation\"},{\"attributes\":{},\"id\":\"477582\",\"type\":\"DataRange1d\"},{\"attributes\":{\"coordinates\":null,\"group\":null,\"items\":[{\"id\":\"477629\"}]},\"id\":\"477628\",\"type\":\"Legend\"},{\"attributes\":{},\"id\":\"477625\",\"type\":\"UnionRenderers\"},{\"attributes\":{\"axis_label\":\"fitness\",\"coordinates\":null,\"formatter\":{\"id\":\"477620\"},\"group\":null,\"major_label_policy\":{\"id\":\"477621\"},\"ticker\":{\"id\":\"477595\"}},\"id\":\"477594\",\"type\":\"LinearAxis\"},{\"attributes\":{},\"id\":\"477599\",\"type\":\"WheelZoomTool\"},{\"attributes\":{\"axis\":{\"id\":\"477590\"},\"coordinates\":null,\"group\":null,\"ticker\":null},\"id\":\"477593\",\"type\":\"Grid\"},{\"attributes\":{},\"id\":\"477595\",\"type\":\"BasicTicker\"},{\"attributes\":{},\"id\":\"477626\",\"type\":\"Selection\"},{\"attributes\":{},\"id\":\"477591\",\"type\":\"BasicTicker\"},{\"attributes\":{},\"id\":\"478270\",\"type\":\"UnionRenderers\"},{\"attributes\":{},\"id\":\"477601\",\"type\":\"SaveTool\"},{\"attributes\":{\"overlay\":{\"id\":\"477604\"}},\"id\":\"477600\",\"type\":\"BoxZoomTool\"},{\"attributes\":{\"coordinates\":null,\"group\":null,\"text\":\"\\u9069\\u5fdc\\u5ea6\\u306e\\u6642\\u9593\\u5909\\u5316\"},\"id\":\"477580\",\"type\":\"Title\"},{\"attributes\":{},\"id\":\"477598\",\"type\":\"PanTool\"},{\"attributes\":{\"line_alpha\":0.2,\"line_color\":\"#1f77b4\",\"line_dash\":[6],\"x\":{\"field\":\"x\"},\"y\":{\"field\":\"y\"}},\"id\":\"477633\",\"type\":\"Line\"},{\"attributes\":{\"data\":{\"x\":[426,426],\"y\":[0,132.0]},\"selected\":{\"id\":\"478271\"},\"selection_policy\":{\"id\":\"478270\"}},\"id\":\"477630\",\"type\":\"ColumnDataSource\"},{\"attributes\":{\"line_color\":\"#1f77b4\",\"line_dash\":[6],\"x\":{\"field\":\"x\"},\"y\":{\"field\":\"y\"}},\"id\":\"477631\",\"type\":\"Line\"},{\"attributes\":{\"source\":{\"id\":\"477630\"}},\"id\":\"477635\",\"type\":\"CDSView\"},{\"attributes\":{},\"id\":\"477584\",\"type\":\"DataRange1d\"},{\"attributes\":{\"line_alpha\":0.1,\"line_color\":\"#1f77b4\",\"line_dash\":[6],\"x\":{\"field\":\"x\"},\"y\":{\"field\":\"y\"}},\"id\":\"477632\",\"type\":\"Line\"},{\"attributes\":{},\"id\":\"478271\",\"type\":\"Selection\"},{\"attributes\":{},\"id\":\"477602\",\"type\":\"ResetTool\"},{\"attributes\":{},\"id\":\"477623\",\"type\":\"BasicTickFormatter\"},{\"attributes\":{},\"id\":\"477624\",\"type\":\"AllLabels\"},{\"attributes\":{\"data\":{\"x\":[0,1,2,3,4,5,6,7,8,9,10,11,12,13,14,15,16,17,18,19,20,21,22,23,24,25,26,27,28,29,30,31,32,33,34,35,36,37,38,39,40,41,42,43,44,45,46,47,48,49,50,51,52,53,54,55,56,57,58,59,60,61,62,63,64,65,66,67,68,69,70,71,72,73,74,75,76,77,78,79,80,81,82,83,84,85,86,87,88,89,90,91,92,93,94,95,96,97,98,99,100,101,102,103,104,105,106,107,108,109,110,111,112,113,114,115,116,117,118,119,120,121,122,123,124,125,126,127,128,129,130,131,132,133,134,135,136,137,138,139,140,141,142,143,144,145,146,147,148,149,150,151,152,153,154,155,156,157,158,159,160,161,162,163,164,165,166,167,168,169,170,171,172,173,174,175,176,177,178,179,180,181,182,183,184,185,186,187,188,189,190,191,192,193,194,195,196,197,198,199,200,201,202,203,204,205,206,207,208,209,210,211,212,213,214,215,216,217,218,219,220,221,222,223,224,225,226,227,228,229,230,231,232,233,234,235,236,237,238,239,240,241,242,243,244,245,246,247,248,249,250,251,252,253,254,255,256,257,258,259,260,261,262,263,264,265,266,267,268,269,270,271,272,273,274,275,276,277,278,279,280,281,282,283,284,285,286,287,288,289,290,291,292,293,294,295,296,297,298,299,300,301,302,303,304,305,306,307,308,309,310,311,312,313,314,315,316,317,318,319,320,321,322,323,324,325,326,327,328,329,330,331,332,333,334,335,336,337,338,339,340,341,342,343,344,345,346,347,348,349,350,351,352,353,354,355,356,357,358,359,360,361,362,363,364,365,366,367,368,369,370,371,372,373,374,375,376,377,378,379,380,381,382,383,384,385,386,387,388,389,390,391,392,393,394,395,396,397,398,399,400,401,402,403,404,405,406,407,408,409,410,411,412,413,414,415,416,417,418,419,420,421,422,423,424,425,426,427,428,429,430,431,432,433,434,435,436,437,438,439,440,441,442,443,444,445,446,447,448,449,450,451,452,453,454,455,456,457,458,459,460,461,462,463,464,465,466,467,468,469,470,471,472,473,474,475,476,477,478,479,480,481,482,483,484,485,486,487,488,489,490,491,492,493,494,495,496,497,498,499,500,501,502,503,504,505,506,507,508,509,510,511,512,513,514,515,516,517,518,519,520,521,522,523,524,525,526,527,528,529,530,531,532,533,534,535,536,537,538,539,540,541,542,543,544,545,546,547,548,549,550,551,552,553,554,555,556,557,558,559,560,561,562,563,564,565,566,567,568,569,570,571,572,573,574,575,576,577,578,579,580,581,582,583,584,585,586,587,588,589,590,591,592,593,594,595,596,597,598,599,600,601,602,603,604,605,606,607,608,609,610,611,612,613,614,615,616,617,618,619,620,621,622,623,624,625,626,627,628,629,630,631,632,633,634,635,636,637,638,639,640,641,642,643,644,645,646,647,648,649,650,651,652,653,654,655,656,657,658,659,660,661,662,663,664,665,666,667,668,669,670,671,672,673,674,675,676,677,678,679,680,681,682,683,684,685,686,687,688,689,690,691,692,693,694,695,696,697,698,699,700,701,702,703,704,705,706,707,708,709,710,711,712,713,714,715,716,717,718,719,720,721,722,723,724,725,726,727,728,729,730,731,732,733,734,735,736,737,738,739,740,741,742,743,744,745,746,747,748,749,750,751,752,753,754,755,756,757,758,759,760,761,762,763,764,765,766,767,768,769,770,771,772,773,774,775,776,777,778,779,780,781,782,783,784,785,786,787,788,789,790,791,792,793,794,795,796,797,798,799,800,801,802,803,804,805,806,807,808,809,810,811,812,813,814,815,816,817,818,819,820,821,822,823,824,825,826,827,828,829,830,831,832,833,834,835,836,837,838,839,840,841,842,843,844,845,846,847,848,849,850,851,852,853,854,855,856,857,858,859,860,861,862,863,864,865,866,867,868,869,870,871,872,873,874,875,876,877,878,879,880,881,882,883,884,885,886,887,888,889,890,891,892,893,894,895,896,897,898,899,900,901,902,903,904,905,906,907,908,909,910,911,912,913,914,915,916,917,918,919,920,921,922,923,924,925,926,927,928,929,930,931,932,933,934,935,936,937,938,939,940,941,942,943,944,945,946,947,948,949,950,951,952,953,954,955,956,957,958,959,960,961,962,963,964,965,966,967,968,969,970,971,972,973,974,975,976,977,978,979,980,981,982,983,984,985,986,987,988,989,990,991,992,993,994,995,996,997,998,999,1000],\"y\":[0,0,0,0,0,0,0,0,0,0,0,0,0,0,0,0,0,0,0,0,0,0,0,0,0,1,2,3,3,3,3,3,3,3,3,3,3,3,3,3,3,3,3,3,3,3,3,3,3,3,3,3,4,5,6,7,8,8,8,8,8,8,8,8,8,8,8,8,8,8,8,8,8,8,8,8,8,8,8,8,9,10,11,12,12,12,12,12,12,12,12,12,12,12,12,12,12,12,12,12,12,12,12,12,12,12,12,12,13,14,15,16,17,18,18,18,18,18,18,18,18,18,18,18,18,18,18,18,18,18,18,18,18,18,18,18,19,20,21,22,23,24,24,24,24,24,24,24,24,24,24,24,24,24,24,24,24,24,24,24,24,24,24,24,25,26,27,28,29,30,31,32,32,32,32,32,32,32,32,32,32,32,32,32,32,32,32,32,32,32,32,32,32,32,33,34,35,36,37,38,39,39,39,39,39,39,39,39,39,39,39,39,39,39,39,39,39,39,39,39,39,39,39,40,41,42,43,44,45,46,47,48,49,49,49,49,49,49,49,49,49,49,49,49,49,49,49,49,49,49,49,49,49,49,49,50,51,52,53,54,55,56,57,57,57,57,57,57,57,57,57,57,57,57,57,57,57,57,57,57,57,57,57,57,58,59,60,61,62,63,64,65,66,67,68,69,70,70,70,70,70,70,70,70,70,70,70,70,70,70,70,70,70,70,70,70,70,70,71,72,73,74,75,76,77,78,79,80,81,82,82,82,82,82,82,82,82,82,82,82,82,82,82,82,82,82,82,82,82,82,82,83,84,85,86,87,88,89,90,91,92,93,94,95,96,97,98,99,100,101,101,101,101,101,101,101,101,101,101,101,101,101,101,101,101,101,101,101,101,102,103,104,105,106,107,108,109,110,111,112,113,114,115,115,115,115,115,115,115,115,115,115,115,115,115,115,115,115,115,115,115,116,117,118,119,120,121.0,122.0,123.0,124.0,125.0,126.0,127.0,128.0,129.0,129.5,130.0,130.5,131.0,131.5,132.0,132.0,132.0,132.0,132.0,132.0,132.0,132.0,132.0,132.0,132.0,132.0,132.0,132.0,132.0,132.0,132.0,132.0,132.0,132.0,132.0,132.0,132.0,132.0,132.0,132.0,132.0,132.0,132.0,132.0,132.0,132.0,132.0,132.0,132.0,132.0,132.0,132.0,132.0,132.0,132.0,132.0,132.0,132.0,132.0,132.0,132.0,132.0,132.0,132.0,132.0,132.0,132.0,132.0,132.0,132.0,132.0,132.0,132.0,132.0,132.0,132.0,132.0,132.0,132.0,132.0,132.0,132.0,132.0,132.0,132.0,132.0,132.0,132.0,132.0,132.0,132.0,132.0,132.0,132.0,132.0,132.0,132.0,132.0,132.0,132.0,132.0,132.0,132.0,132.0,132.0,132.0,132.0,132.0,132.0,132.0,132.0,132.0,132.0,132.0,132.0,132.0,132.0,132.0,132.0,132.0,132.0,132.0,132.0,132.0,132.0,132.0,132.0,132.0,132.0,132.0,132.0,132.0,132.0,132.0,132.0,132.0,132.0,132.0,132.0,132.0,132.0,132.0,132.0,132.0,132.0,132.0,132.0,132.0,132.0,132.0,132.0,132.0,132.0,132.0,132.0,132.0,132.0,132.0,132.0,132.0,132.0,132.0,132.0,132.0,132.0,132.0,132.0,132.0,132.0,132.0,132.0,132.0,132.0,132.0,132.0,132.0,132.0,132.0,132.0,132.0,132.0,132.0,132.0,132.0,132.0,132.0,132.0,132.0,132.0,132.0,132.0,132.0,132.0,132.0,132.0,132.0,132.0,132.0,132.0,132.0,132.0,132.0,132.0,132.0,132.0,132.0,132.0,132.0,132.0,132.0,132.0,132.0,132.0,132.0,132.0,132.0,132.0,132.0,132.0,132.0,132.0,132.0,132.0,132.0,132.0,132.0,132.0,132.0,132.0,132.0,132.0,132.0,132.0,132.0,132.0,132.0,132.0,132.0,132.0,132.0,132.0,132.0,132.0,132.0,132.0,132.0,132.0,132.0,132.0,132.0,132.0,132.0,132.0,132.0,132.0,132.0,132.0,132.0,132.0,132.0,132.0,132.0,132.0,132.0,132.0,132.0,132.0,132.0,132.0,132.0,132.0,132.0,132.0,132.0,132.0,132.0,132.0,132.0,132.0,132.0,132.0,132.0,132.0,132.0,132.0,132.0,132.0,132.0,132.0,132.0,132.0,132.0,132.0,132.0,132.0,132.0,132.0,132.0,132.0,132.0,132.0,132.0,132.0,132.0,132.0,132.0,132.0,132.0,132.0,132.0,132.0,132.0,132.0,132.0,132.0,132.0,132.0,132.0,132.0,132.0,132.0,132.0,132.0,132.0,132.0,132.0,132.0,132.0,132.0,132.0,132.0,132.0,132.0,132.0,132.0,132.0,132.0,132.0,132.0,132.0,132.0,132.0,132.0,132.0,132.0,132.0,132.0,132.0,132.0,132.0,132.0,132.0,132.0,132.0,132.0,132.0,132.0,132.0,132.0,132.0,132.0,132.0,132.0,132.0,132.0,132.0,132.0,132.0,132.0,132.0,132.0,132.0,132.0,132.0,132.0,132.0,132.0,132.0,132.0,132.0,132.0,132.0,132.0,132.0,132.0,132.0,132.0,132.0,132.0,132.0,132.0,132.0,132.0,132.0,132.0,132.0,132.0,132.0,132.0,132.0,132.0,132.0,132.0,132.0,132.0,132.0,132.0,132.0,132.0,132.0,132.0,132.0,132.0,132.0,132.0,132.0,132.0,132.0,132.0,132.0,132.0,132.0,132.0,132.0,132.0,132.0,132.0,132.0,132.0,132.0,132.0,132.0,132.0,132.0,132.0,132.0,132.0,132.0,132.0,132.0,132.0,132.0,132.0,132.0,132.0,132.0,132.0,132.0,132.0,132.0,132.0,132.0,132.0,132.0,132.0,132.0,132.0,132.0,132.0,132.0,132.0,132.0,132.0,132.0,132.0,132.0,132.0,132.0,132.0,132.0,132.0,132.0,132.0,132.0,132.0,132.0,132.0,132.0,132.0,132.0,132.0,132.0,132.0,132.0,132.0,132.0,132.0,132.0,132.0,132.0,132.0,132.0,132.0,132.0,132.0,132.0,132.0,132.0,132.0,132.0,132.0,132.0,132.0,132.0,132.0,132.0,132.0,132.0,132.0,132.0,132.0,132.0,132.0,132.0,132.0,132.0,132.0,132.0,132.0,132.0,132.0,132.0,132.0,132.0,132.0,132.0,132.0,132.0,132.0,132.0,132.0,132.0,132.0,132.0,132.0,132.0,132.0,132.0,132.0,132.0,132.0,132.0,132.0,132.0,132.0,132.0,132.0,132.0,132.0,132.0,132.0,132.0,132.0,132.0,132.0,132.0,132.0,132.0,132.0,132.0,132.0,132.0,132.0,132.0,132.0,132.0,132.0,132.0,132.0,132.0,132.0,132.0,132.0,132.0,132.0]},\"selected\":{\"id\":\"477626\"},\"selection_policy\":{\"id\":\"477625\"}},\"id\":\"477612\",\"type\":\"ColumnDataSource\"},{\"attributes\":{\"line_color\":\"#1f77b4\",\"x\":{\"field\":\"x\"},\"y\":{\"field\":\"y\"}},\"id\":\"477613\",\"type\":\"Line\"},{\"attributes\":{\"coordinates\":null,\"data_source\":{\"id\":\"477630\"},\"glyph\":{\"id\":\"477631\"},\"group\":null,\"hover_glyph\":null,\"muted_glyph\":{\"id\":\"477633\"},\"nonselection_glyph\":{\"id\":\"477632\"},\"view\":{\"id\":\"477635\"}},\"id\":\"477634\",\"type\":\"GlyphRenderer\"},{\"attributes\":{\"axis\":{\"id\":\"477594\"},\"coordinates\":null,\"dimension\":1,\"group\":null,\"ticker\":null},\"id\":\"477597\",\"type\":\"Grid\"},{\"attributes\":{},\"id\":\"477620\",\"type\":\"BasicTickFormatter\"},{\"attributes\":{},\"id\":\"477586\",\"type\":\"LinearScale\"},{\"attributes\":{\"tools\":[{\"id\":\"477598\"},{\"id\":\"477599\"},{\"id\":\"477600\"},{\"id\":\"477601\"},{\"id\":\"477602\"},{\"id\":\"477603\"}]},\"id\":\"477605\",\"type\":\"Toolbar\"},{\"attributes\":{},\"id\":\"477621\",\"type\":\"AllLabels\"},{\"attributes\":{\"source\":{\"id\":\"477612\"}},\"id\":\"477617\",\"type\":\"CDSView\"},{\"attributes\":{\"axis_label\":\"step\",\"coordinates\":null,\"formatter\":{\"id\":\"477623\"},\"group\":null,\"major_label_policy\":{\"id\":\"477624\"},\"ticker\":{\"id\":\"477591\"}},\"id\":\"477590\",\"type\":\"LinearAxis\"},{\"attributes\":{\"line_alpha\":0.2,\"line_color\":\"#1f77b4\",\"x\":{\"field\":\"x\"},\"y\":{\"field\":\"y\"}},\"id\":\"477615\",\"type\":\"Line\"},{\"attributes\":{},\"id\":\"477588\",\"type\":\"LinearScale\"},{\"attributes\":{\"line_alpha\":0.1,\"line_color\":\"#1f77b4\",\"x\":{\"field\":\"x\"},\"y\":{\"field\":\"y\"}},\"id\":\"477614\",\"type\":\"Line\"}],\"root_ids\":[\"477579\"]},\"title\":\"Bokeh Application\",\"version\":\"2.4.3\"}};\n",
       "  const render_items = [{\"docid\":\"b617b0df-62e0-4445-8169-7de00c3bc9a1\",\"root_ids\":[\"477579\"],\"roots\":{\"477579\":\"58e9fd95-92c3-4a58-a2ca-283b95fa21c4\"}}];\n",
       "  root.Bokeh.embed.embed_items_notebook(docs_json, render_items);\n",
       "  }\n",
       "  if (root.Bokeh !== undefined) {\n",
       "    embed_document(root);\n",
       "  } else {\n",
       "    let attempts = 0;\n",
       "    const timer = setInterval(function(root) {\n",
       "      if (root.Bokeh !== undefined) {\n",
       "        clearInterval(timer);\n",
       "        embed_document(root);\n",
       "      } else {\n",
       "        attempts++;\n",
       "        if (attempts > 100) {\n",
       "          clearInterval(timer);\n",
       "          console.log(\"Bokeh: ERROR: Unable to run BokehJS code because BokehJS library is missing\");\n",
       "        }\n",
       "      }\n",
       "    }, 10, root)\n",
       "  }\n",
       "})(window);"
      ],
      "application/vnd.bokehjs_exec.v0+json": ""
     },
     "metadata": {
      "application/vnd.bokehjs_exec.v0+json": {
       "id": "477579"
      }
     },
     "output_type": "display_data"
    }
   ],
   "source": [
    "from bokeh.io import show\n",
    "from bokeh.models import ColumnDataSource\n",
    "from bokeh.plotting import figure\n",
    "import math\n",
    "\n",
    "key = \"double\"\n",
    "with summary.trial(*results[0]) as trial:\n",
    "    task = trial.observe(*trial.best()).task(0)\n",
    "    print(trial.observe(*trial.best()).other()[\"fitness\"])\n",
    "\n",
    "fs = [f for f in gen_fits(task)]\n",
    "print(fs[-1])\n",
    "s = [t[key] for t in task].index(True)\n",
    "\n",
    "p = figure(title=\"適応度の時間変化\", x_axis_label=\"step\", y_axis_label=\"fitness\")\n",
    "p.line(range(len(fs)), fs, legend_label=\"fitness\")\n",
    "p.line([s, s], [min(fs), max(fs)], line_dash=\"dashed\")\n",
    "show(p)"
   ]
  },
  {
   "cell_type": "code",
   "execution_count": 70,
   "id": "cbd53996",
   "metadata": {},
   "outputs": [],
   "source": [
    "fs = []\n",
    "fr = []\n",
    "for i in range(25):\n",
    "    with summary.trial(\"config_static-broken_cartpole\", \"2022-11-04 06_45_07.575074\", i) as trial:\n",
    "        df = trial.table()\n",
    "        idx = df.idxmax()\n",
    "        kv = [kv for kv in idx.items()]\n",
    "        values = [df[k][v] for k, v in idx.items()]\n",
    "        k, v = kv[values.index(max(values))]\n",
    "        f = df[k][v]\n",
    "\n",
    "        task = trial.observe(int(k.replace(\"observe\", \"\")), int(v.replace(\"genome\", \"\"))).task(0)\n",
    "        fs.append(f)\n",
    "        fr.append(fitness_rate(task))"
   ]
  },
  {
   "cell_type": "code",
   "execution_count": 72,
   "id": "b8d97418",
   "metadata": {},
   "outputs": [
    {
     "data": {
      "text/html": [
       "\n",
       "  <div class=\"bk-root\" id=\"15906d73-c3a5-4095-8344-3b3c3362900d\" data-root-id=\"6396\"></div>\n"
      ]
     },
     "metadata": {},
     "output_type": "display_data"
    },
    {
     "data": {
      "application/javascript": [
       "(function(root) {\n",
       "  function embed_document(root) {\n",
       "  const docs_json = {\"20918a91-3737-4485-89f5-e299a7bc0dda\":{\"defs\":[],\"roots\":{\"references\":[{\"attributes\":{\"below\":[{\"id\":\"6405\"}],\"center\":[{\"id\":\"6408\"},{\"id\":\"6412\"}],\"left\":[{\"id\":\"6409\"}],\"renderers\":[{\"id\":\"6431\"}],\"title\":{\"id\":\"6627\"},\"toolbar\":{\"id\":\"6420\"},\"x_range\":{\"id\":\"6397\"},\"x_scale\":{\"id\":\"6401\"},\"y_range\":{\"id\":\"6399\"},\"y_scale\":{\"id\":\"6403\"}},\"id\":\"6396\",\"subtype\":\"Figure\",\"type\":\"Plot\"},{\"attributes\":{},\"id\":\"6406\",\"type\":\"BasicTicker\"},{\"attributes\":{\"fill_alpha\":{\"value\":0.1},\"fill_color\":{\"value\":\"#1f77b4\"},\"hatch_alpha\":{\"value\":0.1},\"line_alpha\":{\"value\":0.1},\"line_color\":{\"value\":\"#1f77b4\"},\"x\":{\"field\":\"x\"},\"y\":{\"field\":\"y\"}},\"id\":\"6429\",\"type\":\"Scatter\"},{\"attributes\":{\"fill_color\":{\"value\":\"#1f77b4\"},\"line_color\":{\"value\":\"#1f77b4\"},\"x\":{\"field\":\"x\"},\"y\":{\"field\":\"y\"}},\"id\":\"6428\",\"type\":\"Scatter\"},{\"attributes\":{},\"id\":\"6399\",\"type\":\"DataRange1d\"},{\"attributes\":{\"axis_label\":\"\\u9069\\u5fdc\\u5ea6\",\"coordinates\":null,\"formatter\":{\"id\":\"6633\"},\"group\":null,\"major_label_policy\":{\"id\":\"6634\"},\"ticker\":{\"id\":\"6406\"}},\"id\":\"6405\",\"type\":\"LinearAxis\"},{\"attributes\":{},\"id\":\"6631\",\"type\":\"AllLabels\"},{\"attributes\":{},\"id\":\"6410\",\"type\":\"BasicTicker\"},{\"attributes\":{},\"id\":\"6636\",\"type\":\"Selection\"},{\"attributes\":{},\"id\":\"6418\",\"type\":\"HelpTool\"},{\"attributes\":{},\"id\":\"6634\",\"type\":\"AllLabels\"},{\"attributes\":{},\"id\":\"6416\",\"type\":\"SaveTool\"},{\"attributes\":{\"bottom_units\":\"screen\",\"coordinates\":null,\"fill_alpha\":0.5,\"fill_color\":\"lightgrey\",\"group\":null,\"left_units\":\"screen\",\"level\":\"overlay\",\"line_alpha\":1.0,\"line_color\":\"black\",\"line_dash\":[4,4],\"line_width\":2,\"right_units\":\"screen\",\"syncable\":false,\"top_units\":\"screen\"},\"id\":\"6419\",\"type\":\"BoxAnnotation\"},{\"attributes\":{},\"id\":\"6397\",\"type\":\"DataRange1d\"},{\"attributes\":{},\"id\":\"6635\",\"type\":\"UnionRenderers\"},{\"attributes\":{\"coordinates\":null,\"group\":null},\"id\":\"6627\",\"type\":\"Title\"},{\"attributes\":{\"source\":{\"id\":\"6427\"}},\"id\":\"6432\",\"type\":\"CDSView\"},{\"attributes\":{},\"id\":\"6630\",\"type\":\"BasicTickFormatter\"},{\"attributes\":{\"axis\":{\"id\":\"6405\"},\"coordinates\":null,\"group\":null,\"ticker\":null},\"id\":\"6408\",\"type\":\"Grid\"},{\"attributes\":{},\"id\":\"6414\",\"type\":\"WheelZoomTool\"},{\"attributes\":{\"axis_label\":\"\\u5f8c\\u534a\\u306e\\u9069\\u5fdc\\u5ea6/\\u524d\\u534a\\u306e\\u9069\\u5fdc\\u5ea6\",\"coordinates\":null,\"formatter\":{\"id\":\"6630\"},\"group\":null,\"major_label_policy\":{\"id\":\"6631\"},\"ticker\":{\"id\":\"6410\"}},\"id\":\"6409\",\"type\":\"LinearAxis\"},{\"attributes\":{},\"id\":\"6403\",\"type\":\"LinearScale\"},{\"attributes\":{},\"id\":\"6633\",\"type\":\"BasicTickFormatter\"},{\"attributes\":{\"axis\":{\"id\":\"6409\"},\"coordinates\":null,\"dimension\":1,\"group\":null,\"ticker\":null},\"id\":\"6412\",\"type\":\"Grid\"},{\"attributes\":{\"coordinates\":null,\"data_source\":{\"id\":\"6427\"},\"glyph\":{\"id\":\"6428\"},\"group\":null,\"hover_glyph\":null,\"muted_glyph\":{\"id\":\"6430\"},\"nonselection_glyph\":{\"id\":\"6429\"},\"view\":{\"id\":\"6432\"}},\"id\":\"6431\",\"type\":\"GlyphRenderer\"},{\"attributes\":{\"tools\":[{\"id\":\"6413\"},{\"id\":\"6414\"},{\"id\":\"6415\"},{\"id\":\"6416\"},{\"id\":\"6417\"},{\"id\":\"6418\"}]},\"id\":\"6420\",\"type\":\"Toolbar\"},{\"attributes\":{\"fill_alpha\":{\"value\":0.2},\"fill_color\":{\"value\":\"#1f77b4\"},\"hatch_alpha\":{\"value\":0.2},\"line_alpha\":{\"value\":0.2},\"line_color\":{\"value\":\"#1f77b4\"},\"x\":{\"field\":\"x\"},\"y\":{\"field\":\"y\"}},\"id\":\"6430\",\"type\":\"Scatter\"},{\"attributes\":{},\"id\":\"6413\",\"type\":\"PanTool\"},{\"attributes\":{\"overlay\":{\"id\":\"6419\"}},\"id\":\"6415\",\"type\":\"BoxZoomTool\"},{\"attributes\":{},\"id\":\"6401\",\"type\":\"LinearScale\"},{\"attributes\":{},\"id\":\"6417\",\"type\":\"ResetTool\"},{\"attributes\":{\"data\":{\"x\":[250.4396363034704,240.67621517895896,252.17272599743828,9.0,236.95572533394608,200.0,441.30921903554645,222.81706649813515,0,230.0,229.48818167472083,293.0,238.95341145316308,242.21885590908994,330.90541232673104,273.7825837625603,247.81912798834855,230.43532052839785,192.41877563260485,248.35347364325452,238.59880873584845,223.67631288632344,238.0,231.73594199469136,252.4643977229247],\"y\":[0.004235479693524971,0.007966295023780011,0.020355729092706193,0.0,0.014570925520047897,0.0036231884057971015,0.18357494751787534,0.01507190854382076,0.0,0.0,0.02345770726038419,0.0,0.008297171613338527,0.01036475984848319,0.03510654731345815,0.015300668575888963,0.018557680940563558,0.0142248238252915,0.004926223284327596,0.02976582100043643,0.004527541351652366,0.004505577249702771,0.0,0.019658194295965496,0.01842323542768424]},\"selected\":{\"id\":\"6636\"},\"selection_policy\":{\"id\":\"6635\"}},\"id\":\"6427\",\"type\":\"ColumnDataSource\"}],\"root_ids\":[\"6396\"]},\"title\":\"Bokeh Application\",\"version\":\"2.4.3\"}};\n",
       "  const render_items = [{\"docid\":\"20918a91-3737-4485-89f5-e299a7bc0dda\",\"root_ids\":[\"6396\"],\"roots\":{\"6396\":\"15906d73-c3a5-4095-8344-3b3c3362900d\"}}];\n",
       "  root.Bokeh.embed.embed_items_notebook(docs_json, render_items);\n",
       "  }\n",
       "  if (root.Bokeh !== undefined) {\n",
       "    embed_document(root);\n",
       "  } else {\n",
       "    let attempts = 0;\n",
       "    const timer = setInterval(function(root) {\n",
       "      if (root.Bokeh !== undefined) {\n",
       "        clearInterval(timer);\n",
       "        embed_document(root);\n",
       "      } else {\n",
       "        attempts++;\n",
       "        if (attempts > 100) {\n",
       "          clearInterval(timer);\n",
       "          console.log(\"Bokeh: ERROR: Unable to run BokehJS code because BokehJS library is missing\");\n",
       "        }\n",
       "      }\n",
       "    }, 10, root)\n",
       "  }\n",
       "})(window);"
      ],
      "application/vnd.bokehjs_exec.v0+json": ""
     },
     "metadata": {
      "application/vnd.bokehjs_exec.v0+json": {
       "id": "6396"
      }
     },
     "output_type": "display_data"
    }
   ],
   "source": [
    "p = figure(x_axis_label=\"適応度\", y_axis_label=\"後半の適応度/前半の適応度\")\n",
    "p.scatter(x=fs, y=fr)\n",
    "show(p)"
   ]
  },
  {
   "cell_type": "code",
   "execution_count": 59,
   "id": "1fa50821",
   "metadata": {},
   "outputs": [
    {
     "data": {
      "text/html": [
       "\n",
       "  <div class=\"bk-root\" id=\"b7f8fd37-80fe-4be4-b7b8-75f4b20843b1\" data-root-id=\"463819\"></div>\n"
      ]
     },
     "metadata": {},
     "output_type": "display_data"
    },
    {
     "data": {
      "application/javascript": [
       "(function(root) {\n",
       "  function embed_document(root) {\n",
       "  const docs_json = {\"908faf8e-b4b9-4140-bf48-90c078d4680c\":{\"defs\":[],\"roots\":{\"references\":[{\"attributes\":{\"below\":[{\"id\":\"463830\"}],\"center\":[{\"id\":\"463833\"},{\"id\":\"463837\"},{\"id\":\"463868\"}],\"height\":400,\"left\":[{\"id\":\"463834\"}],\"renderers\":[{\"id\":\"463856\"},{\"id\":\"463874\"},{\"id\":\"463893\"}],\"title\":{\"id\":\"463820\"},\"toolbar\":{\"id\":\"463845\"},\"width\":500,\"x_range\":{\"id\":\"463822\"},\"x_scale\":{\"id\":\"463826\"},\"y_range\":{\"id\":\"463824\"},\"y_scale\":{\"id\":\"463828\"}},\"id\":\"463819\",\"subtype\":\"Figure\",\"type\":\"Plot\"},{\"attributes\":{\"tools\":[{\"id\":\"463838\"},{\"id\":\"463839\"},{\"id\":\"463840\"},{\"id\":\"463841\"},{\"id\":\"463842\"},{\"id\":\"463843\"}]},\"id\":\"463845\",\"type\":\"Toolbar\"},{\"attributes\":{},\"id\":\"463824\",\"type\":\"DataRange1d\"},{\"attributes\":{\"line_alpha\":0.2,\"line_color\":\"#1f77b4\",\"x\":{\"field\":\"x\"},\"y\":{\"field\":\"y\"}},\"id\":\"463855\",\"type\":\"Line\"},{\"attributes\":{},\"id\":\"463838\",\"type\":\"PanTool\"},{\"attributes\":{},\"id\":\"463831\",\"type\":\"BasicTicker\"},{\"attributes\":{\"line_alpha\":0.1,\"line_color\":\"#1f77b4\",\"x\":{\"field\":\"x\"},\"y\":{\"field\":\"y\"}},\"id\":\"463854\",\"type\":\"Line\"},{\"attributes\":{},\"id\":\"463865\",\"type\":\"UnionRenderers\"},{\"attributes\":{\"label\":{\"value\":\"synapse\"},\"renderers\":[{\"id\":\"463856\"}]},\"id\":\"463869\",\"type\":\"LegendItem\"},{\"attributes\":{},\"id\":\"463826\",\"type\":\"LinearScale\"},{\"attributes\":{},\"id\":\"463822\",\"type\":\"DataRange1d\"},{\"attributes\":{},\"id\":\"464268\",\"type\":\"Selection\"},{\"attributes\":{},\"id\":\"463828\",\"type\":\"LinearScale\"},{\"attributes\":{},\"id\":\"463866\",\"type\":\"Selection\"},{\"attributes\":{\"coordinates\":null,\"group\":null,\"text\":\"neurocomponents\"},\"id\":\"463820\",\"type\":\"Title\"},{\"attributes\":{\"line_alpha\":0.2,\"line_color\":\"#ff7f0e\",\"x\":{\"field\":\"x\"},\"y\":{\"field\":\"y\"}},\"id\":\"463873\",\"type\":\"Line\"},{\"attributes\":{\"axis_label\":\"fitness\",\"coordinates\":null,\"formatter\":{\"id\":\"463860\"},\"group\":null,\"major_label_policy\":{\"id\":\"463861\"},\"ticker\":{\"id\":\"463835\"}},\"id\":\"463834\",\"type\":\"LinearAxis\"},{\"attributes\":{\"line_color\":\"#ff7f0e\",\"x\":{\"field\":\"x\"},\"y\":{\"field\":\"y\"}},\"id\":\"463871\",\"type\":\"Line\"},{\"attributes\":{\"source\":{\"id\":\"463852\"}},\"id\":\"463857\",\"type\":\"CDSView\"},{\"attributes\":{\"data\":{\"x\":[559,559],\"y\":[5,20]},\"selected\":{\"id\":\"464268\"},\"selection_policy\":{\"id\":\"464267\"}},\"id\":\"463889\",\"type\":\"ColumnDataSource\"},{\"attributes\":{},\"id\":\"463842\",\"type\":\"ResetTool\"},{\"attributes\":{\"line_color\":\"#1f77b4\",\"line_dash\":[6],\"x\":{\"field\":\"x\"},\"y\":{\"field\":\"y\"}},\"id\":\"463890\",\"type\":\"Line\"},{\"attributes\":{},\"id\":\"464267\",\"type\":\"UnionRenderers\"},{\"attributes\":{\"coordinates\":null,\"data_source\":{\"id\":\"463870\"},\"glyph\":{\"id\":\"463871\"},\"group\":null,\"hover_glyph\":null,\"muted_glyph\":{\"id\":\"463873\"},\"nonselection_glyph\":{\"id\":\"463872\"},\"view\":{\"id\":\"463875\"}},\"id\":\"463874\",\"type\":\"GlyphRenderer\"},{\"attributes\":{},\"id\":\"463835\",\"type\":\"BasicTicker\"},{\"attributes\":{\"data\":{\"x\":[0,1,2,3,4,5,6,7,8,9,10,11,12,13,14,15,16,17,18,19,20,21,22,23,24,25,26,27,28,29,30,31,32,33,34,35,36,37,38,39,40,41,42,43,44,45,46,47,48,49,50,51,52,53,54,55,56,57,58,59,60,61,62,63,64,65,66,67,68,69,70,71,72,73,74,75,76,77,78,79,80,81,82,83,84,85,86,87,88,89,90,91,92,93,94,95,96,97,98,99,100,101,102,103,104,105,106,107,108,109,110,111,112,113,114,115,116,117,118,119,120,121,122,123,124,125,126,127,128,129,130,131,132,133,134,135,136,137,138,139,140,141,142,143,144,145,146,147,148,149,150,151,152,153,154,155,156,157,158,159,160,161,162,163,164,165,166,167,168,169,170,171,172,173,174,175,176,177,178,179,180,181,182,183,184,185,186,187,188,189,190,191,192,193,194,195,196,197,198,199,200,201,202,203,204,205,206,207,208,209,210,211,212,213,214,215,216,217,218,219,220,221,222,223,224,225,226,227,228,229,230,231,232,233,234,235,236,237,238,239,240,241,242,243,244,245,246,247,248,249,250,251,252,253,254,255,256,257,258,259,260,261,262,263,264,265,266,267,268,269,270,271,272,273,274,275,276,277,278,279,280,281,282,283,284,285,286,287,288,289,290,291,292,293,294,295,296,297,298,299,300,301,302,303,304,305,306,307,308,309,310,311,312,313,314,315,316,317,318,319,320,321,322,323,324,325,326,327,328,329,330,331,332,333,334,335,336,337,338,339,340,341,342,343,344,345,346,347,348,349,350,351,352,353,354,355,356,357,358,359,360,361,362,363,364,365,366,367,368,369,370,371,372,373,374,375,376,377,378,379,380,381,382,383,384,385,386,387,388,389,390,391,392,393,394,395,396,397,398,399,400,401,402,403,404,405,406,407,408,409,410,411,412,413,414,415,416,417,418,419,420,421,422,423,424,425,426,427,428,429,430,431,432,433,434,435,436,437,438,439,440,441,442,443,444,445,446,447,448,449,450,451,452,453,454,455,456,457,458,459,460,461,462,463,464,465,466,467,468,469,470,471,472,473,474,475,476,477,478,479,480,481,482,483,484,485,486,487,488,489,490,491,492,493,494,495,496,497,498,499,500,501,502,503,504,505,506,507,508,509,510,511,512,513,514,515,516,517,518,519,520,521,522,523,524,525,526,527,528,529,530,531,532,533,534,535,536,537,538,539,540,541,542,543,544,545,546,547,548,549,550,551,552,553,554,555,556,557,558,559,560,561,562,563,564,565,566,567,568,569,570,571,572,573,574,575,576,577,578,579,580,581,582,583,584,585,586,587,588,589,590,591,592,593,594,595,596,597,598,599,600,601,602,603,604,605,606,607,608,609,610,611,612,613,614,615,616,617,618,619,620,621,622,623,624,625,626,627,628,629,630,631,632,633,634,635,636,637,638,639,640,641,642,643,644,645,646,647,648,649,650,651,652,653,654,655,656,657,658,659,660,661,662,663,664,665,666,667,668,669,670,671,672,673,674,675,676,677,678,679,680,681,682,683,684,685,686,687,688,689,690,691,692,693,694,695,696,697,698,699,700,701,702,703,704,705,706,707,708,709,710,711,712,713,714,715,716,717,718,719,720,721,722,723,724,725,726,727,728,729,730,731,732,733,734,735,736,737,738,739,740,741,742,743,744,745,746,747,748,749,750,751,752,753,754,755,756,757,758,759,760,761,762,763,764,765,766,767,768,769,770,771,772,773,774,775,776,777,778,779,780,781,782,783,784,785,786,787,788,789,790,791,792,793,794,795,796,797,798,799,800,801,802,803,804,805,806,807,808,809,810,811,812,813,814,815,816,817,818,819,820,821,822,823,824,825,826,827,828,829,830,831,832,833,834,835,836,837,838,839,840,841,842,843,844,845,846,847,848,849,850,851,852,853,854,855,856,857,858,859,860,861,862,863,864,865,866,867,868,869,870,871,872,873,874,875,876,877,878,879,880,881,882,883,884,885,886,887,888,889,890,891,892,893,894,895,896,897,898,899,900,901,902,903,904,905,906,907,908,909,910,911,912,913,914,915,916,917,918,919,920,921,922,923,924,925,926,927,928,929,930,931,932,933,934,935,936,937,938,939,940,941,942,943,944,945,946,947,948,949,950,951,952,953,954,955,956,957,958,959,960,961,962,963,964,965,966,967,968,969,970,971,972,973,974,975,976,977,978,979,980,981,982,983,984,985,986,987,988,989,990,991,992,993,994,995,996,997,998,999,1000],\"y\":[11,11,11,11,11,11,11,11,11,11,14,14,14,14,14,14,14,14,14,14,18,18,18,18,18,18,18,18,18,18,18,18,18,18,18,18,18,18,18,18,18,18,18,18,18,18,18,18,18,18,18,18,18,18,18,18,18,18,18,18,18,18,18,18,18,18,18,18,18,18,18,18,18,18,18,18,18,18,18,18,18,18,18,18,18,18,18,18,18,18,18,18,18,18,18,18,18,18,18,18,18,18,18,18,18,18,18,18,18,18,18,18,18,18,18,18,18,18,18,18,18,18,18,18,18,18,18,18,18,18,18,18,18,18,18,18,18,18,18,18,18,18,18,18,18,18,18,18,18,18,18,18,18,18,18,18,18,18,18,18,18,18,18,18,18,18,18,18,18,18,18,18,18,18,18,18,18,18,18,18,18,18,18,18,18,18,18,18,18,18,18,18,18,18,18,18,18,18,18,18,18,18,18,18,18,18,18,18,18,18,18,18,18,18,18,18,18,18,18,18,18,18,18,18,18,18,18,18,18,18,18,18,18,18,18,18,18,18,18,18,18,18,18,18,18,18,18,18,18,18,18,18,18,18,18,18,18,18,18,18,18,18,18,18,18,18,18,18,18,18,18,18,18,18,18,18,18,18,18,18,18,18,18,18,18,18,18,18,18,18,18,18,18,18,18,18,18,18,18,18,18,18,18,18,18,18,18,18,18,18,18,18,18,18,18,18,18,18,18,18,18,18,18,18,18,18,18,18,18,18,18,18,18,18,18,18,18,18,18,18,18,18,18,18,18,18,18,18,18,18,18,18,18,18,18,18,18,18,18,18,18,18,18,18,18,18,18,18,18,18,18,18,18,18,18,18,18,18,18,18,18,18,18,18,18,18,18,18,18,18,18,18,18,18,18,18,18,18,18,18,18,18,18,18,18,18,18,18,18,18,18,18,18,18,18,18,18,18,18,18,18,18,18,18,18,18,18,18,18,18,18,18,18,18,18,18,18,18,18,18,18,18,18,18,18,18,18,18,18,18,18,18,18,18,18,18,18,18,18,18,18,18,18,18,18,18,18,18,18,18,18,18,18,18,18,18,18,18,18,18,18,18,18,18,18,18,18,18,18,18,18,18,18,18,18,18,18,18,18,18,18,18,18,18,18,18,18,18,18,18,18,18,18,18,18,18,18,18,18,18,18,18,18,18,18,18,18,18,18,18,18,18,18,18,18,18,18,18,18,18,18,18,18,18,18,18,18,18,18,18,18,18,18,18,18,18,18,18,18,18,18,18,18,18,18,18,18,18,18,18,18,18,18,18,18,18,18,18,18,18,18,18,18,18,18,18,18,18,18,18,18,18,18,18,18,18,18,18,18,18,18,18,18,18,18,18,18,18,18,18,18,18,18,18,18,18,18,18,18,18,18,18,18,18,18,18,18,18,18,18,18,18,18,18,18,18,18,18,18,18,18,18,18,18,18,18,18,18,18,18,18,18,18,18,18,18,18,18,18,18,18,18,18,18,18,18,18,18,18,18,18,18,18,18,18,18,18,18,18,18,18,18,18,18,18,18,18,18,18,18,18,18,18,18,18,18,18,18,18,18,18,18,18,18,18,18,18,18,18,18,18,18,18,18,18,18,18,18,18,18,18,18,18,18,18,18,18,18,18,18,18,18,18,18,18,18,18,18,18,18,18,18,18,18,18,18,18,18,18,18,18,18,18,18,18,18,18,18,18,18,18,18,18,18,18,18,18,18,18,18,18,18,18,18,18,18,18,18,18,18,18,18,18,18,18,18,18,18,18,18,18,18,18,18,18,18,18,18,18,18,18,18,18,18,18,18,18,18,18,18,18,18,18,18,18,18,18,18,18,18,18,18,18,18,18,18,18,18,18,18,18,18,18,18,18,18,18,18,18,18,18,18,18,18,18,18,18,18,18,18,18,18,18,18,18,18,18,18,18,18,18,18,18,18,18,18,18,18,18,18,18,18,18,18,18,18,18,18,18,18,18,18,18,18,18,18,18,18,18,18,18,18,18,18,18,18,18,18,18,18,18,18,18,18,18,18,18,18,18,18,18,18,18,18,18,18,18,18,18,18,18,18,18,18,18,18,18,18,18,18,18,18,18,18,18,18,18,18,18,18,18,18,18,18,18,18,18,18,18,18,18,18,18,18,18,18,18,18,18,18,18,18,18,18,18,18,18,18,18,18,18,18,18,18,18,18,18,18,18,18,18,18,18,18,18,18,18,18,18,18,18,18,18,18,18,18,18,18,18,18,18]},\"selected\":{\"id\":\"463886\"},\"selection_policy\":{\"id\":\"463885\"}},\"id\":\"463870\",\"type\":\"ColumnDataSource\"},{\"attributes\":{},\"id\":\"463841\",\"type\":\"SaveTool\"},{\"attributes\":{\"source\":{\"id\":\"463870\"}},\"id\":\"463875\",\"type\":\"CDSView\"},{\"attributes\":{\"bottom_units\":\"screen\",\"coordinates\":null,\"fill_alpha\":0.5,\"fill_color\":\"lightgrey\",\"group\":null,\"left_units\":\"screen\",\"level\":\"overlay\",\"line_alpha\":1.0,\"line_color\":\"black\",\"line_dash\":[4,4],\"line_width\":2,\"right_units\":\"screen\",\"syncable\":false,\"top_units\":\"screen\"},\"id\":\"463844\",\"type\":\"BoxAnnotation\"},{\"attributes\":{\"line_alpha\":0.1,\"line_color\":\"#ff7f0e\",\"x\":{\"field\":\"x\"},\"y\":{\"field\":\"y\"}},\"id\":\"463872\",\"type\":\"Line\"},{\"attributes\":{\"line_alpha\":0.2,\"line_color\":\"#1f77b4\",\"line_dash\":[6],\"x\":{\"field\":\"x\"},\"y\":{\"field\":\"y\"}},\"id\":\"463892\",\"type\":\"Line\"},{\"attributes\":{\"coordinates\":null,\"data_source\":{\"id\":\"463889\"},\"glyph\":{\"id\":\"463890\"},\"group\":null,\"hover_glyph\":null,\"muted_glyph\":{\"id\":\"463892\"},\"nonselection_glyph\":{\"id\":\"463891\"},\"view\":{\"id\":\"463894\"}},\"id\":\"463893\",\"type\":\"GlyphRenderer\"},{\"attributes\":{},\"id\":\"463839\",\"type\":\"WheelZoomTool\"},{\"attributes\":{\"axis\":{\"id\":\"463830\"},\"coordinates\":null,\"group\":null,\"ticker\":null},\"id\":\"463833\",\"type\":\"Grid\"},{\"attributes\":{\"overlay\":{\"id\":\"463844\"}},\"id\":\"463840\",\"type\":\"BoxZoomTool\"},{\"attributes\":{\"coordinates\":null,\"group\":null,\"items\":[{\"id\":\"463869\"},{\"id\":\"463888\"}]},\"id\":\"463868\",\"type\":\"Legend\"},{\"attributes\":{\"label\":{\"value\":\"neuron\"},\"renderers\":[{\"id\":\"463874\"}]},\"id\":\"463888\",\"type\":\"LegendItem\"},{\"attributes\":{},\"id\":\"463843\",\"type\":\"HelpTool\"},{\"attributes\":{},\"id\":\"463863\",\"type\":\"BasicTickFormatter\"},{\"attributes\":{},\"id\":\"463885\",\"type\":\"UnionRenderers\"},{\"attributes\":{\"data\":{\"x\":[0,1,2,3,4,5,6,7,8,9,10,11,12,13,14,15,16,17,18,19,20,21,22,23,24,25,26,27,28,29,30,31,32,33,34,35,36,37,38,39,40,41,42,43,44,45,46,47,48,49,50,51,52,53,54,55,56,57,58,59,60,61,62,63,64,65,66,67,68,69,70,71,72,73,74,75,76,77,78,79,80,81,82,83,84,85,86,87,88,89,90,91,92,93,94,95,96,97,98,99,100,101,102,103,104,105,106,107,108,109,110,111,112,113,114,115,116,117,118,119,120,121,122,123,124,125,126,127,128,129,130,131,132,133,134,135,136,137,138,139,140,141,142,143,144,145,146,147,148,149,150,151,152,153,154,155,156,157,158,159,160,161,162,163,164,165,166,167,168,169,170,171,172,173,174,175,176,177,178,179,180,181,182,183,184,185,186,187,188,189,190,191,192,193,194,195,196,197,198,199,200,201,202,203,204,205,206,207,208,209,210,211,212,213,214,215,216,217,218,219,220,221,222,223,224,225,226,227,228,229,230,231,232,233,234,235,236,237,238,239,240,241,242,243,244,245,246,247,248,249,250,251,252,253,254,255,256,257,258,259,260,261,262,263,264,265,266,267,268,269,270,271,272,273,274,275,276,277,278,279,280,281,282,283,284,285,286,287,288,289,290,291,292,293,294,295,296,297,298,299,300,301,302,303,304,305,306,307,308,309,310,311,312,313,314,315,316,317,318,319,320,321,322,323,324,325,326,327,328,329,330,331,332,333,334,335,336,337,338,339,340,341,342,343,344,345,346,347,348,349,350,351,352,353,354,355,356,357,358,359,360,361,362,363,364,365,366,367,368,369,370,371,372,373,374,375,376,377,378,379,380,381,382,383,384,385,386,387,388,389,390,391,392,393,394,395,396,397,398,399,400,401,402,403,404,405,406,407,408,409,410,411,412,413,414,415,416,417,418,419,420,421,422,423,424,425,426,427,428,429,430,431,432,433,434,435,436,437,438,439,440,441,442,443,444,445,446,447,448,449,450,451,452,453,454,455,456,457,458,459,460,461,462,463,464,465,466,467,468,469,470,471,472,473,474,475,476,477,478,479,480,481,482,483,484,485,486,487,488,489,490,491,492,493,494,495,496,497,498,499,500,501,502,503,504,505,506,507,508,509,510,511,512,513,514,515,516,517,518,519,520,521,522,523,524,525,526,527,528,529,530,531,532,533,534,535,536,537,538,539,540,541,542,543,544,545,546,547,548,549,550,551,552,553,554,555,556,557,558,559,560,561,562,563,564,565,566,567,568,569,570,571,572,573,574,575,576,577,578,579,580,581,582,583,584,585,586,587,588,589,590,591,592,593,594,595,596,597,598,599,600,601,602,603,604,605,606,607,608,609,610,611,612,613,614,615,616,617,618,619,620,621,622,623,624,625,626,627,628,629,630,631,632,633,634,635,636,637,638,639,640,641,642,643,644,645,646,647,648,649,650,651,652,653,654,655,656,657,658,659,660,661,662,663,664,665,666,667,668,669,670,671,672,673,674,675,676,677,678,679,680,681,682,683,684,685,686,687,688,689,690,691,692,693,694,695,696,697,698,699,700,701,702,703,704,705,706,707,708,709,710,711,712,713,714,715,716,717,718,719,720,721,722,723,724,725,726,727,728,729,730,731,732,733,734,735,736,737,738,739,740,741,742,743,744,745,746,747,748,749,750,751,752,753,754,755,756,757,758,759,760,761,762,763,764,765,766,767,768,769,770,771,772,773,774,775,776,777,778,779,780,781,782,783,784,785,786,787,788,789,790,791,792,793,794,795,796,797,798,799,800,801,802,803,804,805,806,807,808,809,810,811,812,813,814,815,816,817,818,819,820,821,822,823,824,825,826,827,828,829,830,831,832,833,834,835,836,837,838,839,840,841,842,843,844,845,846,847,848,849,850,851,852,853,854,855,856,857,858,859,860,861,862,863,864,865,866,867,868,869,870,871,872,873,874,875,876,877,878,879,880,881,882,883,884,885,886,887,888,889,890,891,892,893,894,895,896,897,898,899,900,901,902,903,904,905,906,907,908,909,910,911,912,913,914,915,916,917,918,919,920,921,922,923,924,925,926,927,928,929,930,931,932,933,934,935,936,937,938,939,940,941,942,943,944,945,946,947,948,949,950,951,952,953,954,955,956,957,958,959,960,961,962,963,964,965,966,967,968,969,970,971,972,973,974,975,976,977,978,979,980,981,982,983,984,985,986,987,988,989,990,991,992,993,994,995,996,997,998,999,1000],\"y\":[6,6,6,6,6,6,6,6,6,6,11,11,11,11,11,11,11,11,11,11,18,18,18,18,18,18,18,18,18,18,20,20,20,20,20,20,20,20,20,20,6,6,6,6,6,6,6,6,6,6,20,20,20,20,20,20,20,20,20,20,6,6,6,6,6,6,6,6,6,6,20,20,20,20,20,20,20,20,20,20,7,7,7,7,7,7,7,7,7,7,20,20,20,20,20,20,20,20,20,20,7,7,7,7,7,7,7,7,7,7,19,19,19,19,19,19,19,19,19,19,6,6,6,6,6,6,6,6,6,6,20,20,20,20,20,20,20,20,20,20,6,6,6,6,6,6,6,6,6,6,20,20,20,20,20,20,20,20,20,20,7,7,7,7,7,7,7,7,7,7,19,19,19,19,19,19,19,19,19,19,7,7,7,7,7,7,7,7,7,7,20,20,20,20,20,20,20,20,20,20,7,7,7,7,7,7,7,7,7,7,19,19,19,19,19,19,19,19,19,19,7,7,7,7,7,7,7,7,7,7,18,18,18,18,18,18,18,18,18,18,6,6,6,6,6,6,6,6,6,6,19,19,19,19,19,19,19,19,19,19,5,5,5,5,5,5,5,5,5,5,19,19,19,19,19,19,19,19,19,19,6,6,6,6,6,6,6,6,6,6,18,18,18,18,18,18,18,18,18,18,6,6,6,6,6,6,6,6,6,6,18,18,18,18,18,18,18,18,18,18,6,6,6,6,6,6,6,6,6,6,19,19,19,19,19,19,19,19,19,19,6,6,6,6,6,6,6,6,6,6,17,17,17,17,17,17,17,17,17,17,7,7,7,7,7,7,7,7,7,7,18,18,18,18,18,18,18,18,18,18,7,7,7,7,7,7,7,7,7,7,18,18,18,18,18,18,18,18,18,18,7,7,7,7,7,7,7,7,7,7,18,18,18,18,18,18,18,18,18,18,5,5,5,5,5,5,5,5,5,5,19,19,19,19,19,19,19,19,19,19,6,6,6,6,6,6,6,6,6,6,19,19,19,19,19,19,19,19,19,19,6,6,6,6,6,6,6,6,6,6,19,19,19,19,19,19,19,19,19,19,6,6,6,6,6,6,6,6,6,6,18,18,18,18,18,18,18,18,18,18,5,5,5,5,5,5,5,5,5,5,19,19,19,19,19,19,19,19,19,19,5,5,5,5,5,5,5,5,5,5,19,19,19,19,19,19,19,19,19,19,6,6,6,6,6,6,6,6,6,6,19,19,19,19,19,19,19,19,19,19,6,6,6,6,6,6,6,6,6,6,19,19,19,19,19,19,19,19,19,19,6,6,6,6,6,6,6,6,6,6,17,17,17,17,17,17,17,17,17,17,14,14,14,14,14,14,14,14,14,14,16,16,16,16,16,16,16,16,16,16,11,11,11,11,11,11,11,11,11,11,18,18,18,18,18,18,18,18,18,18,11,11,11,11,11,11,11,11,11,11,19,19,19,19,19,19,19,19,19,19,11,11,11,11,11,11,11,11,11,11,18,18,18,18,18,18,18,18,18,18,11,11,11,11,11,11,11,11,11,11,19,19,19,19,19,19,19,19,19,19,11,11,11,11,11,11,11,11,11,11,19,19,19,19,19,19,19,19,19,19,10,10,10,10,10,10,10,10,10,10,19,19,19,19,19,19,19,19,19,19,10,10,10,10,10,10,10,10,10,10,19,19,19,19,19,19,19,19,19,19,14,14,14,14,14,14,14,14,14,14,18,18,18,18,18,18,18,18,18,18,13,13,13,13,13,13,13,13,13,13,18,18,18,18,18,18,18,18,18,18,13,13,13,13,13,13,13,13,13,13,18,18,18,18,18,18,18,18,18,18,13,13,13,13,13,13,13,13,13,13,19,19,19,19,19,19,19,19,19,19,12,12,12,12,12,12,12,12,12,12,19,19,19,19,19,19,19,19,19,19,12,12,12,12,12,12,12,12,12,12,19,19,19,19,19,19,19,19,19,19,12,12,12,12,12,12,12,12,12,12,20,20,20,20,20,20,20,20,20,20,12,12,12,12,12,12,12,12,12,12,20,20,20,20,20,20,20,20,20,20,13,13,13,13,13,13,13,13,13,13,19,19,19,19,19,19,19,19,19,19,13,13,13,13,13,13,13,13,13,13,19,19,19,19,19,19,19,19,19,19,12,12,12,12,12,12,12,12,12,12,20,20,20,20,20,20,20,20,20,20,11,11,11,11,11,11,11,11,11,11,20,20,20,20,20,20,20,20,20,20,11]},\"selected\":{\"id\":\"463866\"},\"selection_policy\":{\"id\":\"463865\"}},\"id\":\"463852\",\"type\":\"ColumnDataSource\"},{\"attributes\":{\"line_alpha\":0.1,\"line_color\":\"#1f77b4\",\"line_dash\":[6],\"x\":{\"field\":\"x\"},\"y\":{\"field\":\"y\"}},\"id\":\"463891\",\"type\":\"Line\"},{\"attributes\":{},\"id\":\"463886\",\"type\":\"Selection\"},{\"attributes\":{\"source\":{\"id\":\"463889\"}},\"id\":\"463894\",\"type\":\"CDSView\"},{\"attributes\":{},\"id\":\"463864\",\"type\":\"AllLabels\"},{\"attributes\":{\"axis\":{\"id\":\"463834\"},\"coordinates\":null,\"dimension\":1,\"group\":null,\"ticker\":null},\"id\":\"463837\",\"type\":\"Grid\"},{\"attributes\":{\"coordinates\":null,\"data_source\":{\"id\":\"463852\"},\"glyph\":{\"id\":\"463853\"},\"group\":null,\"hover_glyph\":null,\"muted_glyph\":{\"id\":\"463855\"},\"nonselection_glyph\":{\"id\":\"463854\"},\"view\":{\"id\":\"463857\"}},\"id\":\"463856\",\"type\":\"GlyphRenderer\"},{\"attributes\":{},\"id\":\"463860\",\"type\":\"BasicTickFormatter\"},{\"attributes\":{\"axis_label\":\"step\",\"coordinates\":null,\"formatter\":{\"id\":\"463863\"},\"group\":null,\"major_label_policy\":{\"id\":\"463864\"},\"ticker\":{\"id\":\"463831\"}},\"id\":\"463830\",\"type\":\"LinearAxis\"},{\"attributes\":{\"line_color\":\"#1f77b4\",\"x\":{\"field\":\"x\"},\"y\":{\"field\":\"y\"}},\"id\":\"463853\",\"type\":\"Line\"},{\"attributes\":{},\"id\":\"463861\",\"type\":\"AllLabels\"}],\"root_ids\":[\"463819\"]},\"title\":\"Bokeh Application\",\"version\":\"2.4.3\"}};\n",
       "  const render_items = [{\"docid\":\"908faf8e-b4b9-4140-bf48-90c078d4680c\",\"root_ids\":[\"463819\"],\"roots\":{\"463819\":\"b7f8fd37-80fe-4be4-b7b8-75f4b20843b1\"}}];\n",
       "  root.Bokeh.embed.embed_items_notebook(docs_json, render_items);\n",
       "  }\n",
       "  if (root.Bokeh !== undefined) {\n",
       "    embed_document(root);\n",
       "  } else {\n",
       "    let attempts = 0;\n",
       "    const timer = setInterval(function(root) {\n",
       "      if (root.Bokeh !== undefined) {\n",
       "        clearInterval(timer);\n",
       "        embed_document(root);\n",
       "      } else {\n",
       "        attempts++;\n",
       "        if (attempts > 100) {\n",
       "          clearInterval(timer);\n",
       "          console.log(\"Bokeh: ERROR: Unable to run BokehJS code because BokehJS library is missing\");\n",
       "        }\n",
       "      }\n",
       "    }, 10, root)\n",
       "  }\n",
       "})(window);"
      ],
      "application/vnd.bokehjs_exec.v0+json": ""
     },
     "metadata": {
      "application/vnd.bokehjs_exec.v0+json": {
       "id": "463819"
      }
     },
     "output_type": "display_data"
    }
   ],
   "source": [
    "with summary.trial(*results[0]) as trial:\n",
    "    p = visualize.NeuroComponents(trial.observe(*trial.best()))\n",
    "    task = trial.observe(*trial.best()).task(0)\n",
    "    s = [t[\"double\"] for t in task].index(True)\n",
    "    p.line([s, s], [5, 20], line_dash=\"dashed\")\n",
    "    show(p)"
   ]
  },
  {
   "cell_type": "code",
   "execution_count": 39,
   "id": "35ee0002",
   "metadata": {},
   "outputs": [
    {
     "name": "stdout",
     "output_type": "stream",
     "text": [
      "conns\n",
      "max: 19, mean: 17.73926073926074\n",
      "nodes\n",
      "max: 18, mean: 17.94005994005994\n"
     ]
    }
   ],
   "source": [
    "with summary.trial(*results[1]) as trial:\n",
    "    ncs = [(state[\"num_conns\"], state[\"num_nodes\"]) for task in trial.observe(*trial.best()).solver().values() for state in task]\n",
    "    num_conns_list, num_nodes_list = zip(*ncs)\n",
    "    print(\"conns\")\n",
    "    print(f\"max: {max(num_conns_list)}, mean: {sum(num_conns_list)/len(num_conns_list)}\")\n",
    "    print(\"nodes\")\n",
    "    print(f\"max: {max(num_nodes_list)}, mean: {sum(num_nodes_list)/len(num_nodes_list)}\")"
   ]
  },
  {
   "cell_type": "code",
   "execution_count": 40,
   "id": "eedcccf0",
   "metadata": {},
   "outputs": [
    {
     "name": "stdout",
     "output_type": "stream",
     "text": [
      "conns: 6\n",
      "nodes: 2\n"
     ]
    }
   ],
   "source": [
    "with summary.trial(*results[3]) as trial:\n",
    "    other = trial.observe(*trial.best()).other()\n",
    "    print(f\"conns: {other['num_conns']}\")\n",
    "    print(f\"nodes: {other['num_nodes']}\")"
   ]
  },
  {
   "cell_type": "code",
   "execution_count": 66,
   "id": "39f8be0d",
   "metadata": {},
   "outputs": [
    {
     "data": {
      "text/html": [
       "\n",
       "  <div class=\"bk-root\" id=\"76b4f193-eb05-48a2-a67b-634d2bc35202\" data-root-id=\"466429\"></div>\n"
      ]
     },
     "metadata": {},
     "output_type": "display_data"
    },
    {
     "data": {
      "application/javascript": [
       "(function(root) {\n",
       "  function embed_document(root) {\n",
       "  const docs_json = {\"6aca5f66-7b9e-4945-a955-fc6e3605355f\":{\"defs\":[],\"roots\":{\"references\":[{\"attributes\":{\"below\":[{\"id\":\"466440\"}],\"center\":[{\"id\":\"466442\"},{\"id\":\"466446\"},{\"id\":\"466478\"}],\"left\":[{\"id\":\"466443\"}],\"renderers\":[{\"id\":\"466466\"},{\"id\":\"466485\"},{\"id\":\"466503\"},{\"id\":\"466521\"},{\"id\":\"466539\"},{\"id\":\"466546\"}],\"title\":{\"id\":\"466430\"},\"toolbar\":{\"id\":\"466454\"},\"x_range\":{\"id\":\"466432\"},\"x_scale\":{\"id\":\"466436\"},\"y_range\":{\"id\":\"466434\"},\"y_scale\":{\"id\":\"466438\"}},\"id\":\"466429\",\"subtype\":\"Figure\",\"type\":\"Plot\"},{\"attributes\":{\"fill_color\":{\"value\":\"#718dbf\"},\"hatch_color\":{\"value\":\"#718dbf\"},\"line_color\":{\"value\":\"#718dbf\"},\"top\":{\"field\":\"of neurons\"},\"width\":{\"value\":0.1},\"x\":{\"field\":\"fruits\",\"transform\":{\"id\":\"466534\"}}},\"id\":\"466536\",\"type\":\"VBar\"},{\"attributes\":{},\"id\":\"466448\",\"type\":\"WheelZoomTool\"},{\"attributes\":{},\"id\":\"466474\",\"type\":\"AllLabels\"},{\"attributes\":{\"label\":{\"value\":\"of neurons (max)\"},\"renderers\":[{\"id\":\"466466\"}]},\"id\":\"466479\",\"type\":\"LegendItem\"},{\"attributes\":{},\"id\":\"466447\",\"type\":\"PanTool\"},{\"attributes\":{\"overlay\":{\"id\":\"466453\"}},\"id\":\"466449\",\"type\":\"BoxZoomTool\"},{\"attributes\":{},\"id\":\"466450\",\"type\":\"SaveTool\"},{\"attributes\":{\"source\":{\"id\":\"466428\"}},\"id\":\"466467\",\"type\":\"CDSView\"},{\"attributes\":{},\"id\":\"466451\",\"type\":\"ResetTool\"},{\"attributes\":{\"coordinates\":null,\"group\":null,\"items\":[{\"id\":\"466479\"},{\"id\":\"466497\"},{\"id\":\"466515\"},{\"id\":\"466533\"}],\"location\":\"top_left\",\"orientation\":\"horizontal\"},\"id\":\"466478\",\"type\":\"Legend\"},{\"attributes\":{\"bottom_units\":\"screen\",\"coordinates\":null,\"fill_alpha\":0.5,\"fill_color\":\"lightgrey\",\"group\":null,\"left_units\":\"screen\",\"level\":\"overlay\",\"line_alpha\":1.0,\"line_color\":\"black\",\"line_dash\":[4,4],\"line_width\":2,\"right_units\":\"screen\",\"syncable\":false,\"top_units\":\"screen\"},\"id\":\"466453\",\"type\":\"BoxAnnotation\"},{\"attributes\":{\"range\":{\"id\":\"466432\"},\"value\":0.12},\"id\":\"466541\",\"type\":\"Dodge\"},{\"attributes\":{},\"id\":\"466475\",\"type\":\"UnionRenderers\"},{\"attributes\":{\"fill_alpha\":{\"value\":0.2},\"fill_color\":{\"value\":\"#718dbf\"},\"hatch_alpha\":{\"value\":0.2},\"hatch_color\":{\"value\":\"#718dbf\"},\"line_alpha\":{\"value\":0.2},\"line_color\":{\"value\":\"#718dbf\"},\"top\":{\"field\":\"of neurons\"},\"width\":{\"value\":0.1},\"x\":{\"field\":\"fruits\",\"transform\":{\"id\":\"466534\"}}},\"id\":\"466538\",\"type\":\"VBar\"},{\"attributes\":{\"fill_alpha\":{\"value\":0.2},\"fill_color\":{\"value\":\"#718dbf\"},\"hatch_alpha\":{\"value\":0.2},\"hatch_color\":{\"value\":\"#718dbf\"},\"line_alpha\":{\"value\":0.2},\"line_color\":{\"value\":\"#718dbf\"},\"top\":{\"field\":\"of neurons (max)\"},\"width\":{\"value\":0.1},\"x\":{\"field\":\"fruits\",\"transform\":{\"id\":\"466461\"}}},\"id\":\"466465\",\"type\":\"VBar\"},{\"attributes\":{\"fill_alpha\":{\"value\":0.1},\"fill_color\":{\"value\":\"#718dbf\"},\"hatch_alpha\":{\"value\":0.1},\"hatch_color\":{\"value\":\"#718dbf\"},\"line_alpha\":{\"value\":0.1},\"line_color\":{\"value\":\"#718dbf\"},\"top\":{\"field\":\"of neurons\"},\"width\":{\"value\":0.1},\"x\":{\"field\":\"fruits\",\"transform\":{\"id\":\"466534\"}}},\"id\":\"466537\",\"type\":\"VBar\"},{\"attributes\":{},\"id\":\"466476\",\"type\":\"Selection\"},{\"attributes\":{\"coordinates\":null,\"data_source\":{\"id\":\"466428\"},\"glyph\":{\"id\":\"466536\"},\"group\":null,\"hover_glyph\":null,\"muted_glyph\":{\"id\":\"466538\"},\"nonselection_glyph\":{\"id\":\"466537\"},\"view\":{\"id\":\"466540\"}},\"id\":\"466539\",\"type\":\"GlyphRenderer\"},{\"attributes\":{\"fill_alpha\":{\"value\":0.1},\"fill_color\":{\"value\":\"#ff6f82\"},\"hatch_alpha\":{\"value\":0.1},\"hatch_color\":{\"value\":\"#ff6f82\"},\"line_alpha\":{\"value\":0.1},\"line_color\":{\"value\":\"#ff6f82\"},\"top\":{\"field\":\"of synapses (mean)\"},\"width\":{\"value\":0.1},\"x\":{\"field\":\"fruits\",\"transform\":{\"id\":\"466516\"}}},\"id\":\"466519\",\"type\":\"VBar\"},{\"attributes\":{\"source\":{\"id\":\"466428\"}},\"id\":\"466547\",\"type\":\"CDSView\"},{\"attributes\":{\"fill_color\":{\"value\":\"#c9d9d3\"},\"hatch_color\":{\"value\":\"#c9d9d3\"},\"line_color\":{\"value\":\"#c9d9d3\"},\"top\":{\"field\":\"of neurons (mean)\"},\"width\":{\"value\":0.1},\"x\":{\"field\":\"fruits\",\"transform\":{\"id\":\"466480\"}}},\"id\":\"466482\",\"type\":\"VBar\"},{\"attributes\":{\"fill_alpha\":{\"value\":0.2},\"fill_color\":{\"value\":\"#ff6f82\"},\"hatch_alpha\":{\"value\":0.2},\"hatch_color\":{\"value\":\"#ff6f82\"},\"line_alpha\":{\"value\":0.2},\"line_color\":{\"value\":\"#ff6f82\"},\"top\":{\"field\":\"of synapses (mean)\"},\"width\":{\"value\":0.1},\"x\":{\"field\":\"fruits\",\"transform\":{\"id\":\"466516\"}}},\"id\":\"466520\",\"type\":\"VBar\"},{\"attributes\":{\"fill_alpha\":{\"value\":0.1},\"fill_color\":{\"value\":\"#e84d60\"},\"hatch_alpha\":{\"value\":0.1},\"hatch_color\":{\"value\":\"#e84d60\"},\"line_alpha\":{\"value\":0.1},\"line_color\":{\"value\":\"#e84d60\"},\"top\":{\"field\":\"of synapses\"},\"width\":{\"value\":0.1},\"x\":{\"field\":\"fruits\",\"transform\":{\"id\":\"466541\"}}},\"id\":\"466544\",\"type\":\"VBar\"},{\"attributes\":{\"coordinates\":null,\"data_source\":{\"id\":\"466428\"},\"glyph\":{\"id\":\"466518\"},\"group\":null,\"hover_glyph\":null,\"muted_glyph\":{\"id\":\"466520\"},\"nonselection_glyph\":{\"id\":\"466519\"},\"view\":{\"id\":\"466522\"}},\"id\":\"466521\",\"type\":\"GlyphRenderer\"},{\"attributes\":{\"data\":{\"fruits\":[\"\\u63d0\\u6848\\u624b\\u6cd5\",\"\\u9759\\u7684NN\"],\"of neurons\":[0,2],\"of neurons (max)\":[18,0],\"of neurons (mean)\":[17.94,0],\"of synapses\":[0,6],\"of synapses (max)\":[19,0],\"of synapses (mean)\":[17.739,0]},\"selected\":{\"id\":\"466476\"},\"selection_policy\":{\"id\":\"466475\"}},\"id\":\"466428\",\"type\":\"ColumnDataSource\"},{\"attributes\":{\"source\":{\"id\":\"466428\"}},\"id\":\"466540\",\"type\":\"CDSView\"},{\"attributes\":{\"fill_color\":{\"value\":\"#718dbf\"},\"hatch_color\":{\"value\":\"#718dbf\"},\"line_color\":{\"value\":\"#718dbf\"},\"top\":{\"field\":\"of neurons (max)\"},\"width\":{\"value\":0.1},\"x\":{\"field\":\"fruits\",\"transform\":{\"id\":\"466461\"}}},\"id\":\"466463\",\"type\":\"VBar\"},{\"attributes\":{\"label\":{\"value\":\"of synapses (mean)\"},\"renderers\":[{\"id\":\"466521\"}]},\"id\":\"466533\",\"type\":\"LegendItem\"},{\"attributes\":{\"fill_alpha\":{\"value\":0.1},\"fill_color\":{\"value\":\"#718dbf\"},\"hatch_alpha\":{\"value\":0.1},\"hatch_color\":{\"value\":\"#718dbf\"},\"line_alpha\":{\"value\":0.1},\"line_color\":{\"value\":\"#718dbf\"},\"top\":{\"field\":\"of neurons (max)\"},\"width\":{\"value\":0.1},\"x\":{\"field\":\"fruits\",\"transform\":{\"id\":\"466461\"}}},\"id\":\"466464\",\"type\":\"VBar\"},{\"attributes\":{\"fill_color\":{\"value\":\"#ff6f82\"},\"hatch_color\":{\"value\":\"#ff6f82\"},\"line_color\":{\"value\":\"#ff6f82\"},\"top\":{\"field\":\"of synapses (mean)\"},\"width\":{\"value\":0.1},\"x\":{\"field\":\"fruits\",\"transform\":{\"id\":\"466516\"}}},\"id\":\"466518\",\"type\":\"VBar\"},{\"attributes\":{\"factors\":[\"\\u63d0\\u6848\\u624b\\u6cd5\",\"\\u9759\\u7684NN\"],\"range_padding\":0.1},\"id\":\"466432\",\"type\":\"FactorRange\"},{\"attributes\":{\"source\":{\"id\":\"466428\"}},\"id\":\"466522\",\"type\":\"CDSView\"},{\"attributes\":{\"fill_alpha\":{\"value\":0.2},\"fill_color\":{\"value\":\"#e84d60\"},\"hatch_alpha\":{\"value\":0.2},\"hatch_color\":{\"value\":\"#e84d60\"},\"line_alpha\":{\"value\":0.2},\"line_color\":{\"value\":\"#e84d60\"},\"top\":{\"field\":\"of synapses\"},\"width\":{\"value\":0.1},\"x\":{\"field\":\"fruits\",\"transform\":{\"id\":\"466541\"}}},\"id\":\"466545\",\"type\":\"VBar\"},{\"attributes\":{\"fill_alpha\":{\"value\":0.2},\"fill_color\":{\"value\":\"#c9d9d3\"},\"hatch_alpha\":{\"value\":0.2},\"hatch_color\":{\"value\":\"#c9d9d3\"},\"line_alpha\":{\"value\":0.2},\"line_color\":{\"value\":\"#c9d9d3\"},\"top\":{\"field\":\"of neurons (mean)\"},\"width\":{\"value\":0.1},\"x\":{\"field\":\"fruits\",\"transform\":{\"id\":\"466480\"}}},\"id\":\"466484\",\"type\":\"VBar\"},{\"attributes\":{\"range\":{\"id\":\"466432\"},\"value\":-0.18},\"id\":\"466461\",\"type\":\"Dodge\"},{\"attributes\":{\"coordinates\":null,\"group\":null,\"text\":\"\\u63d0\\u6848\\u624b\\u6cd5\\u3068\\u9759\\u7684NN\\u306e\\u30cd\\u30c3\\u30c8\\u30ef\\u30fc\\u30af\\u30b5\\u30a4\\u30ba\\u306b\\u3088\\u308b\"},\"id\":\"466430\",\"type\":\"Title\"},{\"attributes\":{\"fill_color\":{\"value\":\"#e84d60\"},\"hatch_color\":{\"value\":\"#e84d60\"},\"line_color\":{\"value\":\"#e84d60\"},\"top\":{\"field\":\"of synapses (max)\"},\"width\":{\"value\":0.1},\"x\":{\"field\":\"fruits\",\"transform\":{\"id\":\"466498\"}}},\"id\":\"466500\",\"type\":\"VBar\"},{\"attributes\":{},\"id\":\"466473\",\"type\":\"CategoricalTickFormatter\"},{\"attributes\":{\"fill_color\":{\"value\":\"#e84d60\"},\"hatch_color\":{\"value\":\"#e84d60\"},\"line_color\":{\"value\":\"#e84d60\"},\"top\":{\"field\":\"of synapses\"},\"width\":{\"value\":0.1},\"x\":{\"field\":\"fruits\",\"transform\":{\"id\":\"466541\"}}},\"id\":\"466543\",\"type\":\"VBar\"},{\"attributes\":{\"coordinates\":null,\"data_source\":{\"id\":\"466428\"},\"glyph\":{\"id\":\"466543\"},\"group\":null,\"hover_glyph\":null,\"muted_glyph\":{\"id\":\"466545\"},\"nonselection_glyph\":{\"id\":\"466544\"},\"view\":{\"id\":\"466547\"}},\"id\":\"466546\",\"type\":\"GlyphRenderer\"},{\"attributes\":{\"range\":{\"id\":\"466432\"},\"value\":0.18},\"id\":\"466516\",\"type\":\"Dodge\"},{\"attributes\":{\"range\":{\"id\":\"466432\"},\"value\":-0.06},\"id\":\"466480\",\"type\":\"Dodge\"},{\"attributes\":{\"range\":{\"id\":\"466432\"},\"value\":0.06},\"id\":\"466498\",\"type\":\"Dodge\"},{\"attributes\":{},\"id\":\"466436\",\"type\":\"CategoricalScale\"},{\"attributes\":{\"fill_alpha\":{\"value\":0.2},\"fill_color\":{\"value\":\"#e84d60\"},\"hatch_alpha\":{\"value\":0.2},\"hatch_color\":{\"value\":\"#e84d60\"},\"line_alpha\":{\"value\":0.2},\"line_color\":{\"value\":\"#e84d60\"},\"top\":{\"field\":\"of synapses (max)\"},\"width\":{\"value\":0.1},\"x\":{\"field\":\"fruits\",\"transform\":{\"id\":\"466498\"}}},\"id\":\"466502\",\"type\":\"VBar\"},{\"attributes\":{\"fill_alpha\":{\"value\":0.1},\"fill_color\":{\"value\":\"#c9d9d3\"},\"hatch_alpha\":{\"value\":0.1},\"hatch_color\":{\"value\":\"#c9d9d3\"},\"line_alpha\":{\"value\":0.1},\"line_color\":{\"value\":\"#c9d9d3\"},\"top\":{\"field\":\"of neurons (mean)\"},\"width\":{\"value\":0.1},\"x\":{\"field\":\"fruits\",\"transform\":{\"id\":\"466480\"}}},\"id\":\"466483\",\"type\":\"VBar\"},{\"attributes\":{},\"id\":\"466441\",\"type\":\"CategoricalTicker\"},{\"attributes\":{\"fill_alpha\":{\"value\":0.1},\"fill_color\":{\"value\":\"#e84d60\"},\"hatch_alpha\":{\"value\":0.1},\"hatch_color\":{\"value\":\"#e84d60\"},\"line_alpha\":{\"value\":0.1},\"line_color\":{\"value\":\"#e84d60\"},\"top\":{\"field\":\"of synapses (max)\"},\"width\":{\"value\":0.1},\"x\":{\"field\":\"fruits\",\"transform\":{\"id\":\"466498\"}}},\"id\":\"466501\",\"type\":\"VBar\"},{\"attributes\":{\"end\":25},\"id\":\"466434\",\"type\":\"Range1d\"},{\"attributes\":{\"coordinates\":null,\"data_source\":{\"id\":\"466428\"},\"glyph\":{\"id\":\"466500\"},\"group\":null,\"hover_glyph\":null,\"muted_glyph\":{\"id\":\"466502\"},\"nonselection_glyph\":{\"id\":\"466501\"},\"view\":{\"id\":\"466504\"}},\"id\":\"466503\",\"type\":\"GlyphRenderer\"},{\"attributes\":{\"coordinates\":null,\"data_source\":{\"id\":\"466428\"},\"glyph\":{\"id\":\"466482\"},\"group\":null,\"hover_glyph\":null,\"muted_glyph\":{\"id\":\"466484\"},\"nonselection_glyph\":{\"id\":\"466483\"},\"view\":{\"id\":\"466486\"}},\"id\":\"466485\",\"type\":\"GlyphRenderer\"},{\"attributes\":{\"coordinates\":null,\"formatter\":{\"id\":\"466470\"},\"group\":null,\"major_label_policy\":{\"id\":\"466471\"},\"ticker\":{\"id\":\"466444\"}},\"id\":\"466443\",\"type\":\"LinearAxis\"},{\"attributes\":{\"axis\":{\"id\":\"466440\"},\"coordinates\":null,\"grid_line_color\":null,\"group\":null,\"ticker\":null},\"id\":\"466442\",\"type\":\"Grid\"},{\"attributes\":{\"label\":{\"value\":\"of synapses (max)\"},\"renderers\":[{\"id\":\"466503\"}]},\"id\":\"466515\",\"type\":\"LegendItem\"},{\"attributes\":{},\"id\":\"466438\",\"type\":\"LinearScale\"},{\"attributes\":{\"label\":{\"value\":\"of neurons (mean)\"},\"renderers\":[{\"id\":\"466485\"}]},\"id\":\"466497\",\"type\":\"LegendItem\"},{\"attributes\":{\"range\":{\"id\":\"466432\"},\"value\":-0.12},\"id\":\"466534\",\"type\":\"Dodge\"},{\"attributes\":{\"coordinates\":null,\"formatter\":{\"id\":\"466473\"},\"group\":null,\"major_label_policy\":{\"id\":\"466474\"},\"ticker\":{\"id\":\"466441\"}},\"id\":\"466440\",\"type\":\"CategoricalAxis\"},{\"attributes\":{\"tools\":[{\"id\":\"466447\"},{\"id\":\"466448\"},{\"id\":\"466449\"},{\"id\":\"466450\"},{\"id\":\"466451\"},{\"id\":\"466452\"}]},\"id\":\"466454\",\"type\":\"Toolbar\"},{\"attributes\":{},\"id\":\"466470\",\"type\":\"BasicTickFormatter\"},{\"attributes\":{},\"id\":\"466452\",\"type\":\"HelpTool\"},{\"attributes\":{\"source\":{\"id\":\"466428\"}},\"id\":\"466504\",\"type\":\"CDSView\"},{\"attributes\":{\"source\":{\"id\":\"466428\"}},\"id\":\"466486\",\"type\":\"CDSView\"},{\"attributes\":{},\"id\":\"466471\",\"type\":\"AllLabels\"},{\"attributes\":{\"axis\":{\"id\":\"466443\"},\"coordinates\":null,\"dimension\":1,\"group\":null,\"ticker\":null},\"id\":\"466446\",\"type\":\"Grid\"},{\"attributes\":{\"coordinates\":null,\"data_source\":{\"id\":\"466428\"},\"glyph\":{\"id\":\"466463\"},\"group\":null,\"hover_glyph\":null,\"muted_glyph\":{\"id\":\"466465\"},\"nonselection_glyph\":{\"id\":\"466464\"},\"view\":{\"id\":\"466467\"}},\"id\":\"466466\",\"type\":\"GlyphRenderer\"},{\"attributes\":{},\"id\":\"466444\",\"type\":\"BasicTicker\"}],\"root_ids\":[\"466429\"]},\"title\":\"Bokeh Application\",\"version\":\"2.4.3\"}};\n",
       "  const render_items = [{\"docid\":\"6aca5f66-7b9e-4945-a955-fc6e3605355f\",\"root_ids\":[\"466429\"],\"roots\":{\"466429\":\"76b4f193-eb05-48a2-a67b-634d2bc35202\"}}];\n",
       "  root.Bokeh.embed.embed_items_notebook(docs_json, render_items);\n",
       "  }\n",
       "  if (root.Bokeh !== undefined) {\n",
       "    embed_document(root);\n",
       "  } else {\n",
       "    let attempts = 0;\n",
       "    const timer = setInterval(function(root) {\n",
       "      if (root.Bokeh !== undefined) {\n",
       "        clearInterval(timer);\n",
       "        embed_document(root);\n",
       "      } else {\n",
       "        attempts++;\n",
       "        if (attempts > 100) {\n",
       "          clearInterval(timer);\n",
       "          console.log(\"Bokeh: ERROR: Unable to run BokehJS code because BokehJS library is missing\");\n",
       "        }\n",
       "      }\n",
       "    }, 10, root)\n",
       "  }\n",
       "})(window);"
      ],
      "application/vnd.bokehjs_exec.v0+json": ""
     },
     "metadata": {
      "application/vnd.bokehjs_exec.v0+json": {
       "id": "466429"
      }
     },
     "output_type": "display_data"
    }
   ],
   "source": [
    "from bokeh.io import show\n",
    "from bokeh.models import ColumnDataSource\n",
    "from bokeh.plotting import figure\n",
    "from bokeh.transform import dodge\n",
    "\n",
    "fruits = ['提案手法', '静的NN']\n",
    "years = ['of neurons (max)', 'of neurons (mean)', 'of synapses (max)', 'of synapses (mean)']\n",
    "\n",
    "data = {'fruits' : fruits,\n",
    "        'of neurons (max)'   : [18, 0],\n",
    "        'of neurons (mean)'   : [17.940, 0],\n",
    "        'of synapses (max)'   : [19, 0],\n",
    "        'of synapses (mean)'  : [17.739, 0],\n",
    "        'of neurons' : [0, 2],\n",
    "        'of synapses' : [0, 6]}\n",
    "\n",
    "source = ColumnDataSource(data=data)\n",
    "\n",
    "p = figure(x_range=fruits, y_range=(0, 25), title=\"提案手法と静的NNのネットワークサイズによる\")\n",
    "\n",
    "p.vbar(x=dodge('fruits', -0.18, range=p.x_range), top='of neurons (max)', width=0.1, source=source,\n",
    "       color=\"#718dbf\", legend_label=\"of neurons (max)\")\n",
    "\n",
    "p.vbar(x=dodge('fruits',  -0.06,  range=p.x_range), top='of neurons (mean)', width=0.1, source=source,\n",
    "       color=\"#c9d9d3\", legend_label=\"of neurons (mean)\")\n",
    "\n",
    "p.vbar(x=dodge('fruits',  0.06, range=p.x_range), top='of synapses (max)', width=0.1, source=source,\n",
    "       color=\"#e84d60\", legend_label=\"of synapses (max)\")\n",
    "\n",
    "p.vbar(x=dodge('fruits',  0.18, range=p.x_range), top='of synapses (mean)', width=0.1, source=source,\n",
    "       color=\"#ff6f82\", legend_label=\"of synapses (mean)\")\n",
    "\n",
    "p.vbar(x=dodge('fruits', -0.12, range=p.x_range), top='of neurons', width=0.1, source=source,\n",
    "       color=\"#718dbf\")\n",
    "\n",
    "p.vbar(x=dodge('fruits',  0.12, range=p.x_range), top='of synapses', width=0.1, source=source,\n",
    "       color=\"#e84d60\")\n",
    "\n",
    "p.x_range.range_padding = 0.1\n",
    "p.xgrid.grid_line_color = None\n",
    "p.legend.location = \"top_left\"\n",
    "p.legend.orientation = \"horizontal\"\n",
    "\n",
    "show(p)"
   ]
  },
  {
   "cell_type": "code",
   "execution_count": 79,
   "id": "ca81a3ff",
   "metadata": {},
   "outputs": [],
   "source": [
    "results = [\n",
    "    (\"config_devnetwork_perfect_complexity_evaluation-double_cartpole\", \"2022-11-07 20_30_32.160454\", 1),\n",
    "    (\"config_devnetwork_perfect_complexity_evaluation-broken_cartpole\", \"2022-11-07 18_43_23.926426\", 1),\n",
    "    (\"config_static_complexity_evaluation-double_cartpole\", \"2022-11-08 06_30_14.485731\", 9),\n",
    "    (\"config_static_complexity_evaluation-broken_cartpole\", \"2022-11-08 06_56_12.191025\", 7)\n",
    "]"
   ]
  },
  {
   "cell_type": "code",
   "execution_count": 38,
   "id": "6982923a",
   "metadata": {},
   "outputs": [],
   "source": [
    "import ctypes\n",
    "\n",
    "from sklearn.kernel_ridge import KernelRidge\n",
    "\n",
    "import numpy as np"
   ]
  },
  {
   "cell_type": "code",
   "execution_count": 71,
   "id": "4758dcbe",
   "metadata": {},
   "outputs": [
    {
     "data": {
      "text/html": [
       "<style>#sk-container-id-2 {color: black;background-color: white;}#sk-container-id-2 pre{padding: 0;}#sk-container-id-2 div.sk-toggleable {background-color: white;}#sk-container-id-2 label.sk-toggleable__label {cursor: pointer;display: block;width: 100%;margin-bottom: 0;padding: 0.3em;box-sizing: border-box;text-align: center;}#sk-container-id-2 label.sk-toggleable__label-arrow:before {content: \"▸\";float: left;margin-right: 0.25em;color: #696969;}#sk-container-id-2 label.sk-toggleable__label-arrow:hover:before {color: black;}#sk-container-id-2 div.sk-estimator:hover label.sk-toggleable__label-arrow:before {color: black;}#sk-container-id-2 div.sk-toggleable__content {max-height: 0;max-width: 0;overflow: hidden;text-align: left;background-color: #f0f8ff;}#sk-container-id-2 div.sk-toggleable__content pre {margin: 0.2em;color: black;border-radius: 0.25em;background-color: #f0f8ff;}#sk-container-id-2 input.sk-toggleable__control:checked~div.sk-toggleable__content {max-height: 200px;max-width: 100%;overflow: auto;}#sk-container-id-2 input.sk-toggleable__control:checked~label.sk-toggleable__label-arrow:before {content: \"▾\";}#sk-container-id-2 div.sk-estimator input.sk-toggleable__control:checked~label.sk-toggleable__label {background-color: #d4ebff;}#sk-container-id-2 div.sk-label input.sk-toggleable__control:checked~label.sk-toggleable__label {background-color: #d4ebff;}#sk-container-id-2 input.sk-hidden--visually {border: 0;clip: rect(1px 1px 1px 1px);clip: rect(1px, 1px, 1px, 1px);height: 1px;margin: -1px;overflow: hidden;padding: 0;position: absolute;width: 1px;}#sk-container-id-2 div.sk-estimator {font-family: monospace;background-color: #f0f8ff;border: 1px dotted black;border-radius: 0.25em;box-sizing: border-box;margin-bottom: 0.5em;}#sk-container-id-2 div.sk-estimator:hover {background-color: #d4ebff;}#sk-container-id-2 div.sk-parallel-item::after {content: \"\";width: 100%;border-bottom: 1px solid gray;flex-grow: 1;}#sk-container-id-2 div.sk-label:hover label.sk-toggleable__label {background-color: #d4ebff;}#sk-container-id-2 div.sk-serial::before {content: \"\";position: absolute;border-left: 1px solid gray;box-sizing: border-box;top: 0;bottom: 0;left: 50%;z-index: 0;}#sk-container-id-2 div.sk-serial {display: flex;flex-direction: column;align-items: center;background-color: white;padding-right: 0.2em;padding-left: 0.2em;position: relative;}#sk-container-id-2 div.sk-item {position: relative;z-index: 1;}#sk-container-id-2 div.sk-parallel {display: flex;align-items: stretch;justify-content: center;background-color: white;position: relative;}#sk-container-id-2 div.sk-item::before, #sk-container-id-2 div.sk-parallel-item::before {content: \"\";position: absolute;border-left: 1px solid gray;box-sizing: border-box;top: 0;bottom: 0;left: 50%;z-index: -1;}#sk-container-id-2 div.sk-parallel-item {display: flex;flex-direction: column;z-index: 1;position: relative;background-color: white;}#sk-container-id-2 div.sk-parallel-item:first-child::after {align-self: flex-end;width: 50%;}#sk-container-id-2 div.sk-parallel-item:last-child::after {align-self: flex-start;width: 50%;}#sk-container-id-2 div.sk-parallel-item:only-child::after {width: 0;}#sk-container-id-2 div.sk-dashed-wrapped {border: 1px dashed gray;margin: 0 0.4em 0.5em 0.4em;box-sizing: border-box;padding-bottom: 0.4em;background-color: white;}#sk-container-id-2 div.sk-label label {font-family: monospace;font-weight: bold;display: inline-block;line-height: 1.2em;}#sk-container-id-2 div.sk-label-container {text-align: center;}#sk-container-id-2 div.sk-container {/* jupyter's `normalize.less` sets `[hidden] { display: none; }` but bootstrap.min.css set `[hidden] { display: none !important; }` so we also need the `!important` here to be able to override the default hidden behavior on the sphinx rendered scikit-learn.org. See: https://github.com/scikit-learn/scikit-learn/issues/21755 */display: inline-block !important;position: relative;}#sk-container-id-2 div.sk-text-repr-fallback {display: none;}</style><div id=\"sk-container-id-2\" class=\"sk-top-container\"><div class=\"sk-text-repr-fallback\"><pre>KernelRidge(alpha=0.0002, kernel=&#x27;rbf&#x27;)</pre><b>In a Jupyter environment, please rerun this cell to show the HTML representation or trust the notebook. <br />On GitHub, the HTML representation is unable to render, please try loading this page with nbviewer.org.</b></div><div class=\"sk-container\" hidden><div class=\"sk-item\"><div class=\"sk-estimator sk-toggleable\"><input class=\"sk-toggleable__control sk-hidden--visually\" id=\"sk-estimator-id-2\" type=\"checkbox\" checked><label for=\"sk-estimator-id-2\" class=\"sk-toggleable__label sk-toggleable__label-arrow\">KernelRidge</label><div class=\"sk-toggleable__content\"><pre>KernelRidge(alpha=0.0002, kernel=&#x27;rbf&#x27;)</pre></div></div></div></div></div>"
      ],
      "text/plain": [
       "KernelRidge(alpha=0.0002, kernel='rbf')"
      ]
     },
     "execution_count": 71,
     "metadata": {},
     "output_type": "execute_result"
    }
   ],
   "source": [
    "def get_setting_values(s):\n",
    "    s = s.replace(\"config_devnetwork_vae_\", \"\").replace(\"-double_cartpole_real_fitness\", \"\")\n",
    "    d = bytes.fromhex(s)\n",
    "    fp = ctypes.cast(d, ctypes.POINTER(ctypes.c_float))\n",
    "    return [fp[i] for i in range(len(d) // 4)]\n",
    "\n",
    "df = summary.table().filter(like=\"cartpole\", axis=0).filter(like=\"double\", axis=0).filter(like=\"vae\", axis=0)\n",
    "x = np.array([get_setting_values(axis[0]) for axis in df.axes[0]])\n",
    "y = np.array([[df.iloc[i][\"fitness_max\"]] for i in range(len(df.axes[0]))])\n",
    "\n",
    "clf = KernelRidge(alpha=0.0002, kernel='rbf') #KernelRidge\n",
    "\n",
    "clf.fit(x, y)"
   ]
  },
  {
   "cell_type": "code",
   "execution_count": 76,
   "id": "a9b06f3a",
   "metadata": {},
   "outputs": [
    {
     "data": {
      "text/plain": [
       "0.5985245698295287"
      ]
     },
     "execution_count": 76,
     "metadata": {},
     "output_type": "execute_result"
    }
   ],
   "source": [
    "np.max(clf.predict(np.random.random((100000, 20))))"
   ]
  },
  {
   "cell_type": "code",
   "execution_count": 74,
   "id": "f2c6ef54",
   "metadata": {},
   "outputs": [
    {
     "ename": "ValueError",
     "evalue": "broadcast dimensions too large.",
     "output_type": "error",
     "traceback": [
      "\u001b[0;31m---------------------------------------------------------------------------\u001b[0m",
      "\u001b[0;31mValueError\u001b[0m                                Traceback (most recent call last)",
      "Cell \u001b[0;32mIn[74], line 2\u001b[0m\n\u001b[1;32m      1\u001b[0m v \u001b[38;5;241m=\u001b[39m np\u001b[38;5;241m.\u001b[39mlinspace(\u001b[38;5;241m0\u001b[39m, \u001b[38;5;241m0.5\u001b[39m, \u001b[38;5;241m10\u001b[39m)\n\u001b[0;32m----> 2\u001b[0m d \u001b[38;5;241m=\u001b[39m \u001b[43mnp\u001b[49m\u001b[38;5;241;43m.\u001b[39;49m\u001b[43mmeshgrid\u001b[49m\u001b[43m(\u001b[49m\u001b[38;5;241;43m*\u001b[39;49m\u001b[43m[\u001b[49m\u001b[43mv\u001b[49m\u001b[43m \u001b[49m\u001b[38;5;28;43;01mfor\u001b[39;49;00m\u001b[43m \u001b[49m\u001b[43m_\u001b[49m\u001b[43m \u001b[49m\u001b[38;5;129;43;01min\u001b[39;49;00m\u001b[43m \u001b[49m\u001b[38;5;28;43mrange\u001b[39;49m\u001b[43m(\u001b[49m\u001b[38;5;241;43m20\u001b[39;49m\u001b[43m)\u001b[49m\u001b[43m]\u001b[49m\u001b[43m)\u001b[49m\n",
      "File \u001b[0;32m<__array_function__ internals>:200\u001b[0m, in \u001b[0;36mmeshgrid\u001b[0;34m(*args, **kwargs)\u001b[0m\n",
      "File \u001b[0;32m~/.local/lib/python3.8/site-packages/numpy/lib/function_base.py:5042\u001b[0m, in \u001b[0;36mmeshgrid\u001b[0;34m(copy, sparse, indexing, *xi)\u001b[0m\n\u001b[1;32m   5038\u001b[0m     output[\u001b[38;5;241m1\u001b[39m]\u001b[38;5;241m.\u001b[39mshape \u001b[38;5;241m=\u001b[39m (\u001b[38;5;241m-\u001b[39m\u001b[38;5;241m1\u001b[39m, \u001b[38;5;241m1\u001b[39m) \u001b[38;5;241m+\u001b[39m s0[\u001b[38;5;241m2\u001b[39m:]\n\u001b[1;32m   5040\u001b[0m \u001b[38;5;28;01mif\u001b[39;00m \u001b[38;5;129;01mnot\u001b[39;00m sparse:\n\u001b[1;32m   5041\u001b[0m     \u001b[38;5;66;03m# Return the full N-D matrix (not only the 1-D vector)\u001b[39;00m\n\u001b[0;32m-> 5042\u001b[0m     output \u001b[38;5;241m=\u001b[39m \u001b[43mnp\u001b[49m\u001b[38;5;241;43m.\u001b[39;49m\u001b[43mbroadcast_arrays\u001b[49m\u001b[43m(\u001b[49m\u001b[38;5;241;43m*\u001b[39;49m\u001b[43moutput\u001b[49m\u001b[43m,\u001b[49m\u001b[43m \u001b[49m\u001b[43msubok\u001b[49m\u001b[38;5;241;43m=\u001b[39;49m\u001b[38;5;28;43;01mTrue\u001b[39;49;00m\u001b[43m)\u001b[49m\n\u001b[1;32m   5044\u001b[0m \u001b[38;5;28;01mif\u001b[39;00m copy:\n\u001b[1;32m   5045\u001b[0m     output \u001b[38;5;241m=\u001b[39m [x\u001b[38;5;241m.\u001b[39mcopy() \u001b[38;5;28;01mfor\u001b[39;00m x \u001b[38;5;129;01min\u001b[39;00m output]\n",
      "File \u001b[0;32m<__array_function__ internals>:200\u001b[0m, in \u001b[0;36mbroadcast_arrays\u001b[0;34m(*args, **kwargs)\u001b[0m\n",
      "File \u001b[0;32m~/.local/lib/python3.8/site-packages/numpy/lib/stride_tricks.py:540\u001b[0m, in \u001b[0;36mbroadcast_arrays\u001b[0;34m(subok, *args)\u001b[0m\n\u001b[1;32m    533\u001b[0m \u001b[38;5;66;03m# nditer is not used here to avoid the limit of 32 arrays.\u001b[39;00m\n\u001b[1;32m    534\u001b[0m \u001b[38;5;66;03m# Otherwise, something like the following one-liner would suffice:\u001b[39;00m\n\u001b[1;32m    535\u001b[0m \u001b[38;5;66;03m# return np.nditer(args, flags=['multi_index', 'zerosize_ok'],\u001b[39;00m\n\u001b[1;32m    536\u001b[0m \u001b[38;5;66;03m#                  order='C').itviews\u001b[39;00m\n\u001b[1;32m    538\u001b[0m args \u001b[38;5;241m=\u001b[39m [np\u001b[38;5;241m.\u001b[39marray(_m, copy\u001b[38;5;241m=\u001b[39m\u001b[38;5;28;01mFalse\u001b[39;00m, subok\u001b[38;5;241m=\u001b[39msubok) \u001b[38;5;28;01mfor\u001b[39;00m _m \u001b[38;5;129;01min\u001b[39;00m args]\n\u001b[0;32m--> 540\u001b[0m shape \u001b[38;5;241m=\u001b[39m \u001b[43m_broadcast_shape\u001b[49m\u001b[43m(\u001b[49m\u001b[38;5;241;43m*\u001b[39;49m\u001b[43margs\u001b[49m\u001b[43m)\u001b[49m\n\u001b[1;32m    542\u001b[0m \u001b[38;5;28;01mif\u001b[39;00m \u001b[38;5;28mall\u001b[39m(array\u001b[38;5;241m.\u001b[39mshape \u001b[38;5;241m==\u001b[39m shape \u001b[38;5;28;01mfor\u001b[39;00m array \u001b[38;5;129;01min\u001b[39;00m args):\n\u001b[1;32m    543\u001b[0m     \u001b[38;5;66;03m# Common case where nothing needs to be broadcasted.\u001b[39;00m\n\u001b[1;32m    544\u001b[0m     \u001b[38;5;28;01mreturn\u001b[39;00m args\n",
      "File \u001b[0;32m~/.local/lib/python3.8/site-packages/numpy/lib/stride_tricks.py:422\u001b[0m, in \u001b[0;36m_broadcast_shape\u001b[0;34m(*args)\u001b[0m\n\u001b[1;32m    417\u001b[0m \u001b[38;5;124;03m\"\"\"Returns the shape of the arrays that would result from broadcasting the\u001b[39;00m\n\u001b[1;32m    418\u001b[0m \u001b[38;5;124;03msupplied arrays against each other.\u001b[39;00m\n\u001b[1;32m    419\u001b[0m \u001b[38;5;124;03m\"\"\"\u001b[39;00m\n\u001b[1;32m    420\u001b[0m \u001b[38;5;66;03m# use the old-iterator because np.nditer does not handle size 0 arrays\u001b[39;00m\n\u001b[1;32m    421\u001b[0m \u001b[38;5;66;03m# consistently\u001b[39;00m\n\u001b[0;32m--> 422\u001b[0m b \u001b[38;5;241m=\u001b[39m \u001b[43mnp\u001b[49m\u001b[38;5;241;43m.\u001b[39;49m\u001b[43mbroadcast\u001b[49m\u001b[43m(\u001b[49m\u001b[38;5;241;43m*\u001b[39;49m\u001b[43margs\u001b[49m\u001b[43m[\u001b[49m\u001b[43m:\u001b[49m\u001b[38;5;241;43m32\u001b[39;49m\u001b[43m]\u001b[49m\u001b[43m)\u001b[49m\n\u001b[1;32m    423\u001b[0m \u001b[38;5;66;03m# unfortunately, it cannot handle 32 or more arguments directly\u001b[39;00m\n\u001b[1;32m    424\u001b[0m \u001b[38;5;28;01mfor\u001b[39;00m pos \u001b[38;5;129;01min\u001b[39;00m \u001b[38;5;28mrange\u001b[39m(\u001b[38;5;241m32\u001b[39m, \u001b[38;5;28mlen\u001b[39m(args), \u001b[38;5;241m31\u001b[39m):\n\u001b[1;32m    425\u001b[0m     \u001b[38;5;66;03m# ironically, np.broadcast does not properly handle np.broadcast\u001b[39;00m\n\u001b[1;32m    426\u001b[0m     \u001b[38;5;66;03m# objects (it treats them as scalars)\u001b[39;00m\n\u001b[1;32m    427\u001b[0m     \u001b[38;5;66;03m# use broadcasting to avoid allocating the full array\u001b[39;00m\n",
      "\u001b[0;31mValueError\u001b[0m: broadcast dimensions too large."
     ]
    }
   ],
   "source": [
    "v = np.linspace(0, 0.5, 10)\n",
    "d = np.meshgrid(*[v for _ in range(20)])"
   ]
  }
 ],
 "metadata": {
  "kernelspec": {
   "display_name": "Python 3 (ipykernel)",
   "language": "python",
   "name": "python3"
  },
  "language_info": {
   "codemirror_mode": {
    "name": "ipython",
    "version": 3
   },
   "file_extension": ".py",
   "mimetype": "text/x-python",
   "name": "python",
   "nbconvert_exporter": "python",
   "pygments_lexer": "ipython3",
   "version": "3.8.10"
  }
 },
 "nbformat": 4,
 "nbformat_minor": 5
}
